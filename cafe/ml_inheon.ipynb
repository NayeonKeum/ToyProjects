{
  "nbformat": 4,
  "nbformat_minor": 0,
  "metadata": {
    "colab": {
      "name": "ml_inheon.ipynb",
      "provenance": [],
      "collapsed_sections": [],
      "mount_file_id": "1pCBXf7XmJTHEBxj00nVzzJC3bz225YBm",
      "authorship_tag": "ABX9TyOtvfePTKsfvUAWmE9AUJO0",
      "include_colab_link": true
    },
    "kernelspec": {
      "name": "python3",
      "display_name": "Python 3"
    }
  },
  "cells": [
    {
      "cell_type": "markdown",
      "metadata": {
        "id": "view-in-github",
        "colab_type": "text"
      },
      "source": [
        "<a href=\"https://colab.research.google.com/github/NayeonKeum/ToyProjects/blob/master/cafe/ml_inheon.ipynb\" target=\"_parent\"><img src=\"https://colab.research.google.com/assets/colab-badge.svg\" alt=\"Open In Colab\"/></a>"
      ]
    },
    {
      "cell_type": "code",
      "metadata": {
        "id": "gWMhVBwa4btj"
      },
      "source": [
        "from sklearn.neighbors import KNeighborsClassifier\n",
        "from sklearn.tree import DecisionTreeClassifier\n",
        "from sklearn.ensemble import RandomForestClassifier\n",
        "from sklearn.naive_bayes import GaussianNB\n",
        "from sklearn.svm import SVC\n",
        "\n",
        "import numpy as np"
      ],
      "execution_count": null,
      "outputs": []
    },
    {
      "cell_type": "code",
      "metadata": {
        "id": "gwz8xKbI5LZd"
      },
      "source": [
        "import pandas as pd\n"
      ],
      "execution_count": null,
      "outputs": []
    },
    {
      "cell_type": "code",
      "metadata": {
        "id": "w5PGxmjl4xF6"
      },
      "source": [
        "test=pd.read_csv(\"/content/drive/My Drive/Colab Notebooks/data_2020cafe/test_inheo.csv\")\n",
        "train_data=pd.read_csv(\"/content/drive/My Drive/Colab Notebooks/data_2020cafe/train_data_inheo.csv\")\n",
        "train=pd.read_csv(\"/content/drive/My Drive/Colab Notebooks/data_2020cafe/train_inheo.csv\")"
      ],
      "execution_count": null,
      "outputs": []
    },
    {
      "cell_type": "code",
      "metadata": {
        "id": "SryFRSts6Fyq"
      },
      "source": [
        "target=train['성공여부']"
      ],
      "execution_count": null,
      "outputs": []
    },
    {
      "cell_type": "code",
      "metadata": {
        "colab": {
          "base_uri": "https://localhost:8080/"
        },
        "id": "wq-hIapL5Fub",
        "outputId": "ec85d334-eb78-4b7a-eba4-2e974d3e7310"
      },
      "source": [
        "train.info()"
      ],
      "execution_count": null,
      "outputs": [
        {
          "output_type": "stream",
          "text": [
            "<class 'pandas.core.frame.DataFrame'>\n",
            "RangeIndex: 21055 entries, 0 to 21054\n",
            "Data columns (total 9 columns):\n",
            " #   Column      Non-Null Count  Dtype  \n",
            "---  ------      --------------  -----  \n",
            " 0   Unnamed: 0  21055 non-null  int64  \n",
            " 1   시설총규모       21055 non-null  float64\n",
            " 2   업소위치분기      21055 non-null  int64  \n",
            " 3   distance    21055 non-null  float64\n",
            " 4   성공여부        21055 non-null  int64  \n",
            " 5   창업월         21055 non-null  int64  \n",
            " 6   구_1_25      21055 non-null  int64  \n",
            " 7   프랜차이즈여부_02  21055 non-null  int64  \n",
            " 8   sub_19      21055 non-null  int64  \n",
            "dtypes: float64(2), int64(7)\n",
            "memory usage: 1.4 MB\n"
          ],
          "name": "stdout"
        }
      ]
    },
    {
      "cell_type": "code",
      "metadata": {
        "colab": {
          "base_uri": "https://localhost:8080/"
        },
        "id": "fjUxoFLPA5ds",
        "outputId": "7bec0566-0af4-4597-c65b-8191fea2aef8"
      },
      "source": [
        "train_data.info()"
      ],
      "execution_count": null,
      "outputs": [
        {
          "output_type": "stream",
          "text": [
            "<class 'pandas.core.frame.DataFrame'>\n",
            "RangeIndex: 21055 entries, 0 to 21054\n",
            "Data columns (total 8 columns):\n",
            " #   Column      Non-Null Count  Dtype  \n",
            "---  ------      --------------  -----  \n",
            " 0   Unnamed: 0  21055 non-null  int64  \n",
            " 1   시설총규모       21055 non-null  float64\n",
            " 2   업소위치분기      21055 non-null  int64  \n",
            " 3   distance    21055 non-null  float64\n",
            " 4   창업월         21055 non-null  int64  \n",
            " 5   구_1_25      21055 non-null  int64  \n",
            " 6   프랜차이즈여부_02  21055 non-null  int64  \n",
            " 7   sub_19      21055 non-null  int64  \n",
            "dtypes: float64(2), int64(6)\n",
            "memory usage: 1.3 MB\n"
          ],
          "name": "stdout"
        }
      ]
    },
    {
      "cell_type": "code",
      "metadata": {
        "colab": {
          "base_uri": "https://localhost:8080/"
        },
        "id": "RY4nQ9N3A8ct",
        "outputId": "96a65d69-03ea-4f65-ab13-03c1326b6801"
      },
      "source": [
        "test.info()"
      ],
      "execution_count": null,
      "outputs": [
        {
          "output_type": "stream",
          "text": [
            "<class 'pandas.core.frame.DataFrame'>\n",
            "RangeIndex: 9024 entries, 0 to 9023\n",
            "Data columns (total 10 columns):\n",
            " #   Column      Non-Null Count  Dtype  \n",
            "---  ------      --------------  -----  \n",
            " 0   Unnamed: 0  9024 non-null   int64  \n",
            " 1   사업장명        9024 non-null   object \n",
            " 2   시설총규모       9024 non-null   float64\n",
            " 3   업소위치분기      9024 non-null   int64  \n",
            " 4   distance    9024 non-null   float64\n",
            " 5   성공여부        9024 non-null   int64  \n",
            " 6   창업월         9024 non-null   int64  \n",
            " 7   구_1_25      9024 non-null   int64  \n",
            " 8   프랜차이즈여부_02  9024 non-null   int64  \n",
            " 9   sub_19      9024 non-null   int64  \n",
            "dtypes: float64(2), int64(7), object(1)\n",
            "memory usage: 705.1+ KB\n"
          ],
          "name": "stdout"
        }
      ]
    },
    {
      "cell_type": "code",
      "metadata": {
        "id": "bH1zOUv45YCr"
      },
      "source": [
        "from sklearn.model_selection import KFold\n",
        "from sklearn.model_selection import cross_val_score\n",
        "k_fold=KFold(n_splits=10, shuffle=True, random_state=0)"
      ],
      "execution_count": null,
      "outputs": []
    },
    {
      "cell_type": "code",
      "metadata": {
        "colab": {
          "base_uri": "https://localhost:8080/"
        },
        "id": "_fDXZHPx5rPi",
        "outputId": "0f2ad3f6-b373-419a-e8fc-b604d7f8e1f1"
      },
      "source": [
        "#kNN\n",
        "clf=KNeighborsClassifier(n_neighbors=4)#개 높은데 일단 보류\n",
        "scoring='accuracy'\n",
        "score=cross_val_score(clf, train_data, target, cv=k_fold, n_jobs=1, scoring=scoring)\n",
        "print(score)"
      ],
      "execution_count": null,
      "outputs": [
        {
          "output_type": "stream",
          "text": [
            "[0.62725546 0.62630579 0.61965812 0.62583096 0.64150047 0.61377672\n",
            " 0.62327791 0.61472684 0.63372922 0.63942993]\n"
          ],
          "name": "stdout"
        }
      ]
    },
    {
      "cell_type": "code",
      "metadata": {
        "colab": {
          "base_uri": "https://localhost:8080/"
        },
        "id": "ukmgX6mO58jO",
        "outputId": "b8f9396c-87a3-4133-f83d-487e7499ad14"
      },
      "source": [
        "round(np.mean(score)*100,2)"
      ],
      "execution_count": null,
      "outputs": [
        {
          "output_type": "execute_result",
          "data": {
            "text/plain": [
              "62.65"
            ]
          },
          "metadata": {
            "tags": []
          },
          "execution_count": 244
        }
      ]
    },
    {
      "cell_type": "code",
      "metadata": {
        "colab": {
          "base_uri": "https://localhost:8080/"
        },
        "id": "WWEJkRcwFnB9",
        "outputId": "579c0704-f791-4a72-f74b-d7639acab476"
      },
      "source": [
        "#decision tree\n",
        "clf=DecisionTreeClassifier(max_depth=5)# 프루닝을 해서 정확도 상승\n",
        "scoring='accuracy'\n",
        "score=cross_val_score(clf, train_data, target, cv=k_fold, n_jobs=1, scoring=scoring)\n",
        "print(score)"
      ],
      "execution_count": null,
      "outputs": [
        {
          "output_type": "stream",
          "text": [
            "[0.7345679  0.7374169  0.7302944  0.74406458 0.74311491 0.73539192\n",
            " 0.73349169 0.74394299 0.74774347 0.72114014]\n"
          ],
          "name": "stdout"
        }
      ]
    },
    {
      "cell_type": "code",
      "metadata": {
        "colab": {
          "base_uri": "https://localhost:8080/"
        },
        "id": "py2jl7suF2Ru",
        "outputId": "0723eeec-4fc1-4d12-babe-8698f48dd133"
      },
      "source": [
        "round(np.mean(score)*100,2)"
      ],
      "execution_count": null,
      "outputs": [
        {
          "output_type": "execute_result",
          "data": {
            "text/plain": [
              "73.71"
            ]
          },
          "metadata": {
            "tags": []
          },
          "execution_count": 270
        }
      ]
    },
    {
      "cell_type": "code",
      "metadata": {
        "colab": {
          "base_uri": "https://localhost:8080/"
        },
        "id": "0sMKeYE4F4VL",
        "outputId": "7a15cd4a-6030-404c-b7d2-885776079912"
      },
      "source": [
        "#random forest\n",
        "clf=RandomForestClassifier(n_estimators=3,max_depth=5)# 프루닝을 해서 정확도 상승\n",
        "scoring='accuracy'\n",
        "score=cross_val_score(clf, train_data, target, cv=k_fold, n_jobs=1, scoring=scoring)\n",
        "print(score)"
      ],
      "execution_count": null,
      "outputs": [
        {
          "output_type": "stream",
          "text": [
            "[0.73694207 0.7331434  0.73076923 0.74311491 0.75356125 0.73396675\n",
            " 0.72209026 0.74204276 0.74536817 0.72351544]\n"
          ],
          "name": "stdout"
        }
      ]
    },
    {
      "cell_type": "code",
      "metadata": {
        "colab": {
          "base_uri": "https://localhost:8080/"
        },
        "id": "qD-syGD6GEOW",
        "outputId": "b7d59470-f90a-4251-a898-af3b8b179cbb"
      },
      "source": [
        "round(np.mean(score)*100,2)"
      ],
      "execution_count": null,
      "outputs": [
        {
          "output_type": "execute_result",
          "data": {
            "text/plain": [
              "73.65"
            ]
          },
          "metadata": {
            "tags": []
          },
          "execution_count": 280
        }
      ]
    },
    {
      "cell_type": "code",
      "metadata": {
        "colab": {
          "base_uri": "https://localhost:8080/"
        },
        "id": "OWY6FoJEGIw5",
        "outputId": "ef216937-1834-44e1-d985-234dd22dbb5a"
      },
      "source": [
        "#naive bayes\n",
        "clf=GaussianNB()\n",
        "scoring='accuracy'\n",
        "score=cross_val_score(clf, train_data, target, cv=k_fold, n_jobs=1, scoring=scoring)\n",
        "print(score)"
      ],
      "execution_count": null,
      "outputs": [
        {
          "output_type": "stream",
          "text": [
            "[0.71035138 0.71272555 0.70797721 0.72032289 0.73504274 0.71733967\n",
            " 0.70546318 0.71638955 0.43182898 0.70973872]\n"
          ],
          "name": "stdout"
        }
      ]
    },
    {
      "cell_type": "code",
      "metadata": {
        "colab": {
          "base_uri": "https://localhost:8080/"
        },
        "id": "i3HCsZGyGeCj",
        "outputId": "9db2a02f-1ba1-4da5-dbc9-953a1ba81aba"
      },
      "source": [
        "round(np.mean(score)*100,2)"
      ],
      "execution_count": null,
      "outputs": [
        {
          "output_type": "execute_result",
          "data": {
            "text/plain": [
              "68.67"
            ]
          },
          "metadata": {
            "tags": []
          },
          "execution_count": 250
        }
      ]
    },
    {
      "cell_type": "code",
      "metadata": {
        "colab": {
          "base_uri": "https://localhost:8080/"
        },
        "id": "oLpocIxKGuih",
        "outputId": "59d021a7-e563-4761-d336-9a32fa11357d"
      },
      "source": [
        "#svm\n",
        "clf=SVC()\n",
        "scoring='accuracy'\n",
        "score=cross_val_score(clf, train_data, target, cv=k_fold, n_jobs=1, scoring=scoring)\n",
        "print(score)"
      ],
      "execution_count": null,
      "outputs": [
        {
          "output_type": "stream",
          "text": [
            "[0.72649573 0.72459639 0.71937322 0.72981956 0.74216524 0.72684086\n",
            " 0.72019002 0.73016627 0.74204276 0.71258907]\n"
          ],
          "name": "stdout"
        }
      ]
    },
    {
      "cell_type": "code",
      "metadata": {
        "colab": {
          "base_uri": "https://localhost:8080/"
        },
        "id": "jNKYn5vYG2C0",
        "outputId": "a954615d-2627-415b-9ee7-c9728a01769b"
      },
      "source": [
        "round(np.mean(score)*100,2)"
      ],
      "execution_count": null,
      "outputs": [
        {
          "output_type": "execute_result",
          "data": {
            "text/plain": [
              "72.74"
            ]
          },
          "metadata": {
            "tags": []
          },
          "execution_count": 252
        }
      ]
    },
    {
      "cell_type": "code",
      "metadata": {
        "colab": {
          "base_uri": "https://localhost:8080/"
        },
        "id": "QoaObEtdyzEs",
        "outputId": "781b53fe-5563-45de-f94a-88ef33e4b23b"
      },
      "source": [
        "train_data.info()"
      ],
      "execution_count": null,
      "outputs": [
        {
          "output_type": "stream",
          "text": [
            "<class 'pandas.core.frame.DataFrame'>\n",
            "RangeIndex: 21055 entries, 0 to 21054\n",
            "Data columns (total 8 columns):\n",
            " #   Column      Non-Null Count  Dtype  \n",
            "---  ------      --------------  -----  \n",
            " 0   Unnamed: 0  21055 non-null  int64  \n",
            " 1   시설총규모       21055 non-null  float64\n",
            " 2   업소위치분기      21055 non-null  int64  \n",
            " 3   distance    21055 non-null  float64\n",
            " 4   창업월         21055 non-null  int64  \n",
            " 5   구_1_25      21055 non-null  int64  \n",
            " 6   프랜차이즈여부_02  21055 non-null  int64  \n",
            " 7   sub_19      21055 non-null  int64  \n",
            "dtypes: float64(2), int64(6)\n",
            "memory usage: 1.3 MB\n"
          ],
          "name": "stdout"
        }
      ]
    },
    {
      "cell_type": "code",
      "metadata": {
        "id": "LQKokWhOHzx8"
      },
      "source": [
        "'''\n",
        "#test!!-decision tree\n",
        "clf=DecisionTreeClassifier()#max_depth=5)#\n",
        "clf.fit(train_data,target)\n",
        "test_data=test.drop(['사업장명','성공여부'], axis=1).copy()\n",
        "prediction=clf.predict(test_data)\n",
        "'''"
      ],
      "execution_count": null,
      "outputs": []
    },
    {
      "cell_type": "code",
      "metadata": {
        "id": "mRYTNqhMwqvq"
      },
      "source": [
        "\n",
        "#rf\n",
        "clf=RandomForestClassifier(n_estimators=5)#,max_depth=5)\n",
        "clf.fit(train_data,target)\n",
        "scoring='accuracy'\n",
        "test_data=test.drop(['사업장명','성공여부'], axis=1).copy()\n",
        "prediction=clf.predict(test_data)"
      ],
      "execution_count": null,
      "outputs": []
    },
    {
      "cell_type": "code",
      "metadata": {
        "id": "9zJCuiIXJj8t"
      },
      "source": [
        "submission=pd.DataFrame({'사업장명':test['사업장명'],\"성공\":prediction})\n",
        "submission.to_csv('/content/drive/My Drive/Colab Notebooks/data_2020cafe/submission_inheo.csv',index=False)\n",
        "\n"
      ],
      "execution_count": null,
      "outputs": []
    },
    {
      "cell_type": "code",
      "metadata": {
        "colab": {
          "base_uri": "https://localhost:8080/",
          "height": 204
        },
        "id": "wZVtQEBXJqY6",
        "outputId": "ff023d00-4575-4f2b-ef4b-f6aeb19bd8fe"
      },
      "source": [
        "submission=pd.read_csv('/content/drive/My Drive/Colab Notebooks/data_2020cafe/submission_inheo.csv')\n",
        "submission.head()"
      ],
      "execution_count": null,
      "outputs": [
        {
          "output_type": "execute_result",
          "data": {
            "text/html": [
              "<div>\n",
              "<style scoped>\n",
              "    .dataframe tbody tr th:only-of-type {\n",
              "        vertical-align: middle;\n",
              "    }\n",
              "\n",
              "    .dataframe tbody tr th {\n",
              "        vertical-align: top;\n",
              "    }\n",
              "\n",
              "    .dataframe thead th {\n",
              "        text-align: right;\n",
              "    }\n",
              "</style>\n",
              "<table border=\"1\" class=\"dataframe\">\n",
              "  <thead>\n",
              "    <tr style=\"text-align: right;\">\n",
              "      <th></th>\n",
              "      <th>사업장명</th>\n",
              "      <th>성공</th>\n",
              "    </tr>\n",
              "  </thead>\n",
              "  <tbody>\n",
              "    <tr>\n",
              "      <th>0</th>\n",
              "      <td>갈채다방</td>\n",
              "      <td>1</td>\n",
              "    </tr>\n",
              "    <tr>\n",
              "      <th>1</th>\n",
              "      <td>텀브커피 무교동점</td>\n",
              "      <td>1</td>\n",
              "    </tr>\n",
              "    <tr>\n",
              "      <th>2</th>\n",
              "      <td>더카페엔여의도백화점점</td>\n",
              "      <td>1</td>\n",
              "    </tr>\n",
              "    <tr>\n",
              "      <th>3</th>\n",
              "      <td>바이올렛에스프레소</td>\n",
              "      <td>1</td>\n",
              "    </tr>\n",
              "    <tr>\n",
              "      <th>4</th>\n",
              "      <td>카슈카슈</td>\n",
              "      <td>1</td>\n",
              "    </tr>\n",
              "  </tbody>\n",
              "</table>\n",
              "</div>"
            ],
            "text/plain": [
              "          사업장명  성공\n",
              "0         갈채다방   1\n",
              "1    텀브커피 무교동점   1\n",
              "2  더카페엔여의도백화점점   1\n",
              "3    바이올렛에스프레소   1\n",
              "4         카슈카슈   1"
            ]
          },
          "metadata": {
            "tags": []
          },
          "execution_count": 333
        }
      ]
    },
    {
      "cell_type": "code",
      "metadata": {
        "colab": {
          "base_uri": "https://localhost:8080/"
        },
        "id": "EpgoGdADKmPh",
        "outputId": "bbf49db0-1a13-4cb9-e084-c5e57b73fa3a"
      },
      "source": [
        "submission.info()"
      ],
      "execution_count": null,
      "outputs": [
        {
          "output_type": "stream",
          "text": [
            "<class 'pandas.core.frame.DataFrame'>\n",
            "RangeIndex: 9024 entries, 0 to 9023\n",
            "Data columns (total 2 columns):\n",
            " #   Column  Non-Null Count  Dtype \n",
            "---  ------  --------------  ----- \n",
            " 0   사업장명    9024 non-null   object\n",
            " 1   성공      9024 non-null   int64 \n",
            "dtypes: int64(1), object(1)\n",
            "memory usage: 141.1+ KB\n"
          ],
          "name": "stdout"
        }
      ]
    },
    {
      "cell_type": "code",
      "metadata": {
        "colab": {
          "base_uri": "https://localhost:8080/"
        },
        "id": "KxHzuszoLFkx",
        "outputId": "6d929f31-bd26-4743-d282-addbb8f64e8c"
      },
      "source": [
        "test.info()"
      ],
      "execution_count": null,
      "outputs": [
        {
          "output_type": "stream",
          "text": [
            "<class 'pandas.core.frame.DataFrame'>\n",
            "RangeIndex: 9024 entries, 0 to 9023\n",
            "Data columns (total 10 columns):\n",
            " #   Column      Non-Null Count  Dtype  \n",
            "---  ------      --------------  -----  \n",
            " 0   Unnamed: 0  9024 non-null   int64  \n",
            " 1   사업장명        9024 non-null   object \n",
            " 2   시설총규모       9024 non-null   float64\n",
            " 3   업소위치분기      9024 non-null   int64  \n",
            " 4   distance    9024 non-null   float64\n",
            " 5   성공여부        9024 non-null   int64  \n",
            " 6   창업월         9024 non-null   int64  \n",
            " 7   구_1_25      9024 non-null   int64  \n",
            " 8   프랜차이즈여부_02  9024 non-null   int64  \n",
            " 9   sub_19      9024 non-null   int64  \n",
            "dtypes: float64(2), int64(7), object(1)\n",
            "memory usage: 705.1+ KB\n"
          ],
          "name": "stdout"
        }
      ]
    },
    {
      "cell_type": "code",
      "metadata": {
        "id": "5yuLwjpzLHFy"
      },
      "source": [
        "sub=pd.DataFrame(submission['성공'])\n",
        "testy=pd.DataFrame(test['성공여부'])"
      ],
      "execution_count": null,
      "outputs": []
    },
    {
      "cell_type": "code",
      "metadata": {
        "colab": {
          "base_uri": "https://localhost:8080/",
          "height": 567
        },
        "id": "YbwHXSkUL8eJ",
        "outputId": "a7e0f4db-aab2-40fd-c44a-57ddf1de4e57"
      },
      "source": [
        "sub.info()\n",
        "sub"
      ],
      "execution_count": null,
      "outputs": [
        {
          "output_type": "stream",
          "text": [
            "<class 'pandas.core.frame.DataFrame'>\n",
            "RangeIndex: 9024 entries, 0 to 9023\n",
            "Data columns (total 1 columns):\n",
            " #   Column  Non-Null Count  Dtype\n",
            "---  ------  --------------  -----\n",
            " 0   성공      9024 non-null   int64\n",
            "dtypes: int64(1)\n",
            "memory usage: 70.6 KB\n"
          ],
          "name": "stdout"
        },
        {
          "output_type": "execute_result",
          "data": {
            "text/html": [
              "<div>\n",
              "<style scoped>\n",
              "    .dataframe tbody tr th:only-of-type {\n",
              "        vertical-align: middle;\n",
              "    }\n",
              "\n",
              "    .dataframe tbody tr th {\n",
              "        vertical-align: top;\n",
              "    }\n",
              "\n",
              "    .dataframe thead th {\n",
              "        text-align: right;\n",
              "    }\n",
              "</style>\n",
              "<table border=\"1\" class=\"dataframe\">\n",
              "  <thead>\n",
              "    <tr style=\"text-align: right;\">\n",
              "      <th></th>\n",
              "      <th>성공</th>\n",
              "    </tr>\n",
              "  </thead>\n",
              "  <tbody>\n",
              "    <tr>\n",
              "      <th>0</th>\n",
              "      <td>1</td>\n",
              "    </tr>\n",
              "    <tr>\n",
              "      <th>1</th>\n",
              "      <td>1</td>\n",
              "    </tr>\n",
              "    <tr>\n",
              "      <th>2</th>\n",
              "      <td>1</td>\n",
              "    </tr>\n",
              "    <tr>\n",
              "      <th>3</th>\n",
              "      <td>1</td>\n",
              "    </tr>\n",
              "    <tr>\n",
              "      <th>4</th>\n",
              "      <td>1</td>\n",
              "    </tr>\n",
              "    <tr>\n",
              "      <th>...</th>\n",
              "      <td>...</td>\n",
              "    </tr>\n",
              "    <tr>\n",
              "      <th>9019</th>\n",
              "      <td>1</td>\n",
              "    </tr>\n",
              "    <tr>\n",
              "      <th>9020</th>\n",
              "      <td>1</td>\n",
              "    </tr>\n",
              "    <tr>\n",
              "      <th>9021</th>\n",
              "      <td>1</td>\n",
              "    </tr>\n",
              "    <tr>\n",
              "      <th>9022</th>\n",
              "      <td>1</td>\n",
              "    </tr>\n",
              "    <tr>\n",
              "      <th>9023</th>\n",
              "      <td>1</td>\n",
              "    </tr>\n",
              "  </tbody>\n",
              "</table>\n",
              "<p>9024 rows × 1 columns</p>\n",
              "</div>"
            ],
            "text/plain": [
              "      성공\n",
              "0      1\n",
              "1      1\n",
              "2      1\n",
              "3      1\n",
              "4      1\n",
              "...   ..\n",
              "9019   1\n",
              "9020   1\n",
              "9021   1\n",
              "9022   1\n",
              "9023   1\n",
              "\n",
              "[9024 rows x 1 columns]"
            ]
          },
          "metadata": {
            "tags": []
          },
          "execution_count": 337
        }
      ]
    },
    {
      "cell_type": "code",
      "metadata": {
        "colab": {
          "base_uri": "https://localhost:8080/",
          "height": 420
        },
        "id": "_xKDA-2hO77V",
        "outputId": "a962c36a-cb4f-48d4-b699-374c63411c6f"
      },
      "source": [
        "#testy=testy.reset_index(drop=True)\n",
        "testy"
      ],
      "execution_count": null,
      "outputs": [
        {
          "output_type": "execute_result",
          "data": {
            "text/html": [
              "<div>\n",
              "<style scoped>\n",
              "    .dataframe tbody tr th:only-of-type {\n",
              "        vertical-align: middle;\n",
              "    }\n",
              "\n",
              "    .dataframe tbody tr th {\n",
              "        vertical-align: top;\n",
              "    }\n",
              "\n",
              "    .dataframe thead th {\n",
              "        text-align: right;\n",
              "    }\n",
              "</style>\n",
              "<table border=\"1\" class=\"dataframe\">\n",
              "  <thead>\n",
              "    <tr style=\"text-align: right;\">\n",
              "      <th></th>\n",
              "      <th>성공여부</th>\n",
              "    </tr>\n",
              "  </thead>\n",
              "  <tbody>\n",
              "    <tr>\n",
              "      <th>0</th>\n",
              "      <td>1</td>\n",
              "    </tr>\n",
              "    <tr>\n",
              "      <th>1</th>\n",
              "      <td>0</td>\n",
              "    </tr>\n",
              "    <tr>\n",
              "      <th>2</th>\n",
              "      <td>1</td>\n",
              "    </tr>\n",
              "    <tr>\n",
              "      <th>3</th>\n",
              "      <td>1</td>\n",
              "    </tr>\n",
              "    <tr>\n",
              "      <th>4</th>\n",
              "      <td>1</td>\n",
              "    </tr>\n",
              "    <tr>\n",
              "      <th>...</th>\n",
              "      <td>...</td>\n",
              "    </tr>\n",
              "    <tr>\n",
              "      <th>9019</th>\n",
              "      <td>1</td>\n",
              "    </tr>\n",
              "    <tr>\n",
              "      <th>9020</th>\n",
              "      <td>1</td>\n",
              "    </tr>\n",
              "    <tr>\n",
              "      <th>9021</th>\n",
              "      <td>1</td>\n",
              "    </tr>\n",
              "    <tr>\n",
              "      <th>9022</th>\n",
              "      <td>1</td>\n",
              "    </tr>\n",
              "    <tr>\n",
              "      <th>9023</th>\n",
              "      <td>1</td>\n",
              "    </tr>\n",
              "  </tbody>\n",
              "</table>\n",
              "<p>9024 rows × 1 columns</p>\n",
              "</div>"
            ],
            "text/plain": [
              "      성공여부\n",
              "0        1\n",
              "1        0\n",
              "2        1\n",
              "3        1\n",
              "4        1\n",
              "...    ...\n",
              "9019     1\n",
              "9020     1\n",
              "9021     1\n",
              "9022     1\n",
              "9023     1\n",
              "\n",
              "[9024 rows x 1 columns]"
            ]
          },
          "metadata": {
            "tags": []
          },
          "execution_count": 338
        }
      ]
    },
    {
      "cell_type": "code",
      "metadata": {
        "colab": {
          "base_uri": "https://localhost:8080/",
          "height": 420
        },
        "id": "vKC71EQINYUB",
        "outputId": "9abe4ca3-bcde-4a55-c524-2d2c128c999a"
      },
      "source": [
        "df=pd.concat([sub, testy],axis=1)\n",
        "df"
      ],
      "execution_count": null,
      "outputs": [
        {
          "output_type": "execute_result",
          "data": {
            "text/html": [
              "<div>\n",
              "<style scoped>\n",
              "    .dataframe tbody tr th:only-of-type {\n",
              "        vertical-align: middle;\n",
              "    }\n",
              "\n",
              "    .dataframe tbody tr th {\n",
              "        vertical-align: top;\n",
              "    }\n",
              "\n",
              "    .dataframe thead th {\n",
              "        text-align: right;\n",
              "    }\n",
              "</style>\n",
              "<table border=\"1\" class=\"dataframe\">\n",
              "  <thead>\n",
              "    <tr style=\"text-align: right;\">\n",
              "      <th></th>\n",
              "      <th>성공</th>\n",
              "      <th>성공여부</th>\n",
              "    </tr>\n",
              "  </thead>\n",
              "  <tbody>\n",
              "    <tr>\n",
              "      <th>0</th>\n",
              "      <td>1</td>\n",
              "      <td>1</td>\n",
              "    </tr>\n",
              "    <tr>\n",
              "      <th>1</th>\n",
              "      <td>1</td>\n",
              "      <td>0</td>\n",
              "    </tr>\n",
              "    <tr>\n",
              "      <th>2</th>\n",
              "      <td>1</td>\n",
              "      <td>1</td>\n",
              "    </tr>\n",
              "    <tr>\n",
              "      <th>3</th>\n",
              "      <td>1</td>\n",
              "      <td>1</td>\n",
              "    </tr>\n",
              "    <tr>\n",
              "      <th>4</th>\n",
              "      <td>1</td>\n",
              "      <td>1</td>\n",
              "    </tr>\n",
              "    <tr>\n",
              "      <th>...</th>\n",
              "      <td>...</td>\n",
              "      <td>...</td>\n",
              "    </tr>\n",
              "    <tr>\n",
              "      <th>9019</th>\n",
              "      <td>1</td>\n",
              "      <td>1</td>\n",
              "    </tr>\n",
              "    <tr>\n",
              "      <th>9020</th>\n",
              "      <td>1</td>\n",
              "      <td>1</td>\n",
              "    </tr>\n",
              "    <tr>\n",
              "      <th>9021</th>\n",
              "      <td>1</td>\n",
              "      <td>1</td>\n",
              "    </tr>\n",
              "    <tr>\n",
              "      <th>9022</th>\n",
              "      <td>1</td>\n",
              "      <td>1</td>\n",
              "    </tr>\n",
              "    <tr>\n",
              "      <th>9023</th>\n",
              "      <td>1</td>\n",
              "      <td>1</td>\n",
              "    </tr>\n",
              "  </tbody>\n",
              "</table>\n",
              "<p>9024 rows × 2 columns</p>\n",
              "</div>"
            ],
            "text/plain": [
              "      성공  성공여부\n",
              "0      1     1\n",
              "1      1     0\n",
              "2      1     1\n",
              "3      1     1\n",
              "4      1     1\n",
              "...   ..   ...\n",
              "9019   1     1\n",
              "9020   1     1\n",
              "9021   1     1\n",
              "9022   1     1\n",
              "9023   1     1\n",
              "\n",
              "[9024 rows x 2 columns]"
            ]
          },
          "metadata": {
            "tags": []
          },
          "execution_count": 339
        }
      ]
    },
    {
      "cell_type": "code",
      "metadata": {
        "id": "tiVpDej1Onn7"
      },
      "source": [
        "df['scorey']=(df['성공']==df['성공여부'])"
      ],
      "execution_count": null,
      "outputs": []
    },
    {
      "cell_type": "code",
      "metadata": {
        "colab": {
          "base_uri": "https://localhost:8080/"
        },
        "id": "k8e0Mr9MRIMK",
        "outputId": "93269476-54ed-41e7-bf8c-47c3b0f6c902"
      },
      "source": [
        "df['scorey'].value_counts()"
      ],
      "execution_count": null,
      "outputs": [
        {
          "output_type": "execute_result",
          "data": {
            "text/plain": [
              "True     7937\n",
              "False    1087\n",
              "Name: scorey, dtype: int64"
            ]
          },
          "metadata": {
            "tags": []
          },
          "execution_count": 341
        }
      ]
    },
    {
      "cell_type": "code",
      "metadata": {
        "id": "sxGGkR_wRMql",
        "colab": {
          "base_uri": "https://localhost:8080/"
        },
        "outputId": "14725046-dc46-4a78-e9fc-1ae046b859a9"
      },
      "source": [
        "print(\"제 점수는 : \",7937/9024*100)"
      ],
      "execution_count": null,
      "outputs": [
        {
          "output_type": "stream",
          "text": [
            "제 점수는 :  87.9543439716312\n"
          ],
          "name": "stdout"
        }
      ]
    },
    {
      "cell_type": "code",
      "metadata": {
        "id": "HZABUHK6R0QJ"
      },
      "source": [
        ""
      ],
      "execution_count": null,
      "outputs": []
    }
  ]
}