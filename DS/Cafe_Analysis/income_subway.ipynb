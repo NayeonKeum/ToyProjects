{
  "nbformat": 4,
  "nbformat_minor": 0,
  "metadata": {
    "colab": {
      "name": "income_subway.ipynb",
      "provenance": [],
      "collapsed_sections": [],
      "mount_file_id": "1HH_LCn_sfFqqjU7nIplsgkB0xrkP5swE",
      "authorship_tag": "ABX9TyMnlnxV1eZZJVJf98ioa5Pq",
      "include_colab_link": true
    },
    "kernelspec": {
      "name": "python3",
      "display_name": "Python 3"
    }
  },
  "cells": [
    {
      "cell_type": "markdown",
      "metadata": {
        "id": "view-in-github",
        "colab_type": "text"
      },
      "source": [
        "<a href=\"https://colab.research.google.com/github/NayeonKeum/ToyProjects/blob/master/cafe/income_subway.ipynb\" target=\"_parent\"><img src=\"https://colab.research.google.com/assets/colab-badge.svg\" alt=\"Open In Colab\"/></a>"
      ]
    },
    {
      "cell_type": "code",
      "metadata": {
        "colab": {
          "base_uri": "https://localhost:8080/"
        },
        "id": "ArldeY_A-CvB",
        "outputId": "1b683b71-8654-4c5b-bfac-84e4d045aa22"
      },
      "source": [
        "!sudo apt-get install -y fonts-nanum\n",
        "!sudo fc-cache -fv\n",
        "!rm ~/.cache/matplotlib -rf\n",
        "\n",
        "import matplotlib.pyplot as plt\n",
        "plt.rc('font', family='NanumBarunGothic') "
      ],
      "execution_count": null,
      "outputs": [
        {
          "output_type": "stream",
          "text": [
            "Reading package lists... Done\n",
            "Building dependency tree       \n",
            "Reading state information... Done\n",
            "fonts-nanum is already the newest version (20170925-1).\n",
            "0 upgraded, 0 newly installed, 0 to remove and 14 not upgraded.\n",
            "/usr/share/fonts: caching, new cache contents: 0 fonts, 1 dirs\n",
            "/usr/share/fonts/truetype: caching, new cache contents: 0 fonts, 3 dirs\n",
            "/usr/share/fonts/truetype/humor-sans: caching, new cache contents: 1 fonts, 0 dirs\n",
            "/usr/share/fonts/truetype/liberation: caching, new cache contents: 16 fonts, 0 dirs\n",
            "/usr/share/fonts/truetype/nanum: caching, new cache contents: 10 fonts, 0 dirs\n",
            "/usr/local/share/fonts: caching, new cache contents: 0 fonts, 0 dirs\n",
            "/root/.local/share/fonts: skipping, no such directory\n",
            "/root/.fonts: skipping, no such directory\n",
            "/var/cache/fontconfig: cleaning cache directory\n",
            "/root/.cache/fontconfig: not cleaning non-existent cache directory\n",
            "/root/.fontconfig: not cleaning non-existent cache directory\n",
            "fc-cache: succeeded\n"
          ],
          "name": "stdout"
        }
      ]
    },
    {
      "cell_type": "code",
      "metadata": {
        "id": "0Un7HnO8GMgQ"
      },
      "source": [
        "import pandas as pd\n",
        "import numpy as np\n",
        "\n",
        "data=pd.read_csv(\"/content/drive/My Drive/Colab Notebooks/data_2020cafe/data_income_inheo.csv\")"
      ],
      "execution_count": null,
      "outputs": []
    },
    {
      "cell_type": "code",
      "metadata": {
        "colab": {
          "base_uri": "https://localhost:8080/",
          "height": 619
        },
        "id": "glIiHU5RGkXs",
        "outputId": "eead22cf-4b97-4a5c-ddfd-da1a0108894c"
      },
      "source": [
        "data.head()"
      ],
      "execution_count": null,
      "outputs": [
        {
          "output_type": "execute_result",
          "data": {
            "text/html": [
              "<div>\n",
              "<style scoped>\n",
              "    .dataframe tbody tr th:only-of-type {\n",
              "        vertical-align: middle;\n",
              "    }\n",
              "\n",
              "    .dataframe tbody tr th {\n",
              "        vertical-align: top;\n",
              "    }\n",
              "\n",
              "    .dataframe thead th {\n",
              "        text-align: right;\n",
              "    }\n",
              "</style>\n",
              "<table border=\"1\" class=\"dataframe\">\n",
              "  <thead>\n",
              "    <tr style=\"text-align: right;\">\n",
              "      <th></th>\n",
              "      <th>Unnamed: 0</th>\n",
              "      <th>자치구명</th>\n",
              "      <th>행정동명</th>\n",
              "      <th>년도</th>\n",
              "      <th>인허가일자</th>\n",
              "      <th>폐업일자</th>\n",
              "      <th>영업상태코드</th>\n",
              "      <th>영업상태명</th>\n",
              "      <th>사업장명</th>\n",
              "      <th>X</th>\n",
              "      <th>Y</th>\n",
              "      <th>시설총규모</th>\n",
              "      <th>규모분기</th>\n",
              "      <th>총층수1</th>\n",
              "      <th>업소위치분기</th>\n",
              "      <th>영업기간</th>\n",
              "      <th>당월_매출_금액</th>\n",
              "      <th>당월_매출_건수</th>\n",
              "      <th>점포수</th>\n",
              "      <th>cluster_id</th>\n",
              "      <th>역이름</th>\n",
              "      <th>SX</th>\n",
              "      <th>SY</th>\n",
              "      <th>호선</th>\n",
              "      <th>distance</th>\n",
              "      <th>d_code</th>\n",
              "    </tr>\n",
              "  </thead>\n",
              "  <tbody>\n",
              "    <tr>\n",
              "      <th>0</th>\n",
              "      <td>8</td>\n",
              "      <td>종로구</td>\n",
              "      <td>종로1.2.3.4가동</td>\n",
              "      <td>1990</td>\n",
              "      <td>1990-04-24</td>\n",
              "      <td>2014-11-24</td>\n",
              "      <td>2</td>\n",
              "      <td>폐업</td>\n",
              "      <td>명 다방</td>\n",
              "      <td>126.986202</td>\n",
              "      <td>37.572381</td>\n",
              "      <td>45.15</td>\n",
              "      <td>5</td>\n",
              "      <td>1.0</td>\n",
              "      <td>1</td>\n",
              "      <td>8980</td>\n",
              "      <td>385169402.0</td>\n",
              "      <td>28637.0</td>\n",
              "      <td>13.0</td>\n",
              "      <td>205.0</td>\n",
              "      <td>종각역</td>\n",
              "      <td>126.983134</td>\n",
              "      <td>37.570222</td>\n",
              "      <td>01호선</td>\n",
              "      <td>0.36159</td>\n",
              "      <td>2</td>\n",
              "    </tr>\n",
              "    <tr>\n",
              "      <th>1</th>\n",
              "      <td>96</td>\n",
              "      <td>종로구</td>\n",
              "      <td>종로1.2.3.4가동</td>\n",
              "      <td>1992</td>\n",
              "      <td>1992-11-27</td>\n",
              "      <td>2020-12-31</td>\n",
              "      <td>1</td>\n",
              "      <td>영업</td>\n",
              "      <td>세운다방</td>\n",
              "      <td>126.993508</td>\n",
              "      <td>37.569335</td>\n",
              "      <td>14.20</td>\n",
              "      <td>1</td>\n",
              "      <td>1.0</td>\n",
              "      <td>1</td>\n",
              "      <td>10261</td>\n",
              "      <td>152473261.0</td>\n",
              "      <td>43013.0</td>\n",
              "      <td>2.0</td>\n",
              "      <td>206.0</td>\n",
              "      <td>종로3가역</td>\n",
              "      <td>126.992144</td>\n",
              "      <td>37.570421</td>\n",
              "      <td>03호선</td>\n",
              "      <td>0.17035</td>\n",
              "      <td>1</td>\n",
              "    </tr>\n",
              "    <tr>\n",
              "      <th>2</th>\n",
              "      <td>153</td>\n",
              "      <td>종로구</td>\n",
              "      <td>종로1.2.3.4가동</td>\n",
              "      <td>1993</td>\n",
              "      <td>1993-09-08</td>\n",
              "      <td>2020-12-31</td>\n",
              "      <td>1</td>\n",
              "      <td>영업</td>\n",
              "      <td>그린파워</td>\n",
              "      <td>126.990956</td>\n",
              "      <td>37.569367</td>\n",
              "      <td>6.00</td>\n",
              "      <td>1</td>\n",
              "      <td>1.0</td>\n",
              "      <td>1</td>\n",
              "      <td>9976</td>\n",
              "      <td>385169402.0</td>\n",
              "      <td>28637.0</td>\n",
              "      <td>13.0</td>\n",
              "      <td>206.0</td>\n",
              "      <td>종로3가역</td>\n",
              "      <td>126.992144</td>\n",
              "      <td>37.570421</td>\n",
              "      <td>03호선</td>\n",
              "      <td>0.15715</td>\n",
              "      <td>1</td>\n",
              "    </tr>\n",
              "    <tr>\n",
              "      <th>3</th>\n",
              "      <td>165</td>\n",
              "      <td>종로구</td>\n",
              "      <td>종로1.2.3.4가동</td>\n",
              "      <td>1993</td>\n",
              "      <td>1993-11-01</td>\n",
              "      <td>2020-12-31</td>\n",
              "      <td>1</td>\n",
              "      <td>영업</td>\n",
              "      <td>영풍개발(주)</td>\n",
              "      <td>126.979242</td>\n",
              "      <td>37.569580</td>\n",
              "      <td>106.12</td>\n",
              "      <td>9</td>\n",
              "      <td>5.0</td>\n",
              "      <td>1</td>\n",
              "      <td>9922</td>\n",
              "      <td>83213521.0</td>\n",
              "      <td>13240.0</td>\n",
              "      <td>6.0</td>\n",
              "      <td>18.0</td>\n",
              "      <td>광화문역</td>\n",
              "      <td>126.976410</td>\n",
              "      <td>37.571644</td>\n",
              "      <td>05호선</td>\n",
              "      <td>0.33909</td>\n",
              "      <td>2</td>\n",
              "    </tr>\n",
              "    <tr>\n",
              "      <th>4</th>\n",
              "      <td>168</td>\n",
              "      <td>종로구</td>\n",
              "      <td>종로1.2.3.4가동</td>\n",
              "      <td>1993</td>\n",
              "      <td>1993-11-05</td>\n",
              "      <td>2020-12-31</td>\n",
              "      <td>1</td>\n",
              "      <td>영업</td>\n",
              "      <td>향원휴게실</td>\n",
              "      <td>126.994251</td>\n",
              "      <td>37.569127</td>\n",
              "      <td>11.20</td>\n",
              "      <td>1</td>\n",
              "      <td>1.0</td>\n",
              "      <td>1</td>\n",
              "      <td>9918</td>\n",
              "      <td>206368601.0</td>\n",
              "      <td>17347.0</td>\n",
              "      <td>14.0</td>\n",
              "      <td>206.0</td>\n",
              "      <td>종로3가역</td>\n",
              "      <td>126.992144</td>\n",
              "      <td>37.570421</td>\n",
              "      <td>03호선</td>\n",
              "      <td>0.23488</td>\n",
              "      <td>1</td>\n",
              "    </tr>\n",
              "  </tbody>\n",
              "</table>\n",
              "</div>"
            ],
            "text/plain": [
              "   Unnamed: 0 자치구명         행정동명    년도  ...         SY    호선  distance d_code\n",
              "0           8  종로구  종로1.2.3.4가동  1990  ...  37.570222  01호선   0.36159      2\n",
              "1          96  종로구  종로1.2.3.4가동  1992  ...  37.570421  03호선   0.17035      1\n",
              "2         153  종로구  종로1.2.3.4가동  1993  ...  37.570421  03호선   0.15715      1\n",
              "3         165  종로구  종로1.2.3.4가동  1993  ...  37.571644  05호선   0.33909      2\n",
              "4         168  종로구  종로1.2.3.4가동  1993  ...  37.570421  03호선   0.23488      1\n",
              "\n",
              "[5 rows x 26 columns]"
            ]
          },
          "metadata": {
            "tags": []
          },
          "execution_count": 3
        }
      ]
    },
    {
      "cell_type": "code",
      "metadata": {
        "colab": {
          "base_uri": "https://localhost:8080/",
          "height": 345
        },
        "id": "V-sjoz5QGkrk",
        "outputId": "f45be4f9-b24a-450e-be9c-bcaf0005a31f"
      },
      "source": [
        "feat_drop=['개방자치단체코드','관리번호','업소일련번호', '폐업구분','상권_코드','총층수','업소위치']\n",
        "data=data.drop(feat_drop, axis=1)"
      ],
      "execution_count": null,
      "outputs": [
        {
          "output_type": "error",
          "ename": "KeyError",
          "evalue": "ignored",
          "traceback": [
            "\u001b[0;31m---------------------------------------------------------------------------\u001b[0m",
            "\u001b[0;31mKeyError\u001b[0m                                  Traceback (most recent call last)",
            "\u001b[0;32m<ipython-input-4-9b4a9280ac9d>\u001b[0m in \u001b[0;36m<module>\u001b[0;34m()\u001b[0m\n\u001b[1;32m      1\u001b[0m \u001b[0mfeat_drop\u001b[0m\u001b[0;34m=\u001b[0m\u001b[0;34m[\u001b[0m\u001b[0;34m'개방자치단체코드'\u001b[0m\u001b[0;34m,\u001b[0m\u001b[0;34m'관리번호'\u001b[0m\u001b[0;34m,\u001b[0m\u001b[0;34m'업소일련번호'\u001b[0m\u001b[0;34m,\u001b[0m \u001b[0;34m'폐업구분'\u001b[0m\u001b[0;34m,\u001b[0m\u001b[0;34m'상권_코드'\u001b[0m\u001b[0;34m,\u001b[0m\u001b[0;34m'총층수'\u001b[0m\u001b[0;34m,\u001b[0m\u001b[0;34m'업소위치'\u001b[0m\u001b[0;34m]\u001b[0m\u001b[0;34m\u001b[0m\u001b[0;34m\u001b[0m\u001b[0m\n\u001b[0;32m----> 2\u001b[0;31m \u001b[0mdata\u001b[0m\u001b[0;34m=\u001b[0m\u001b[0mdata\u001b[0m\u001b[0;34m.\u001b[0m\u001b[0mdrop\u001b[0m\u001b[0;34m(\u001b[0m\u001b[0mfeat_drop\u001b[0m\u001b[0;34m,\u001b[0m \u001b[0maxis\u001b[0m\u001b[0;34m=\u001b[0m\u001b[0;36m1\u001b[0m\u001b[0;34m)\u001b[0m\u001b[0;34m\u001b[0m\u001b[0;34m\u001b[0m\u001b[0m\n\u001b[0m",
            "\u001b[0;32m/usr/local/lib/python3.6/dist-packages/pandas/core/frame.py\u001b[0m in \u001b[0;36mdrop\u001b[0;34m(self, labels, axis, index, columns, level, inplace, errors)\u001b[0m\n\u001b[1;32m   4172\u001b[0m             \u001b[0mlevel\u001b[0m\u001b[0;34m=\u001b[0m\u001b[0mlevel\u001b[0m\u001b[0;34m,\u001b[0m\u001b[0;34m\u001b[0m\u001b[0;34m\u001b[0m\u001b[0m\n\u001b[1;32m   4173\u001b[0m             \u001b[0minplace\u001b[0m\u001b[0;34m=\u001b[0m\u001b[0minplace\u001b[0m\u001b[0;34m,\u001b[0m\u001b[0;34m\u001b[0m\u001b[0;34m\u001b[0m\u001b[0m\n\u001b[0;32m-> 4174\u001b[0;31m             \u001b[0merrors\u001b[0m\u001b[0;34m=\u001b[0m\u001b[0merrors\u001b[0m\u001b[0;34m,\u001b[0m\u001b[0;34m\u001b[0m\u001b[0;34m\u001b[0m\u001b[0m\n\u001b[0m\u001b[1;32m   4175\u001b[0m         )\n\u001b[1;32m   4176\u001b[0m \u001b[0;34m\u001b[0m\u001b[0m\n",
            "\u001b[0;32m/usr/local/lib/python3.6/dist-packages/pandas/core/generic.py\u001b[0m in \u001b[0;36mdrop\u001b[0;34m(self, labels, axis, index, columns, level, inplace, errors)\u001b[0m\n\u001b[1;32m   3885\u001b[0m         \u001b[0;32mfor\u001b[0m \u001b[0maxis\u001b[0m\u001b[0;34m,\u001b[0m \u001b[0mlabels\u001b[0m \u001b[0;32min\u001b[0m \u001b[0maxes\u001b[0m\u001b[0;34m.\u001b[0m\u001b[0mitems\u001b[0m\u001b[0;34m(\u001b[0m\u001b[0;34m)\u001b[0m\u001b[0;34m:\u001b[0m\u001b[0;34m\u001b[0m\u001b[0;34m\u001b[0m\u001b[0m\n\u001b[1;32m   3886\u001b[0m             \u001b[0;32mif\u001b[0m \u001b[0mlabels\u001b[0m \u001b[0;32mis\u001b[0m \u001b[0;32mnot\u001b[0m \u001b[0;32mNone\u001b[0m\u001b[0;34m:\u001b[0m\u001b[0;34m\u001b[0m\u001b[0;34m\u001b[0m\u001b[0m\n\u001b[0;32m-> 3887\u001b[0;31m                 \u001b[0mobj\u001b[0m \u001b[0;34m=\u001b[0m \u001b[0mobj\u001b[0m\u001b[0;34m.\u001b[0m\u001b[0m_drop_axis\u001b[0m\u001b[0;34m(\u001b[0m\u001b[0mlabels\u001b[0m\u001b[0;34m,\u001b[0m \u001b[0maxis\u001b[0m\u001b[0;34m,\u001b[0m \u001b[0mlevel\u001b[0m\u001b[0;34m=\u001b[0m\u001b[0mlevel\u001b[0m\u001b[0;34m,\u001b[0m \u001b[0merrors\u001b[0m\u001b[0;34m=\u001b[0m\u001b[0merrors\u001b[0m\u001b[0;34m)\u001b[0m\u001b[0;34m\u001b[0m\u001b[0;34m\u001b[0m\u001b[0m\n\u001b[0m\u001b[1;32m   3888\u001b[0m \u001b[0;34m\u001b[0m\u001b[0m\n\u001b[1;32m   3889\u001b[0m         \u001b[0;32mif\u001b[0m \u001b[0minplace\u001b[0m\u001b[0;34m:\u001b[0m\u001b[0;34m\u001b[0m\u001b[0;34m\u001b[0m\u001b[0m\n",
            "\u001b[0;32m/usr/local/lib/python3.6/dist-packages/pandas/core/generic.py\u001b[0m in \u001b[0;36m_drop_axis\u001b[0;34m(self, labels, axis, level, errors)\u001b[0m\n\u001b[1;32m   3919\u001b[0m                 \u001b[0mnew_axis\u001b[0m \u001b[0;34m=\u001b[0m \u001b[0maxis\u001b[0m\u001b[0;34m.\u001b[0m\u001b[0mdrop\u001b[0m\u001b[0;34m(\u001b[0m\u001b[0mlabels\u001b[0m\u001b[0;34m,\u001b[0m \u001b[0mlevel\u001b[0m\u001b[0;34m=\u001b[0m\u001b[0mlevel\u001b[0m\u001b[0;34m,\u001b[0m \u001b[0merrors\u001b[0m\u001b[0;34m=\u001b[0m\u001b[0merrors\u001b[0m\u001b[0;34m)\u001b[0m\u001b[0;34m\u001b[0m\u001b[0;34m\u001b[0m\u001b[0m\n\u001b[1;32m   3920\u001b[0m             \u001b[0;32melse\u001b[0m\u001b[0;34m:\u001b[0m\u001b[0;34m\u001b[0m\u001b[0;34m\u001b[0m\u001b[0m\n\u001b[0;32m-> 3921\u001b[0;31m                 \u001b[0mnew_axis\u001b[0m \u001b[0;34m=\u001b[0m \u001b[0maxis\u001b[0m\u001b[0;34m.\u001b[0m\u001b[0mdrop\u001b[0m\u001b[0;34m(\u001b[0m\u001b[0mlabels\u001b[0m\u001b[0;34m,\u001b[0m \u001b[0merrors\u001b[0m\u001b[0;34m=\u001b[0m\u001b[0merrors\u001b[0m\u001b[0;34m)\u001b[0m\u001b[0;34m\u001b[0m\u001b[0;34m\u001b[0m\u001b[0m\n\u001b[0m\u001b[1;32m   3922\u001b[0m             \u001b[0mresult\u001b[0m \u001b[0;34m=\u001b[0m \u001b[0mself\u001b[0m\u001b[0;34m.\u001b[0m\u001b[0mreindex\u001b[0m\u001b[0;34m(\u001b[0m\u001b[0;34m**\u001b[0m\u001b[0;34m{\u001b[0m\u001b[0maxis_name\u001b[0m\u001b[0;34m:\u001b[0m \u001b[0mnew_axis\u001b[0m\u001b[0;34m}\u001b[0m\u001b[0;34m)\u001b[0m\u001b[0;34m\u001b[0m\u001b[0;34m\u001b[0m\u001b[0m\n\u001b[1;32m   3923\u001b[0m \u001b[0;34m\u001b[0m\u001b[0m\n",
            "\u001b[0;32m/usr/local/lib/python3.6/dist-packages/pandas/core/indexes/base.py\u001b[0m in \u001b[0;36mdrop\u001b[0;34m(self, labels, errors)\u001b[0m\n\u001b[1;32m   5282\u001b[0m         \u001b[0;32mif\u001b[0m \u001b[0mmask\u001b[0m\u001b[0;34m.\u001b[0m\u001b[0many\u001b[0m\u001b[0;34m(\u001b[0m\u001b[0;34m)\u001b[0m\u001b[0;34m:\u001b[0m\u001b[0;34m\u001b[0m\u001b[0;34m\u001b[0m\u001b[0m\n\u001b[1;32m   5283\u001b[0m             \u001b[0;32mif\u001b[0m \u001b[0merrors\u001b[0m \u001b[0;34m!=\u001b[0m \u001b[0;34m\"ignore\"\u001b[0m\u001b[0;34m:\u001b[0m\u001b[0;34m\u001b[0m\u001b[0;34m\u001b[0m\u001b[0m\n\u001b[0;32m-> 5284\u001b[0;31m                 \u001b[0;32mraise\u001b[0m \u001b[0mKeyError\u001b[0m\u001b[0;34m(\u001b[0m\u001b[0;34mf\"{labels[mask]} not found in axis\"\u001b[0m\u001b[0;34m)\u001b[0m\u001b[0;34m\u001b[0m\u001b[0;34m\u001b[0m\u001b[0m\n\u001b[0m\u001b[1;32m   5285\u001b[0m             \u001b[0mindexer\u001b[0m \u001b[0;34m=\u001b[0m \u001b[0mindexer\u001b[0m\u001b[0;34m[\u001b[0m\u001b[0;34m~\u001b[0m\u001b[0mmask\u001b[0m\u001b[0;34m]\u001b[0m\u001b[0;34m\u001b[0m\u001b[0;34m\u001b[0m\u001b[0m\n\u001b[1;32m   5286\u001b[0m         \u001b[0;32mreturn\u001b[0m \u001b[0mself\u001b[0m\u001b[0;34m.\u001b[0m\u001b[0mdelete\u001b[0m\u001b[0;34m(\u001b[0m\u001b[0mindexer\u001b[0m\u001b[0;34m)\u001b[0m\u001b[0;34m\u001b[0m\u001b[0;34m\u001b[0m\u001b[0m\n",
            "\u001b[0;31mKeyError\u001b[0m: \"['개방자치단체코드' '관리번호' '업소일련번호' '폐업구분' '상권_코드' '총층수' '업소위치'] not found in axis\""
          ]
        }
      ]
    },
    {
      "cell_type": "code",
      "metadata": {
        "id": "V6_dBB57Go8b"
      },
      "source": [
        "data.info()"
      ],
      "execution_count": null,
      "outputs": []
    },
    {
      "cell_type": "code",
      "metadata": {
        "id": "aneRYDhCGo-6"
      },
      "source": [
        "#년도 빈거 2019으로!\n",
        "data[\"년도\"]=data[\"년도\"].fillna(2018)\n",
        "data[\"총층수1\"]=data[\"총층수1\"].fillna(1)\n",
        "\n",
        "#좌표를 채우기 평균으로 채우기\n",
        "data['X'].fillna(data.groupby(\"행정동명\")['X'].transform(\"mean\"), inplace=True)\n",
        "data['Y'].fillna(data.groupby(\"행정동명\")['Y'].transform(\"mean\"), inplace=True)\n"
      ],
      "execution_count": null,
      "outputs": []
    },
    {
      "cell_type": "code",
      "metadata": {
        "id": "bg2n1sUcGpEo"
      },
      "source": [
        "\n",
        "#이 외 invalid 다 탈락\n",
        "data=data.dropna(axis=0)"
      ],
      "execution_count": null,
      "outputs": []
    },
    {
      "cell_type": "code",
      "metadata": {
        "id": "BeFKZ56tGpSZ"
      },
      "source": [
        "#index다시 만들어주기\n",
        "data.reset_index()\n",
        "data.info()"
      ],
      "execution_count": null,
      "outputs": []
    },
    {
      "cell_type": "code",
      "metadata": {
        "id": "fQyQgueYGpey"
      },
      "source": [
        "data.isnull().sum()"
      ],
      "execution_count": null,
      "outputs": []
    },
    {
      "cell_type": "code",
      "metadata": {
        "id": "3kuH7RN8Gpk_"
      },
      "source": [
        "#-성공여부\n",
        "r=[0,730,999999]#일단 2년을 성공기준\n",
        "g=[0,1]\n",
        "data['성공여부']=pd.cut(data['영업기간'],bins=r,labels=g)\n",
        "data['성공여부']=data['성공여부'].fillna(0)#확인사살\n",
        "#data=data.drop('영업기간',axis=1)\n",
        "data['성공여부']"
      ],
      "execution_count": null,
      "outputs": []
    },
    {
      "cell_type": "code",
      "metadata": {
        "id": "V4OBPk6MGpqV"
      },
      "source": [
        "#-창업월\n",
        "data[\"인허가일자\"] = pd.to_datetime(data[\"인허가일자\"])\n",
        "data['창업월'] = data['인허가일자'].dt.month\n",
        "data['창업월']"
      ],
      "execution_count": null,
      "outputs": []
    },
    {
      "cell_type": "code",
      "metadata": {
        "id": "0jMV3KvQGptQ"
      },
      "source": [
        "#-폐업월\n",
        "data[\"폐업일자\"] = pd.to_datetime(data[\"폐업일자\"])\n",
        "data['폐업월'] = data['폐업일자'].dt.month\n",
        "#data=data.drop('인허가일자',axis=1)\n",
        "data['폐업월']"
      ],
      "execution_count": null,
      "outputs": []
    },
    {
      "cell_type": "code",
      "metadata": {
        "id": "bp7-EpkgGpw6"
      },
      "source": [
        "data['년도_123']=data['년도']-1960\n",
        "r=[0,40,50,80]\n",
        "g=[1,2,3]\n",
        "data['년도_123']=pd.cut(data['년도_123'],bins=r,labels=g)\n",
        "#data=data.drop('년도',axis=1)\n",
        "data['년도_123']"
      ],
      "execution_count": null,
      "outputs": []
    },
    {
      "cell_type": "code",
      "metadata": {
        "id": "2X2pSLTAGpou"
      },
      "source": [
        "#gu mapping\n",
        "gu_mapping={\"강남구\":1, \"강동구\":2, \"강북구\":3, '강서구':4,'관악구':5,'광진구':6,'구로구':7,'금천구':8,'노원구':9,'도봉구':10,'동대문':11,'동작구':12,'마포구':13,'서대문':14,'서초구':15,'성동구':16,'성북구':17,'송파구':18,'양천구':19,'영등포':20,'용산구':21,'은평구':22,'종로구':23,'중구':24,'중랑구':25}\n",
        "data['구_1_25']=data['자치구명'].map(gu_mapping)\n",
        "\n",
        "#data=data.drop('자치구명',axis=1)\n",
        "data['구_1_25']"
      ],
      "execution_count": null,
      "outputs": []
    },
    {
      "cell_type": "code",
      "metadata": {
        "id": "qvpVoseQGph8"
      },
      "source": [
        "#호선 추출하기\n",
        "data['sub_1_9']=data['호선'].str[:2]\n",
        "data['sub_1_9']"
      ],
      "execution_count": null,
      "outputs": []
    },
    {
      "cell_type": "code",
      "metadata": {
        "id": "J_HpMulIGpdE"
      },
      "source": [
        "import plotly.express as px\n",
        "is_franchise=data['사업장명'].str.contains(\"이디야|스타벅스|투썸|달콤커피|커피베이|할리스|탐앤탐스|폴바셋|커피나무|파스쿠찌|파스쿠치|빽다방|빈스빈스|엔제리너스|엔젤리너스|커피명가|카페베네|커피스미스|드롭탑|커피마마|더착한커피|더카페|커피에반하다|매머드커피|주커피|토프레소|카페보니또|전광수커피|그라찌에|띠아모|커피빈|더벤티|스무디킹\")\n",
        "#사업장명이 없는 건 프랜차이즈 아닌걸로하자\n",
        "is_super_franchise=data['사업장명'].str.contains(\"이디야|스타벅스|투썸\")\n",
        "data[\"프랜차이즈여부_02\"]=0\n",
        "is_franchise=is_franchise.fillna(0)\n",
        "is_super_franchise=is_super_franchise.fillna(0)\n",
        "is_franchise=is_franchise.astype(int)\n",
        "is_super_franchise=is_super_franchise.astype(int)\n",
        "for i in range(0,40766):\n",
        "  try:\n",
        "    data[\"프랜차이즈여부_02\"][i]=is_franchise[i]+is_super_franchise[i]\n",
        "  except KeyError:\n",
        "    continue\n",
        "data[\"프랜차이즈여부_02\"]"
      ],
      "execution_count": null,
      "outputs": []
    },
    {
      "cell_type": "code",
      "metadata": {
        "id": "nFyuky6IHFoa"
      },
      "source": [
        "!sudo apt-get install -y fonts-nanum\n",
        "!sudo fc-cache -fv\n",
        "!rm ~/.cache/matplotlib -rf\n",
        "\n",
        "import matplotlib.pyplot as plt\n",
        "plt.rc('font', family='NanumBarunGothic') "
      ],
      "execution_count": null,
      "outputs": []
    },
    {
      "cell_type": "code",
      "metadata": {
        "id": "6WUa8sshGpaI"
      },
      "source": [
        "%matplotlib inline\n",
        "import seaborn as sns\n",
        "sns.set()"
      ],
      "execution_count": null,
      "outputs": []
    },
    {
      "cell_type": "code",
      "metadata": {
        "id": "OAUdMHv8GpYF"
      },
      "source": [
        "import matplotlib.pyplot as plt\n",
        "\n",
        "plt.rc('font', family='NanumBarunGothic') "
      ],
      "execution_count": null,
      "outputs": []
    },
    {
      "cell_type": "code",
      "metadata": {
        "id": "Wu7l21riGpWB"
      },
      "source": [
        "def bar_charty(feature):\n",
        "  Success=data[data['성공여부']==1][feature].value_counts()\n",
        "  Fail=data[data['성공여부']==0][feature].value_counts()\n",
        "  df=pd.DataFrame([Success,Fail])\n",
        "  df.index=['성공',\"실패\"]\n",
        "  df.plot(kind='bar',stacked=True, figsize=(10,5))"
      ],
      "execution_count": null,
      "outputs": []
    },
    {
      "cell_type": "code",
      "metadata": {
        "id": "l86LlF9TGpQP"
      },
      "source": [
        "bar_charty('자치구명')"
      ],
      "execution_count": null,
      "outputs": []
    },
    {
      "cell_type": "code",
      "metadata": {
        "id": "U0NN_-IkGpOg"
      },
      "source": [
        "bar_charty('영업상태명')"
      ],
      "execution_count": null,
      "outputs": []
    },
    {
      "cell_type": "code",
      "metadata": {
        "id": "_8EyLe2VGpNH"
      },
      "source": [
        "bar_charty('규모분기')"
      ],
      "execution_count": null,
      "outputs": []
    },
    {
      "cell_type": "code",
      "metadata": {
        "id": "0WNttPZZGpI0"
      },
      "source": [
        "bar_charty('업소위치분기')#"
      ],
      "execution_count": null,
      "outputs": []
    },
    {
      "cell_type": "code",
      "metadata": {
        "id": "WMUdE1aPGpGy"
      },
      "source": [
        "bar_charty('창업월')"
      ],
      "execution_count": null,
      "outputs": []
    },
    {
      "cell_type": "code",
      "metadata": {
        "id": "PCl6DrDmGpDG"
      },
      "source": [
        " bar_charty('폐업월') "
      ],
      "execution_count": null,
      "outputs": []
    },
    {
      "cell_type": "code",
      "metadata": {
        "id": "zQLBRzUJHSS2"
      },
      "source": [
        "bar_charty('년도_123')"
      ],
      "execution_count": null,
      "outputs": []
    },
    {
      "cell_type": "code",
      "metadata": {
        "id": "SHN4B_ltHSaJ"
      },
      "source": [
        "bar_charty('프랜차이즈여부_02')"
      ],
      "execution_count": null,
      "outputs": []
    },
    {
      "cell_type": "code",
      "metadata": {
        "id": "K057sBzjHSf_"
      },
      "source": [
        "bar_charty('sub_1_9')"
      ],
      "execution_count": null,
      "outputs": []
    },
    {
      "cell_type": "code",
      "metadata": {
        "id": "bp-KTpL3HSi_"
      },
      "source": [
        "#루미하네 캡쳐본 보냄\n",
        "facet=sns.FacetGrid(data, hue='당월_매출_금액', aspect=4)\n",
        "facet.map(sns.kdeplot, 'd_code',shade=True)\n",
        "facet.set(xlim=(data['d_code'].min(),data['d_code'].max()))\n",
        "facet.add_legend() \n",
        "\n",
        "import matplotlib.pyplot as plt\n",
        "plt.show()\n",
        "#1영업, 2폐업\n"
      ],
      "execution_count": null,
      "outputs": []
    },
    {
      "cell_type": "code",
      "metadata": {
        "id": "4W44fvrBJmm0"
      },
      "source": [
        "#루미한테 캡쳐본 보냄\n",
        "facet=sns.FacetGrid(data, hue='당월_매출_금액', aspect=4)\n",
        "facet.map(sns.kdeplot, 'distance',shade=True)\n",
        "facet.set(xlim=(data['distance'].min(),3))\n",
        "facet.add_legend() \n",
        "\n",
        "import matplotlib.pyplot as plt\n",
        "plt.show()\n",
        "#1영업, 2폐업\n"
      ],
      "execution_count": null,
      "outputs": []
    },
    {
      "cell_type": "code",
      "metadata": {
        "id": "FY0pHgtgHSdJ"
      },
      "source": [
        "facet=sns.FacetGrid(data, hue='점포수', aspect=4)\n",
        "facet.map(sns.kdeplot, 'distance',shade=True)\n",
        "facet.set(xlim=(data['distance'].min(),4))\n",
        "facet.add_legend() \n",
        "\n",
        "import matplotlib.pyplot as plt\n",
        "plt.show()\n",
        "#1영업, 2폐업"
      ],
      "execution_count": null,
      "outputs": []
    },
    {
      "cell_type": "code",
      "metadata": {
        "id": "ry1XHj2sHSX7"
      },
      "source": [
        "data.head()"
      ],
      "execution_count": null,
      "outputs": []
    },
    {
      "cell_type": "code",
      "metadata": {
        "id": "Zy575jkUHSVh"
      },
      "source": [
        "#이건...노답\n",
        "facet=sns.FacetGrid(data, hue='프랜차이즈여부_02', aspect=4)\n",
        "facet.map(sns.kdeplot, '당월_매출_금액',shade=True)\n",
        "facet.set(xlim=(data['당월_매출_금액'].min(),data['당월_매출_금액'].max()))\n",
        "facet.add_legend() \n",
        "\n",
        "import matplotlib.pyplot as plt\n",
        "plt.show()\n",
        "#1영업, 2폐업프랜차이즈여부_02"
      ],
      "execution_count": null,
      "outputs": []
    },
    {
      "cell_type": "code",
      "metadata": {
        "id": "_34AKyKGTc-O"
      },
      "source": [
        "facet=sns.FacetGrid(data, hue='당월_매출_금액', aspect=4)\n",
        "facet.map(sns.kdeplot, '프랜차이즈여부_02',shade=True)\n",
        "facet.set(xlim=(0.75,1.25),ylim=(0,0.5))\n",
        "facet.add_legend() \n",
        "\n",
        "import matplotlib.pyplot as plt\n",
        "plt.show()\n",
        "#1영업, 2폐업프랜차이즈여부_02"
      ],
      "execution_count": null,
      "outputs": []
    },
    {
      "cell_type": "code",
      "metadata": {
        "id": "uWca7pBUWCgO"
      },
      "source": [
        ""
      ],
      "execution_count": null,
      "outputs": []
    }
  ]
}