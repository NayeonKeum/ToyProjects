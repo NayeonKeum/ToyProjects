{
  "nbformat": 4,
  "nbformat_minor": 0,
  "metadata": {
    "colab": {
      "name": "데이터 전처리.ipynb",
      "provenance": [],
      "collapsed_sections": [],
      "mount_file_id": "1WnDZhTDF5uNjGMRb1II60yYGEeNyx0zP",
      "authorship_tag": "ABX9TyMr/TW7bxtm+8JRklBDwWeo",
      "include_colab_link": true
    },
    "kernelspec": {
      "name": "python3",
      "display_name": "Python 3"
    }
  },
  "cells": [
    {
      "cell_type": "markdown",
      "metadata": {
        "id": "view-in-github",
        "colab_type": "text"
      },
      "source": [
        "<a href=\"https://colab.research.google.com/github/NayeonKeum/ToyProjects/blob/master/cafe/%EB%8D%B0%EC%9D%B4%ED%84%B0_%EC%A0%84%EC%B2%98%EB%A6%AC.ipynb\" target=\"_parent\"><img src=\"https://colab.research.google.com/assets/colab-badge.svg\" alt=\"Open In Colab\"/></a>"
      ]
    },
    {
      "cell_type": "markdown",
      "metadata": {
        "id": "5p6TkB2_iyOl"
      },
      "source": [
        "! ! r에게 건내주기 위해 최대한 많이, 숫자로(범주형,연속형) 살려놓기\n",
        "함부러 삭제 안하기로"
      ]
    },
    {
      "cell_type": "markdown",
      "metadata": {
        "id": "FutLal9eIm-K"
      },
      "source": [
        "한글 깨짐 해결->맨처음에 실행해주고 런타임 재시작하기"
      ]
    },
    {
      "cell_type": "code",
      "metadata": {
        "colab": {
          "base_uri": "https://localhost:8080/"
        },
        "id": "FVizQWY2j2gA",
        "outputId": "4a9022de-8b11-46eb-8280-ed48bfebf905"
      },
      "source": [
        "!sudo apt-get install -y fonts-nanum\n",
        "!sudo fc-cache -fv\n",
        "!rm ~/.cache/matplotlib -rf\n",
        "\n",
        "import matplotlib.pyplot as plt\n",
        "plt.rc('font', family='NanumBarunGothic') "
      ],
      "execution_count": null,
      "outputs": [
        {
          "output_type": "stream",
          "text": [
            "Reading package lists... Done\n",
            "Building dependency tree       \n",
            "Reading state information... Done\n",
            "fonts-nanum is already the newest version (20170925-1).\n",
            "0 upgraded, 0 newly installed, 0 to remove and 14 not upgraded.\n",
            "/usr/share/fonts: caching, new cache contents: 0 fonts, 1 dirs\n",
            "/usr/share/fonts/truetype: caching, new cache contents: 0 fonts, 3 dirs\n",
            "/usr/share/fonts/truetype/humor-sans: caching, new cache contents: 1 fonts, 0 dirs\n",
            "/usr/share/fonts/truetype/liberation: caching, new cache contents: 16 fonts, 0 dirs\n",
            "/usr/share/fonts/truetype/nanum: caching, new cache contents: 10 fonts, 0 dirs\n",
            "/usr/local/share/fonts: caching, new cache contents: 0 fonts, 0 dirs\n",
            "/root/.local/share/fonts: skipping, no such directory\n",
            "/root/.fonts: skipping, no such directory\n",
            "/var/cache/fontconfig: cleaning cache directory\n",
            "/root/.cache/fontconfig: not cleaning non-existent cache directory\n",
            "/root/.fontconfig: not cleaning non-existent cache directory\n",
            "fc-cache: succeeded\n"
          ],
          "name": "stdout"
        }
      ]
    },
    {
      "cell_type": "code",
      "metadata": {
        "id": "nO1OOI1PfTGi"
      },
      "source": [
        "import pandas as pd\n",
        "import numpy as np\n",
        "\n",
        "data=pd.read_csv(\"/content/drive/MyDrive/Colab Notebooks/data_2020cafe/inheo_final.csv\")"
      ],
      "execution_count": null,
      "outputs": []
    },
    {
      "cell_type": "code",
      "metadata": {
        "colab": {
          "base_uri": "https://localhost:8080/"
        },
        "id": "hrR_ncGUiyno",
        "outputId": "24613290-773e-4015-d9a4-c59172352409"
      },
      "source": [
        "data.info()"
      ],
      "execution_count": null,
      "outputs": [
        {
          "output_type": "stream",
          "text": [
            "<class 'pandas.core.frame.DataFrame'>\n",
            "RangeIndex: 33918 entries, 0 to 33917\n",
            "Data columns (total 32 columns):\n",
            " #   Column      Non-Null Count  Dtype  \n",
            "---  ------      --------------  -----  \n",
            " 0   개방자치단체코드    33918 non-null  int64  \n",
            " 1   관리번호        33918 non-null  object \n",
            " 2   자치구명        33918 non-null  object \n",
            " 3   행정동명        33545 non-null  object \n",
            " 4   년도          33598 non-null  float64\n",
            " 5   인허가일자       33918 non-null  object \n",
            " 6   폐업일자        33918 non-null  object \n",
            " 7   영업상태코드      33918 non-null  int64  \n",
            " 8   영업상태명       33918 non-null  object \n",
            " 9   폐업구분        21006 non-null  object \n",
            " 10  업소일련번호      33598 non-null  float64\n",
            " 11  사업장명        33650 non-null  object \n",
            " 12  X           32997 non-null  float64\n",
            " 13  Y           32997 non-null  float64\n",
            " 14  시설총규모       33918 non-null  float64\n",
            " 15  규모분기        33918 non-null  int64  \n",
            " 16  총층수         6956 non-null   float64\n",
            " 17  총층수1        7969 non-null   float64\n",
            " 18  업소위치        23755 non-null  object \n",
            " 19  업소위치분기      33918 non-null  int64  \n",
            " 20  영업기간        33918 non-null  int64  \n",
            " 21  당월_매출_금액    15809 non-null  float64\n",
            " 22  상권_코드       15809 non-null  float64\n",
            " 23  당월_매출_건수    15809 non-null  float64\n",
            " 24  점포수         15809 non-null  float64\n",
            " 25  cluster_id  32997 non-null  float64\n",
            " 26  역이름         32997 non-null  object \n",
            " 27  SX          32997 non-null  float64\n",
            " 28  SY          32997 non-null  float64\n",
            " 29  호선          32997 non-null  object \n",
            " 30  distance    32997 non-null  float64\n",
            " 31  d_code      33918 non-null  int64  \n",
            "dtypes: float64(15), int64(6), object(11)\n",
            "memory usage: 8.3+ MB\n"
          ],
          "name": "stdout"
        }
      ]
    },
    {
      "cell_type": "code",
      "metadata": {
        "colab": {
          "base_uri": "https://localhost:8080/",
          "height": 601
        },
        "id": "jS_154u7fsg1",
        "outputId": "e7d2f669-c5ba-4381-821a-359bbdb46513"
      },
      "source": [
        "data.head()"
      ],
      "execution_count": null,
      "outputs": [
        {
          "output_type": "execute_result",
          "data": {
            "text/html": [
              "<div>\n",
              "<style scoped>\n",
              "    .dataframe tbody tr th:only-of-type {\n",
              "        vertical-align: middle;\n",
              "    }\n",
              "\n",
              "    .dataframe tbody tr th {\n",
              "        vertical-align: top;\n",
              "    }\n",
              "\n",
              "    .dataframe thead th {\n",
              "        text-align: right;\n",
              "    }\n",
              "</style>\n",
              "<table border=\"1\" class=\"dataframe\">\n",
              "  <thead>\n",
              "    <tr style=\"text-align: right;\">\n",
              "      <th></th>\n",
              "      <th>개방자치단체코드</th>\n",
              "      <th>관리번호</th>\n",
              "      <th>자치구명</th>\n",
              "      <th>행정동명</th>\n",
              "      <th>년도</th>\n",
              "      <th>인허가일자</th>\n",
              "      <th>폐업일자</th>\n",
              "      <th>영업상태코드</th>\n",
              "      <th>영업상태명</th>\n",
              "      <th>폐업구분</th>\n",
              "      <th>업소일련번호</th>\n",
              "      <th>사업장명</th>\n",
              "      <th>X</th>\n",
              "      <th>Y</th>\n",
              "      <th>시설총규모</th>\n",
              "      <th>규모분기</th>\n",
              "      <th>총층수</th>\n",
              "      <th>총층수1</th>\n",
              "      <th>업소위치</th>\n",
              "      <th>업소위치분기</th>\n",
              "      <th>영업기간</th>\n",
              "      <th>당월_매출_금액</th>\n",
              "      <th>상권_코드</th>\n",
              "      <th>당월_매출_건수</th>\n",
              "      <th>점포수</th>\n",
              "      <th>cluster_id</th>\n",
              "      <th>역이름</th>\n",
              "      <th>SX</th>\n",
              "      <th>SY</th>\n",
              "      <th>호선</th>\n",
              "      <th>distance</th>\n",
              "      <th>d_code</th>\n",
              "    </tr>\n",
              "  </thead>\n",
              "  <tbody>\n",
              "    <tr>\n",
              "      <th>0</th>\n",
              "      <td>3000000</td>\n",
              "      <td>3000000-104-1990-09100</td>\n",
              "      <td>종로구</td>\n",
              "      <td>사직동</td>\n",
              "      <td>1990.0</td>\n",
              "      <td>1990-09-03</td>\n",
              "      <td>2000-09-06</td>\n",
              "      <td>2</td>\n",
              "      <td>폐업</td>\n",
              "      <td>자진폐업</td>\n",
              "      <td>9100.0</td>\n",
              "      <td>삼광다방</td>\n",
              "      <td>126.970654</td>\n",
              "      <td>37.576068</td>\n",
              "      <td>74.47</td>\n",
              "      <td>7</td>\n",
              "      <td>NaN</td>\n",
              "      <td>NaN</td>\n",
              "      <td>NaN</td>\n",
              "      <td>1</td>\n",
              "      <td>3656</td>\n",
              "      <td>NaN</td>\n",
              "      <td>NaN</td>\n",
              "      <td>NaN</td>\n",
              "      <td>NaN</td>\n",
              "      <td>10.0</td>\n",
              "      <td>경복궁역</td>\n",
              "      <td>126.973669</td>\n",
              "      <td>37.575788</td>\n",
              "      <td>03호선</td>\n",
              "      <td>0.26746</td>\n",
              "      <td>1</td>\n",
              "    </tr>\n",
              "    <tr>\n",
              "      <th>1</th>\n",
              "      <td>3000000</td>\n",
              "      <td>3000000-104-1990-09107</td>\n",
              "      <td>종로구</td>\n",
              "      <td>사직동</td>\n",
              "      <td>1990.0</td>\n",
              "      <td>1990-09-03</td>\n",
              "      <td>2004-09-07</td>\n",
              "      <td>2</td>\n",
              "      <td>폐업</td>\n",
              "      <td>자진폐업</td>\n",
              "      <td>9107.0</td>\n",
              "      <td>대경</td>\n",
              "      <td>126.970422</td>\n",
              "      <td>37.576234</td>\n",
              "      <td>99.21</td>\n",
              "      <td>9</td>\n",
              "      <td>4.0</td>\n",
              "      <td>NaN</td>\n",
              "      <td>NaN</td>\n",
              "      <td>1</td>\n",
              "      <td>5118</td>\n",
              "      <td>NaN</td>\n",
              "      <td>NaN</td>\n",
              "      <td>NaN</td>\n",
              "      <td>NaN</td>\n",
              "      <td>10.0</td>\n",
              "      <td>경복궁역</td>\n",
              "      <td>126.973669</td>\n",
              "      <td>37.575788</td>\n",
              "      <td>03호선</td>\n",
              "      <td>0.29035</td>\n",
              "      <td>2</td>\n",
              "    </tr>\n",
              "    <tr>\n",
              "      <th>2</th>\n",
              "      <td>3000000</td>\n",
              "      <td>3000000-104-1990-09129</td>\n",
              "      <td>종로구</td>\n",
              "      <td>종로1.2.3.4가동</td>\n",
              "      <td>1990.0</td>\n",
              "      <td>1990-08-22</td>\n",
              "      <td>1996-06-13</td>\n",
              "      <td>2</td>\n",
              "      <td>폐업</td>\n",
              "      <td>자진폐업</td>\n",
              "      <td>9129.0</td>\n",
              "      <td>국빈다방</td>\n",
              "      <td>126.986778</td>\n",
              "      <td>37.570982</td>\n",
              "      <td>32.00</td>\n",
              "      <td>3</td>\n",
              "      <td>NaN</td>\n",
              "      <td>4.0</td>\n",
              "      <td>NaN</td>\n",
              "      <td>1</td>\n",
              "      <td>2122</td>\n",
              "      <td>NaN</td>\n",
              "      <td>NaN</td>\n",
              "      <td>NaN</td>\n",
              "      <td>NaN</td>\n",
              "      <td>205.0</td>\n",
              "      <td>종각역</td>\n",
              "      <td>126.983134</td>\n",
              "      <td>37.570222</td>\n",
              "      <td>01호선</td>\n",
              "      <td>0.33209</td>\n",
              "      <td>2</td>\n",
              "    </tr>\n",
              "    <tr>\n",
              "      <th>3</th>\n",
              "      <td>3000000</td>\n",
              "      <td>3000000-104-1990-09181</td>\n",
              "      <td>종로구</td>\n",
              "      <td>숭인제2동</td>\n",
              "      <td>1990.0</td>\n",
              "      <td>1990-12-22</td>\n",
              "      <td>1994-09-07</td>\n",
              "      <td>2</td>\n",
              "      <td>폐업</td>\n",
              "      <td>자진폐업</td>\n",
              "      <td>9181.0</td>\n",
              "      <td>나드리커피숍</td>\n",
              "      <td>127.018736</td>\n",
              "      <td>37.574082</td>\n",
              "      <td>139.00</td>\n",
              "      <td>10</td>\n",
              "      <td>NaN</td>\n",
              "      <td>NaN</td>\n",
              "      <td>NaN</td>\n",
              "      <td>1</td>\n",
              "      <td>1355</td>\n",
              "      <td>NaN</td>\n",
              "      <td>NaN</td>\n",
              "      <td>NaN</td>\n",
              "      <td>NaN</td>\n",
              "      <td>64.0</td>\n",
              "      <td>동묘앞역</td>\n",
              "      <td>127.016346</td>\n",
              "      <td>37.573213</td>\n",
              "      <td>06호선</td>\n",
              "      <td>0.23171</td>\n",
              "      <td>1</td>\n",
              "    </tr>\n",
              "    <tr>\n",
              "      <th>4</th>\n",
              "      <td>3000000</td>\n",
              "      <td>3000000-104-1990-09188</td>\n",
              "      <td>종로구</td>\n",
              "      <td>숭인제1동</td>\n",
              "      <td>1990.0</td>\n",
              "      <td>1990-07-13</td>\n",
              "      <td>2000-08-17</td>\n",
              "      <td>2</td>\n",
              "      <td>폐업</td>\n",
              "      <td>자진폐업</td>\n",
              "      <td>9188.0</td>\n",
              "      <td>석다방</td>\n",
              "      <td>127.015994</td>\n",
              "      <td>37.573633</td>\n",
              "      <td>115.84</td>\n",
              "      <td>9</td>\n",
              "      <td>NaN</td>\n",
              "      <td>NaN</td>\n",
              "      <td>NaN</td>\n",
              "      <td>1</td>\n",
              "      <td>3688</td>\n",
              "      <td>NaN</td>\n",
              "      <td>NaN</td>\n",
              "      <td>NaN</td>\n",
              "      <td>NaN</td>\n",
              "      <td>64.0</td>\n",
              "      <td>동묘앞역</td>\n",
              "      <td>127.016346</td>\n",
              "      <td>37.573213</td>\n",
              "      <td>06호선</td>\n",
              "      <td>0.05603</td>\n",
              "      <td>1</td>\n",
              "    </tr>\n",
              "  </tbody>\n",
              "</table>\n",
              "</div>"
            ],
            "text/plain": [
              "   개방자치단체코드                    관리번호 자치구명  ...    호선  distance d_code\n",
              "0   3000000  3000000-104-1990-09100  종로구  ...  03호선   0.26746      1\n",
              "1   3000000  3000000-104-1990-09107  종로구  ...  03호선   0.29035      2\n",
              "2   3000000  3000000-104-1990-09129  종로구  ...  01호선   0.33209      2\n",
              "3   3000000  3000000-104-1990-09181  종로구  ...  06호선   0.23171      1\n",
              "4   3000000  3000000-104-1990-09188  종로구  ...  06호선   0.05603      1\n",
              "\n",
              "[5 rows x 32 columns]"
            ]
          },
          "metadata": {
            "tags": []
          },
          "execution_count": 5
        }
      ]
    },
    {
      "cell_type": "markdown",
      "metadata": {
        "id": "duwoSvNHETg6"
      },
      "source": [
        "쓸모 없는 데이터 삭제"
      ]
    },
    {
      "cell_type": "code",
      "metadata": {
        "id": "i78UDg-hSrKc"
      },
      "source": [
        "feat_drop=['개방자치단체코드','관리번호','업소일련번호', '폐업구분','상권_코드','총층수','업소위치']\n",
        "data=data.drop(feat_drop, axis=1)"
      ],
      "execution_count": null,
      "outputs": []
    },
    {
      "cell_type": "code",
      "metadata": {
        "colab": {
          "base_uri": "https://localhost:8080/"
        },
        "id": "mDd6_Uaffuow",
        "outputId": "fd2d3196-a006-4b75-a752-8b33c3c78077"
      },
      "source": [
        "data.shape"
      ],
      "execution_count": null,
      "outputs": [
        {
          "output_type": "execute_result",
          "data": {
            "text/plain": [
              "(33918, 25)"
            ]
          },
          "metadata": {
            "tags": []
          },
          "execution_count": 7
        }
      ]
    },
    {
      "cell_type": "code",
      "metadata": {
        "colab": {
          "base_uri": "https://localhost:8080/"
        },
        "id": "NJAM2RwMgP-r",
        "outputId": "cf144f5d-4744-4a25-e867-a5a541ced9a0"
      },
      "source": [
        "data.info()"
      ],
      "execution_count": null,
      "outputs": [
        {
          "output_type": "stream",
          "text": [
            "<class 'pandas.core.frame.DataFrame'>\n",
            "RangeIndex: 33918 entries, 0 to 33917\n",
            "Data columns (total 25 columns):\n",
            " #   Column      Non-Null Count  Dtype  \n",
            "---  ------      --------------  -----  \n",
            " 0   자치구명        33918 non-null  object \n",
            " 1   행정동명        33545 non-null  object \n",
            " 2   년도          33598 non-null  float64\n",
            " 3   인허가일자       33918 non-null  object \n",
            " 4   폐업일자        33918 non-null  object \n",
            " 5   영업상태코드      33918 non-null  int64  \n",
            " 6   영업상태명       33918 non-null  object \n",
            " 7   사업장명        33650 non-null  object \n",
            " 8   X           32997 non-null  float64\n",
            " 9   Y           32997 non-null  float64\n",
            " 10  시설총규모       33918 non-null  float64\n",
            " 11  규모분기        33918 non-null  int64  \n",
            " 12  총층수1        7969 non-null   float64\n",
            " 13  업소위치분기      33918 non-null  int64  \n",
            " 14  영업기간        33918 non-null  int64  \n",
            " 15  당월_매출_금액    15809 non-null  float64\n",
            " 16  당월_매출_건수    15809 non-null  float64\n",
            " 17  점포수         15809 non-null  float64\n",
            " 18  cluster_id  32997 non-null  float64\n",
            " 19  역이름         32997 non-null  object \n",
            " 20  SX          32997 non-null  float64\n",
            " 21  SY          32997 non-null  float64\n",
            " 22  호선          32997 non-null  object \n",
            " 23  distance    32997 non-null  float64\n",
            " 24  d_code      33918 non-null  int64  \n",
            "dtypes: float64(12), int64(5), object(8)\n",
            "memory usage: 6.5+ MB\n"
          ],
          "name": "stdout"
        }
      ]
    },
    {
      "cell_type": "code",
      "metadata": {
        "colab": {
          "base_uri": "https://localhost:8080/"
        },
        "id": "JZTA8Tv0wWsI",
        "outputId": "8f7d837b-899c-4a18-b3a7-1aa90d2ce5a0"
      },
      "source": [
        "data.isnull().sum()"
      ],
      "execution_count": null,
      "outputs": [
        {
          "output_type": "execute_result",
          "data": {
            "text/plain": [
              "자치구명              0\n",
              "행정동명            373\n",
              "년도              320\n",
              "인허가일자             0\n",
              "폐업일자              0\n",
              "영업상태코드            0\n",
              "영업상태명             0\n",
              "사업장명            268\n",
              "X               921\n",
              "Y               921\n",
              "시설총규모             0\n",
              "규모분기              0\n",
              "총층수1          25949\n",
              "업소위치분기            0\n",
              "영업기간              0\n",
              "당월_매출_금액      18109\n",
              "당월_매출_건수      18109\n",
              "점포수           18109\n",
              "cluster_id      921\n",
              "역이름             921\n",
              "SX              921\n",
              "SY              921\n",
              "호선              921\n",
              "distance        921\n",
              "d_code            0\n",
              "dtype: int64"
            ]
          },
          "metadata": {
            "tags": []
          },
          "execution_count": 9
        }
      ]
    },
    {
      "cell_type": "markdown",
      "metadata": {
        "id": "ot-Rif5XEXFZ"
      },
      "source": [
        "*빈것들* 채우기-> 함부러 하는거 아냐. r로 돌려보았다. c://users//user/수업자료~~~~/데분활/fillnan.R"
      ]
    },
    {
      "cell_type": "code",
      "metadata": {
        "id": "fqwvR20W_cih"
      },
      "source": [
        "\n",
        "#년도 다시 적기\n",
        "data[\"인허가일자\"] = pd.to_datetime(data[\"인허가일자\"])\n",
        "data[\"년도\"] = data['인허가일자'].dt.year\n",
        "\n",
        "#data['영업기간']=data['영업기간'].fillna(data.groupby(\"행정동명\")['영업기간'].transform(\"median\"), inplace=True)\n",
        "data[\"총층수1\"]=data[\"총층수1\"].fillna(1)\n",
        "\n",
        "#좌표를 채우기 평균으로 채우기\n",
        "data['X'].fillna(data.groupby(\"행정동명\")['X'].transform(\"mean\"), inplace=True)\n",
        "data['Y'].fillna(data.groupby(\"행정동명\")['Y'].transform(\"mean\"), inplace=True)\n"
      ],
      "execution_count": null,
      "outputs": []
    },
    {
      "cell_type": "code",
      "metadata": {
        "colab": {
          "base_uri": "https://localhost:8080/"
        },
        "id": "5tmZ6XvqB87I",
        "outputId": "4b459eca-0695-42e9-f496-314323484cc9"
      },
      "source": [
        "#매출 따로 계산해야지\n",
        "data_income=data\n",
        "data_income=data_income.dropna(axis=0)\n",
        "data_income.info()\n"
      ],
      "execution_count": null,
      "outputs": [
        {
          "output_type": "stream",
          "text": [
            "<class 'pandas.core.frame.DataFrame'>\n",
            "Int64Index: 15416 entries, 8 to 33916\n",
            "Data columns (total 25 columns):\n",
            " #   Column      Non-Null Count  Dtype         \n",
            "---  ------      --------------  -----         \n",
            " 0   자치구명        15416 non-null  object        \n",
            " 1   행정동명        15416 non-null  object        \n",
            " 2   년도          15416 non-null  int64         \n",
            " 3   인허가일자       15416 non-null  datetime64[ns]\n",
            " 4   폐업일자        15416 non-null  object        \n",
            " 5   영업상태코드      15416 non-null  int64         \n",
            " 6   영업상태명       15416 non-null  object        \n",
            " 7   사업장명        15416 non-null  object        \n",
            " 8   X           15416 non-null  float64       \n",
            " 9   Y           15416 non-null  float64       \n",
            " 10  시설총규모       15416 non-null  float64       \n",
            " 11  규모분기        15416 non-null  int64         \n",
            " 12  총층수1        15416 non-null  float64       \n",
            " 13  업소위치분기      15416 non-null  int64         \n",
            " 14  영업기간        15416 non-null  int64         \n",
            " 15  당월_매출_금액    15416 non-null  float64       \n",
            " 16  당월_매출_건수    15416 non-null  float64       \n",
            " 17  점포수         15416 non-null  float64       \n",
            " 18  cluster_id  15416 non-null  float64       \n",
            " 19  역이름         15416 non-null  object        \n",
            " 20  SX          15416 non-null  float64       \n",
            " 21  SY          15416 non-null  float64       \n",
            " 22  호선          15416 non-null  object        \n",
            " 23  distance    15416 non-null  float64       \n",
            " 24  d_code      15416 non-null  int64         \n",
            "dtypes: datetime64[ns](1), float64(11), int64(6), object(7)\n",
            "memory usage: 3.1+ MB\n"
          ],
          "name": "stdout"
        }
      ]
    },
    {
      "cell_type": "code",
      "metadata": {
        "id": "vccpyBVAD9oZ"
      },
      "source": [
        "#매출에서 쓸 것들 빼고\n",
        "feat_drop=['당월_매출_금액','당월_매출_건수','점포수']\n",
        "data=data.drop(feat_drop, axis=1)"
      ],
      "execution_count": null,
      "outputs": []
    },
    {
      "cell_type": "code",
      "metadata": {
        "colab": {
          "base_uri": "https://localhost:8080/"
        },
        "id": "NzrjLqkzCpTU",
        "outputId": "a2e3497e-f2b9-460d-88f0-c8569f9eea8d"
      },
      "source": [
        "data.info()"
      ],
      "execution_count": null,
      "outputs": [
        {
          "output_type": "stream",
          "text": [
            "<class 'pandas.core.frame.DataFrame'>\n",
            "RangeIndex: 33918 entries, 0 to 33917\n",
            "Data columns (total 22 columns):\n",
            " #   Column      Non-Null Count  Dtype         \n",
            "---  ------      --------------  -----         \n",
            " 0   자치구명        33918 non-null  object        \n",
            " 1   행정동명        33545 non-null  object        \n",
            " 2   년도          33918 non-null  int64         \n",
            " 3   인허가일자       33918 non-null  datetime64[ns]\n",
            " 4   폐업일자        33918 non-null  object        \n",
            " 5   영업상태코드      33918 non-null  int64         \n",
            " 6   영업상태명       33918 non-null  object        \n",
            " 7   사업장명        33650 non-null  object        \n",
            " 8   X           33906 non-null  float64       \n",
            " 9   Y           33906 non-null  float64       \n",
            " 10  시설총규모       33918 non-null  float64       \n",
            " 11  규모분기        33918 non-null  int64         \n",
            " 12  총층수1        33918 non-null  float64       \n",
            " 13  업소위치분기      33918 non-null  int64         \n",
            " 14  영업기간        33918 non-null  int64         \n",
            " 15  cluster_id  32997 non-null  float64       \n",
            " 16  역이름         32997 non-null  object        \n",
            " 17  SX          32997 non-null  float64       \n",
            " 18  SY          32997 non-null  float64       \n",
            " 19  호선          32997 non-null  object        \n",
            " 20  distance    32997 non-null  float64       \n",
            " 21  d_code      33918 non-null  int64         \n",
            "dtypes: datetime64[ns](1), float64(8), int64(6), object(7)\n",
            "memory usage: 5.7+ MB\n"
          ],
          "name": "stdout"
        }
      ]
    },
    {
      "cell_type": "code",
      "metadata": {
        "id": "E6BkhmlSAZh1"
      },
      "source": [
        "#이 외 invalid 다 탈락\n",
        "data=data.dropna(axis=0)\n",
        "\n",
        "#영업 년도의 한계를 2019로 잘라버리는 바람에 실패율이 높아졌다. 2019이상의 값을 삭제하자\n",
        "indexn=data[data['년도']>=2019].index\n",
        "data.drop(indexn,inplace=True)"
      ],
      "execution_count": null,
      "outputs": []
    },
    {
      "cell_type": "code",
      "metadata": {
        "colab": {
          "base_uri": "https://localhost:8080/"
        },
        "id": "UC67PyrQbyLX",
        "outputId": "cff01a5d-fbdf-41cf-b119-ccd99909ab32"
      },
      "source": [
        "#index다시 만들어주기\n",
        "data.reset_index()\n",
        "data.info()"
      ],
      "execution_count": null,
      "outputs": [
        {
          "output_type": "stream",
          "text": [
            "<class 'pandas.core.frame.DataFrame'>\n",
            "Int64Index: 30079 entries, 0 to 33820\n",
            "Data columns (total 22 columns):\n",
            " #   Column      Non-Null Count  Dtype         \n",
            "---  ------      --------------  -----         \n",
            " 0   자치구명        30079 non-null  object        \n",
            " 1   행정동명        30079 non-null  object        \n",
            " 2   년도          30079 non-null  int64         \n",
            " 3   인허가일자       30079 non-null  datetime64[ns]\n",
            " 4   폐업일자        30079 non-null  object        \n",
            " 5   영업상태코드      30079 non-null  int64         \n",
            " 6   영업상태명       30079 non-null  object        \n",
            " 7   사업장명        30079 non-null  object        \n",
            " 8   X           30079 non-null  float64       \n",
            " 9   Y           30079 non-null  float64       \n",
            " 10  시설총규모       30079 non-null  float64       \n",
            " 11  규모분기        30079 non-null  int64         \n",
            " 12  총층수1        30079 non-null  float64       \n",
            " 13  업소위치분기      30079 non-null  int64         \n",
            " 14  영업기간        30079 non-null  int64         \n",
            " 15  cluster_id  30079 non-null  float64       \n",
            " 16  역이름         30079 non-null  object        \n",
            " 17  SX          30079 non-null  float64       \n",
            " 18  SY          30079 non-null  float64       \n",
            " 19  호선          30079 non-null  object        \n",
            " 20  distance    30079 non-null  float64       \n",
            " 21  d_code      30079 non-null  int64         \n",
            "dtypes: datetime64[ns](1), float64(8), int64(6), object(7)\n",
            "memory usage: 5.3+ MB\n"
          ],
          "name": "stdout"
        }
      ]
    },
    {
      "cell_type": "code",
      "metadata": {
        "colab": {
          "base_uri": "https://localhost:8080/"
        },
        "id": "iBolSMv6_8EU",
        "outputId": "444cfce8-1ee5-4582-98d8-2e0180d92b15"
      },
      "source": [
        "data.isnull().sum()"
      ],
      "execution_count": null,
      "outputs": [
        {
          "output_type": "execute_result",
          "data": {
            "text/plain": [
              "자치구명          0\n",
              "행정동명          0\n",
              "년도            0\n",
              "인허가일자         0\n",
              "폐업일자          0\n",
              "영업상태코드        0\n",
              "영업상태명         0\n",
              "사업장명          0\n",
              "X             0\n",
              "Y             0\n",
              "시설총규모         0\n",
              "규모분기          0\n",
              "총층수1          0\n",
              "업소위치분기        0\n",
              "영업기간          0\n",
              "cluster_id    0\n",
              "역이름           0\n",
              "SX            0\n",
              "SY            0\n",
              "호선            0\n",
              "distance      0\n",
              "d_code        0\n",
              "dtype: int64"
            ]
          },
          "metadata": {
            "tags": []
          },
          "execution_count": 316
        }
      ]
    },
    {
      "cell_type": "markdown",
      "metadata": {
        "id": "DwNysM17EOWN"
      },
      "source": [
        "추가하기"
      ]
    },
    {
      "cell_type": "code",
      "metadata": {
        "colab": {
          "base_uri": "https://localhost:8080/"
        },
        "id": "IfbKP0gEzw_T",
        "outputId": "8ece9684-53fd-43c6-ee93-553258b939a2"
      },
      "source": [
        "#-성공여부\n",
        "r=[0,730,999999]#일단 2년을 성공기준\n",
        "g=[0,1]\n",
        "data['성공여부']=pd.cut(data['영업기간'],bins=r,labels=g)\n",
        "data['성공여부']=data['성공여부'].fillna(0)#확인사살\n",
        "#data=data.drop('영업기간',axis=1)\n",
        "data['성공여부']"
      ],
      "execution_count": null,
      "outputs": [
        {
          "output_type": "execute_result",
          "data": {
            "text/plain": [
              "0        1\n",
              "1        1\n",
              "2        1\n",
              "3        1\n",
              "4        1\n",
              "        ..\n",
              "33815    1\n",
              "33816    1\n",
              "33817    1\n",
              "33818    0\n",
              "33820    0\n",
              "Name: 성공여부, Length: 30079, dtype: category\n",
              "Categories (2, int64): [0 < 1]"
            ]
          },
          "metadata": {
            "tags": []
          },
          "execution_count": 317
        }
      ]
    },
    {
      "cell_type": "code",
      "metadata": {
        "colab": {
          "base_uri": "https://localhost:8080/"
        },
        "id": "xVijozPo02Gd",
        "outputId": "dd2f6eab-c8dc-4468-8f4f-4401cfd6336e"
      },
      "source": [
        "#-창업월\n",
        "data[\"인허가일자\"] = pd.to_datetime(data[\"인허가일자\"])\n",
        "data['창업월'] = data['인허가일자'].dt.month\n",
        "data['창업월']"
      ],
      "execution_count": null,
      "outputs": [
        {
          "output_type": "execute_result",
          "data": {
            "text/plain": [
              "0         9\n",
              "1         9\n",
              "2         8\n",
              "3        12\n",
              "4         7\n",
              "         ..\n",
              "33815    11\n",
              "33816    12\n",
              "33817    12\n",
              "33818    12\n",
              "33820    12\n",
              "Name: 창업월, Length: 30079, dtype: int64"
            ]
          },
          "metadata": {
            "tags": []
          },
          "execution_count": 318
        }
      ]
    },
    {
      "cell_type": "code",
      "metadata": {
        "colab": {
          "base_uri": "https://localhost:8080/"
        },
        "id": "Q5gSp7AnJXgy",
        "outputId": "f4c166c6-a2c5-4143-a74c-9e33b3448aea"
      },
      "source": [
        "#-폐업월\n",
        "data[\"폐업일자\"] = pd.to_datetime(data[\"폐업일자\"])\n",
        "data['폐업월'] = data['폐업일자'].dt.month\n",
        "#data=data.drop('인허가일자',axis=1)\n",
        "data['폐업월']"
      ],
      "execution_count": null,
      "outputs": [
        {
          "output_type": "execute_result",
          "data": {
            "text/plain": [
              "0         9\n",
              "1         9\n",
              "2         6\n",
              "3         9\n",
              "4         8\n",
              "         ..\n",
              "33815    12\n",
              "33816    12\n",
              "33817    12\n",
              "33818    12\n",
              "33820     1\n",
              "Name: 폐업월, Length: 30079, dtype: int64"
            ]
          },
          "metadata": {
            "tags": []
          },
          "execution_count": 319
        }
      ]
    },
    {
      "cell_type": "code",
      "metadata": {
        "id": "fSrw2Qjhm3kV",
        "colab": {
          "base_uri": "https://localhost:8080/"
        },
        "outputId": "06ec9dca-6bc3-427d-b9d9-21d99868e748"
      },
      "source": [
        "#gu mapping\n",
        "gu_mapping={\"강남구\":1, \"서초구\":2, \"마포구\":3, '중구':4,'종로구':5,'영등포':6,'강서구':7,'송파구':8,'관악구':9,'강동구':10,'서대문':11,'동대문':12,'성북구':13,'구로구':14,'양천구':15,'노원구':16,'용산구':17,'광진구':18,'동작구':19,'은평구':20,'성동구':21,'중랑구':22,'금천구':23,'도봉구':24,'강북구':25}\n",
        "data['구_1_25']=data['자치구명'].map(gu_mapping)\n",
        "#data=data.drop('자치구명',axis=1)\n",
        "data['구_1_25']"
      ],
      "execution_count": null,
      "outputs": [
        {
          "output_type": "execute_result",
          "data": {
            "text/plain": [
              "0         5\n",
              "1         5\n",
              "2         5\n",
              "3         5\n",
              "4         5\n",
              "         ..\n",
              "33815    10\n",
              "33816    10\n",
              "33817    10\n",
              "33818    10\n",
              "33820    10\n",
              "Name: 구_1_25, Length: 30079, dtype: int64"
            ]
          },
          "metadata": {
            "tags": []
          },
          "execution_count": 323
        }
      ]
    },
    {
      "cell_type": "code",
      "metadata": {
        "id": "hP2eu3K_zFUm"
      },
      "source": [
        ""
      ],
      "execution_count": null,
      "outputs": []
    },
    {
      "cell_type": "code",
      "metadata": {
        "colab": {
          "base_uri": "https://localhost:8080/"
        },
        "id": "PEs7P6MAuA0k",
        "outputId": "cb6050f4-00e0-4a1f-b1bf-30a819d6be58"
      },
      "source": [
        "#호선 추출하기\n",
        "data['sub_1_9']=data['호선'].str[:2]\n",
        "data['sub_1_9']\n"
      ],
      "execution_count": null,
      "outputs": [
        {
          "output_type": "execute_result",
          "data": {
            "text/plain": [
              "0        03\n",
              "1        03\n",
              "2        01\n",
              "3        06\n",
              "4        06\n",
              "         ..\n",
              "33815    05\n",
              "33816    08\n",
              "33817    05\n",
              "33818    05\n",
              "33820    08\n",
              "Name: sub_1_9, Length: 30079, dtype: object"
            ]
          },
          "metadata": {
            "tags": []
          },
          "execution_count": 324
        }
      ]
    },
    {
      "cell_type": "code",
      "metadata": {
        "colab": {
          "base_uri": "https://localhost:8080/"
        },
        "id": "uIawQuhXAMDL",
        "outputId": "5692f0ad-acf0-4d3b-9d02-eb2d24a368c4"
      },
      "source": [
        "import plotly.express as px\n",
        "is_franchise=data['사업장명'].str.contains(\"이디야|스타벅스|투썸|달콤커피|커피베이|할리스|탐앤탐스|폴바셋|커피나무|파스쿠찌|파스쿠치|빽다방|빈스빈스|엔제리너스|엔젤리너스|커피명가|카페베네|커피스미스|드롭탑|커피마마|더착한커피|더카페|커피에반하다|매머드커피|주커피|토프레소|카페보니또|전광수커피|그라찌에|띠아모|커피빈|더벤티|스무디킹\")\n",
        "#사업장명이 없는 건 프랜차이즈 아닌걸로하자\n",
        "is_super_franchise=data['사업장명'].str.contains(\"이디야|스타벅스|투썸\")\n",
        "data[\"프랜차이즈여부_02\"]=0\n",
        "is_franchise=is_franchise.fillna(0)\n",
        "is_super_franchise=is_super_franchise.fillna(0)\n",
        "is_franchise=is_franchise.astype(int)\n",
        "is_super_franchise=is_super_franchise.astype(int)\n",
        "for i in range(0,40766):\n",
        "  try:\n",
        "    data[\"프랜차이즈여부_02\"][i]=is_franchise[i]+is_super_franchise[i]\n",
        "  except KeyError:\n",
        "    continue\n",
        "data[\"프랜차이즈여부_02\"]"
      ],
      "execution_count": null,
      "outputs": [
        {
          "output_type": "stream",
          "text": [
            "/usr/local/lib/python3.6/dist-packages/ipykernel_launcher.py:12: SettingWithCopyWarning:\n",
            "\n",
            "\n",
            "A value is trying to be set on a copy of a slice from a DataFrame\n",
            "\n",
            "See the caveats in the documentation: https://pandas.pydata.org/pandas-docs/stable/user_guide/indexing.html#returning-a-view-versus-a-copy\n",
            "\n"
          ],
          "name": "stderr"
        },
        {
          "output_type": "execute_result",
          "data": {
            "text/plain": [
              "0        0\n",
              "1        0\n",
              "2        0\n",
              "3        0\n",
              "4        0\n",
              "        ..\n",
              "33815    0\n",
              "33816    0\n",
              "33817    2\n",
              "33818    0\n",
              "33820    0\n",
              "Name: 프랜차이즈여부_02, Length: 30079, dtype: int64"
            ]
          },
          "metadata": {
            "tags": []
          },
          "execution_count": 325
        }
      ]
    },
    {
      "cell_type": "markdown",
      "metadata": {
        "id": "EkpUghX2GcKN"
      },
      "source": [
        "시각화 시작\n"
      ]
    },
    {
      "cell_type": "code",
      "metadata": {
        "id": "aZJ-7p6DgfBT"
      },
      "source": [
        "%matplotlib inline\n",
        "import seaborn as sns\n",
        "sns.set()"
      ],
      "execution_count": null,
      "outputs": []
    },
    {
      "cell_type": "markdown",
      "metadata": {
        "id": "Xjvs4TCzIKnu"
      },
      "source": [
        "한글 깨짐 해결\n"
      ]
    },
    {
      "cell_type": "code",
      "metadata": {
        "id": "i3VzMKmEINw1"
      },
      "source": [
        "import matplotlib.pyplot as plt\n",
        "\n",
        "plt.rc('font', family='NanumBarunGothic') "
      ],
      "execution_count": null,
      "outputs": []
    },
    {
      "cell_type": "code",
      "metadata": {
        "id": "M94CG8jVgsah"
      },
      "source": [
        "def bar_charty(feature):\n",
        "  Success=data[data['성공여부']==1][feature].value_counts()\n",
        "  Fail=data[data['성공여부']==0][feature].value_counts()\n",
        "  df=pd.DataFrame([Success,Fail])\n",
        "  df.index=['성공',\"실패\"]\n",
        "  df.plot(kind='bar',stacked=True, figsize=(10,5))"
      ],
      "execution_count": null,
      "outputs": []
    },
    {
      "cell_type": "code",
      "metadata": {
        "colab": {
          "base_uri": "https://localhost:8080/",
          "height": 506
        },
        "id": "jsBa0wrThcwO",
        "outputId": "30c96226-5233-4125-ea80-8b31a51fdaeb"
      },
      "source": [
        "bar_charty('자치구명')"
      ],
      "execution_count": null,
      "outputs": [
        {
          "output_type": "display_data",
          "data": {
            "image/png": "[encoded data removed]",
            "text/plain": [
              "<Figure size 720x360 with 1 Axes>"
            ]
          },
          "metadata": {
            "tags": []
          }
        }
      ]
    },
    {
      "cell_type": "code",
      "metadata": {
        "id": "AKBh3-Jsn5jc"
      },
      "source": [
        "#bar_charty('행정동명') 너무 많음"
      ],
      "execution_count": null,
      "outputs": []
    },
    {
      "cell_type": "code",
      "metadata": {
        "colab": {
          "base_uri": "https://localhost:8080/",
          "height": 332
        },
        "id": "d0rU3pDMwl3O",
        "outputId": "1a6ac23f-589b-453e-9aa6-c000412d92cc"
      },
      "source": [
        "bar_charty('영업상태명')"
      ],
      "execution_count": null,
      "outputs": [
        {
          "output_type": "display_data",
          "data": {
            "image/png": "[encoded data removed]",
            "text/plain": [
              "<Figure size 720x360 with 1 Axes>"
            ]
          },
          "metadata": {
            "tags": []
          }
        }
      ]
    },
    {
      "cell_type": "code",
      "metadata": {
        "id": "Lh9lSpJywmRm",
        "colab": {
          "base_uri": "https://localhost:8080/",
          "height": 332
        },
        "outputId": "7737e800-cc9b-47f4-dd3a-76fa986ee0cc"
      },
      "source": [
        "bar_charty('업소위치분기')#->2층이상이 매우매우 작아 층을 지하, 지상, 2층이상으로 하기로 했다"
      ],
      "execution_count": null,
      "outputs": [
        {
          "output_type": "display_data",
          "data": {
            "image/png": "[encoded data removed]",
            "text/plain": [
              "<Figure size 720x360 with 1 Axes>"
            ]
          },
          "metadata": {
            "tags": []
          }
        }
      ]
    },
    {
      "cell_type": "code",
      "metadata": {
        "colab": {
          "base_uri": "https://localhost:8080/",
          "height": 332
        },
        "id": "waVz7Q6zaR8n",
        "outputId": "a9db3813-2f5d-4cf6-c5d1-fd850608944d"
      },
      "source": [
        "bar_charty('창업월')"
      ],
      "execution_count": null,
      "outputs": [
        {
          "output_type": "display_data",
          "data": {
            "image/png": "[encoded data removed]",
            "text/plain": [
              "<Figure size 720x360 with 1 Axes>"
            ]
          },
          "metadata": {
            "tags": []
          }
        }
      ]
    },
    {
      "cell_type": "code",
      "metadata": {
        "colab": {
          "base_uri": "https://localhost:8080/",
          "height": 332
        },
        "id": "JZSP5sb5JwhV",
        "outputId": "4590e85d-d311-415f-cfcc-14436f365ca9"
      },
      "source": [
        " bar_charty('폐업월') #미래 데이터랑 상관이 없지만 과거데이터에서 활용하기(예시, 이 월을 조심하시오)\n",
        " #데이터 없는 것들 다 12월로 해서 이케 됐나봄"
      ],
      "execution_count": null,
      "outputs": [
        {
          "output_type": "display_data",
          "data": {
            "image/png": "[encoded data removed]",
            "text/plain": [
              "<Figure size 720x360 with 1 Axes>"
            ]
          },
          "metadata": {
            "tags": []
          }
        }
      ]
    },
    {
      "cell_type": "code",
      "metadata": {
        "colab": {
          "base_uri": "https://localhost:8080/",
          "height": 332
        },
        "id": "mfn_SDdSgJnT",
        "outputId": "91486052-34d2-498e-8a89-260e1c9c684b"
      },
      "source": [
        "bar_charty('프랜차이즈여부_02')"
      ],
      "execution_count": null,
      "outputs": [
        {
          "output_type": "display_data",
          "data": {
            "image/png": "[encoded data removed]",
            "text/plain": [
              "<Figure size 720x360 with 1 Axes>"
            ]
          },
          "metadata": {
            "tags": []
          }
        }
      ]
    },
    {
      "cell_type": "code",
      "metadata": {
        "colab": {
          "base_uri": "https://localhost:8080/",
          "height": 332
        },
        "id": "2XJbArdFumVU",
        "outputId": "739c3596-4219-443a-868f-d9fc08d4bf93"
      },
      "source": [
        "bar_charty('sub_1_9')#->순위별로 다시 매핑해줬따"
      ],
      "execution_count": null,
      "outputs": [
        {
          "output_type": "display_data",
          "data": {
            "image/png": "[encoded data removed]",
            "text/plain": [
              "<Figure size 720x360 with 1 Axes>"
            ]
          },
          "metadata": {
            "tags": []
          }
        }
      ]
    },
    {
      "cell_type": "code",
      "metadata": {
        "colab": {
          "base_uri": "https://localhost:8080/",
          "height": 208
        },
        "id": "tGZQ_ydnotPy",
        "outputId": "5d1bcc1b-cb4d-48de-fad4-db7514452f2d"
      },
      "source": [
        "facet=sns.FacetGrid(data, hue='성공여부', aspect=4)\n",
        "facet.map(sns.kdeplot, 'X',shade=True)\n",
        "facet.set(xlim=(data['X'].min(),data['X'].max()))\n",
        "facet.add_legend() \n",
        "\n",
        "import matplotlib.pyplot as plt\n",
        "plt.show()\n",
        "#1영업, 2폐업"
      ],
      "execution_count": null,
      "outputs": [
        {
          "output_type": "display_data",
          "data": {
            "image/png": "[encoded data removed]",
            "text/plain": [
              "<Figure size 915.8x216 with 1 Axes>"
            ]
          },
          "metadata": {
            "tags": []
          }
        }
      ]
    },
    {
      "cell_type": "code",
      "metadata": {
        "id": "eQv3uiAYpA9E",
        "colab": {
          "base_uri": "https://localhost:8080/",
          "height": 208
        },
        "outputId": "47f1c744-addf-44ad-e1fb-65bf848c7a0c"
      },
      "source": [
        "facet=sns.FacetGrid(data, hue='성공여부', aspect=4)\n",
        "facet.map(sns.kdeplot, 'Y',shade=True)\n",
        "facet.set(xlim=(data['Y'].min(),data['Y'].max()))\n",
        "facet.add_legend()\n",
        "\n",
        "import matplotlib.pyplot as plt\n",
        "plt.show()"
      ],
      "execution_count": null,
      "outputs": [
        {
          "output_type": "display_data",
          "data": {
            "image/png": "[encoded data removed]",
            "text/plain": [
              "<Figure size 915.8x216 with 1 Axes>"
            ]
          },
          "metadata": {
            "tags": []
          }
        }
      ]
    },
    {
      "cell_type": "code",
      "metadata": {
        "colab": {
          "base_uri": "https://localhost:8080/",
          "height": 208
        },
        "id": "gd5fjsOXN8r0",
        "outputId": "14ee3c97-c423-4ca8-a3e0-2f87aae9abad"
      },
      "source": [
        "facet=sns.FacetGrid(data, hue='성공여부', aspect=4)\n",
        "facet.map(sns.kdeplot,'년도',shade=True)\n",
        "facet.set(xlim=(data['년도'].min(),data['년도'].max()))\n",
        "facet.add_legend()\n",
        "\n",
        "import matplotlib.pyplot as plt\n",
        "plt.show()\n",
        "#양상문제 : 폐업일자의 결측치를 전부 2019.12.31로 잡았고, 성공 여부를 2년으로 두었기 때문에 2017년 근방의 데이터는 무의미하다."
      ],
      "execution_count": null,
      "outputs": [
        {
          "output_type": "display_data",
          "data": {
            "image/png": "[encoded data removed]",
            "text/plain": [
              "<Figure size 915.8x216 with 1 Axes>"
            ]
          },
          "metadata": {
            "tags": []
          }
        }
      ]
    },
    {
      "cell_type": "code",
      "metadata": {
        "id": "x9gT2mdnVVEm"
      },
      "source": [
        "#지하철 재매핑 : 성공률 순\n",
        "sub_mapping={\"02호선\":1, \"05호선\":2, \"03호선\":3, '01호선':4,'06호선':5,'07호선':6,'04호선':7,'09호선':8,'08호선':9}\n",
        "data['sub_19']=data['호선'].map(sub_mapping)"
      ],
      "execution_count": null,
      "outputs": []
    },
    {
      "cell_type": "code",
      "metadata": {
        "id": "qkIep60HOUck",
        "colab": {
          "base_uri": "https://localhost:8080/",
          "height": 636
        },
        "outputId": "1d230bb7-0dfc-4f7c-808f-011af6761d21"
      },
      "source": [
        "data.head()"
      ],
      "execution_count": null,
      "outputs": [
        {
          "output_type": "execute_result",
          "data": {
            "text/html": [
              "<div>\n",
              "<style scoped>\n",
              "    .dataframe tbody tr th:only-of-type {\n",
              "        vertical-align: middle;\n",
              "    }\n",
              "\n",
              "    .dataframe tbody tr th {\n",
              "        vertical-align: top;\n",
              "    }\n",
              "\n",
              "    .dataframe thead th {\n",
              "        text-align: right;\n",
              "    }\n",
              "</style>\n",
              "<table border=\"1\" class=\"dataframe\">\n",
              "  <thead>\n",
              "    <tr style=\"text-align: right;\">\n",
              "      <th></th>\n",
              "      <th>자치구명</th>\n",
              "      <th>행정동명</th>\n",
              "      <th>년도</th>\n",
              "      <th>인허가일자</th>\n",
              "      <th>폐업일자</th>\n",
              "      <th>영업상태코드</th>\n",
              "      <th>영업상태명</th>\n",
              "      <th>사업장명</th>\n",
              "      <th>X</th>\n",
              "      <th>Y</th>\n",
              "      <th>시설총규모</th>\n",
              "      <th>규모분기</th>\n",
              "      <th>총층수1</th>\n",
              "      <th>업소위치분기</th>\n",
              "      <th>영업기간</th>\n",
              "      <th>cluster_id</th>\n",
              "      <th>역이름</th>\n",
              "      <th>SX</th>\n",
              "      <th>SY</th>\n",
              "      <th>호선</th>\n",
              "      <th>distance</th>\n",
              "      <th>d_code</th>\n",
              "      <th>성공여부</th>\n",
              "      <th>창업월</th>\n",
              "      <th>폐업월</th>\n",
              "      <th>구_1_25</th>\n",
              "      <th>sub_1_9</th>\n",
              "      <th>프랜차이즈여부_02</th>\n",
              "      <th>sub_19</th>\n",
              "    </tr>\n",
              "  </thead>\n",
              "  <tbody>\n",
              "    <tr>\n",
              "      <th>0</th>\n",
              "      <td>종로구</td>\n",
              "      <td>사직동</td>\n",
              "      <td>1990</td>\n",
              "      <td>1990-09-03</td>\n",
              "      <td>2000-09-06</td>\n",
              "      <td>2</td>\n",
              "      <td>폐업</td>\n",
              "      <td>삼광다방</td>\n",
              "      <td>126.970654</td>\n",
              "      <td>37.576068</td>\n",
              "      <td>74.47</td>\n",
              "      <td>7</td>\n",
              "      <td>1.0</td>\n",
              "      <td>1</td>\n",
              "      <td>3656</td>\n",
              "      <td>10.0</td>\n",
              "      <td>경복궁역</td>\n",
              "      <td>126.973669</td>\n",
              "      <td>37.575788</td>\n",
              "      <td>03호선</td>\n",
              "      <td>0.26746</td>\n",
              "      <td>1</td>\n",
              "      <td>1</td>\n",
              "      <td>9</td>\n",
              "      <td>9</td>\n",
              "      <td>5</td>\n",
              "      <td>03</td>\n",
              "      <td>0</td>\n",
              "      <td>3</td>\n",
              "    </tr>\n",
              "    <tr>\n",
              "      <th>1</th>\n",
              "      <td>종로구</td>\n",
              "      <td>사직동</td>\n",
              "      <td>1990</td>\n",
              "      <td>1990-09-03</td>\n",
              "      <td>2004-09-07</td>\n",
              "      <td>2</td>\n",
              "      <td>폐업</td>\n",
              "      <td>대경</td>\n",
              "      <td>126.970422</td>\n",
              "      <td>37.576234</td>\n",
              "      <td>99.21</td>\n",
              "      <td>9</td>\n",
              "      <td>1.0</td>\n",
              "      <td>1</td>\n",
              "      <td>5118</td>\n",
              "      <td>10.0</td>\n",
              "      <td>경복궁역</td>\n",
              "      <td>126.973669</td>\n",
              "      <td>37.575788</td>\n",
              "      <td>03호선</td>\n",
              "      <td>0.29035</td>\n",
              "      <td>2</td>\n",
              "      <td>1</td>\n",
              "      <td>9</td>\n",
              "      <td>9</td>\n",
              "      <td>5</td>\n",
              "      <td>03</td>\n",
              "      <td>0</td>\n",
              "      <td>3</td>\n",
              "    </tr>\n",
              "    <tr>\n",
              "      <th>2</th>\n",
              "      <td>종로구</td>\n",
              "      <td>종로1.2.3.4가동</td>\n",
              "      <td>1990</td>\n",
              "      <td>1990-08-22</td>\n",
              "      <td>1996-06-13</td>\n",
              "      <td>2</td>\n",
              "      <td>폐업</td>\n",
              "      <td>국빈다방</td>\n",
              "      <td>126.986778</td>\n",
              "      <td>37.570982</td>\n",
              "      <td>32.00</td>\n",
              "      <td>3</td>\n",
              "      <td>4.0</td>\n",
              "      <td>1</td>\n",
              "      <td>2122</td>\n",
              "      <td>205.0</td>\n",
              "      <td>종각역</td>\n",
              "      <td>126.983134</td>\n",
              "      <td>37.570222</td>\n",
              "      <td>01호선</td>\n",
              "      <td>0.33209</td>\n",
              "      <td>2</td>\n",
              "      <td>1</td>\n",
              "      <td>8</td>\n",
              "      <td>6</td>\n",
              "      <td>5</td>\n",
              "      <td>01</td>\n",
              "      <td>0</td>\n",
              "      <td>4</td>\n",
              "    </tr>\n",
              "    <tr>\n",
              "      <th>3</th>\n",
              "      <td>종로구</td>\n",
              "      <td>숭인제2동</td>\n",
              "      <td>1990</td>\n",
              "      <td>1990-12-22</td>\n",
              "      <td>1994-09-07</td>\n",
              "      <td>2</td>\n",
              "      <td>폐업</td>\n",
              "      <td>나드리커피숍</td>\n",
              "      <td>127.018736</td>\n",
              "      <td>37.574082</td>\n",
              "      <td>139.00</td>\n",
              "      <td>10</td>\n",
              "      <td>1.0</td>\n",
              "      <td>1</td>\n",
              "      <td>1355</td>\n",
              "      <td>64.0</td>\n",
              "      <td>동묘앞역</td>\n",
              "      <td>127.016346</td>\n",
              "      <td>37.573213</td>\n",
              "      <td>06호선</td>\n",
              "      <td>0.23171</td>\n",
              "      <td>1</td>\n",
              "      <td>1</td>\n",
              "      <td>12</td>\n",
              "      <td>9</td>\n",
              "      <td>5</td>\n",
              "      <td>06</td>\n",
              "      <td>0</td>\n",
              "      <td>5</td>\n",
              "    </tr>\n",
              "    <tr>\n",
              "      <th>4</th>\n",
              "      <td>종로구</td>\n",
              "      <td>숭인제1동</td>\n",
              "      <td>1990</td>\n",
              "      <td>1990-07-13</td>\n",
              "      <td>2000-08-17</td>\n",
              "      <td>2</td>\n",
              "      <td>폐업</td>\n",
              "      <td>석다방</td>\n",
              "      <td>127.015994</td>\n",
              "      <td>37.573633</td>\n",
              "      <td>115.84</td>\n",
              "      <td>9</td>\n",
              "      <td>1.0</td>\n",
              "      <td>1</td>\n",
              "      <td>3688</td>\n",
              "      <td>64.0</td>\n",
              "      <td>동묘앞역</td>\n",
              "      <td>127.016346</td>\n",
              "      <td>37.573213</td>\n",
              "      <td>06호선</td>\n",
              "      <td>0.05603</td>\n",
              "      <td>1</td>\n",
              "      <td>1</td>\n",
              "      <td>7</td>\n",
              "      <td>8</td>\n",
              "      <td>5</td>\n",
              "      <td>06</td>\n",
              "      <td>0</td>\n",
              "      <td>5</td>\n",
              "    </tr>\n",
              "  </tbody>\n",
              "</table>\n",
              "</div>"
            ],
            "text/plain": [
              "  자치구명         행정동명    년도      인허가일자  ... 구_1_25  sub_1_9 프랜차이즈여부_02 sub_19\n",
              "0  종로구          사직동  1990 1990-09-03  ...      5       03          0      3\n",
              "1  종로구          사직동  1990 1990-09-03  ...      5       03          0      3\n",
              "2  종로구  종로1.2.3.4가동  1990 1990-08-22  ...      5       01          0      4\n",
              "3  종로구        숭인제2동  1990 1990-12-22  ...      5       06          0      5\n",
              "4  종로구        숭인제1동  1990 1990-07-13  ...      5       06          0      5\n",
              "\n",
              "[5 rows x 29 columns]"
            ]
          },
          "metadata": {
            "tags": []
          },
          "execution_count": 348
        }
      ]
    },
    {
      "cell_type": "code",
      "metadata": {
        "id": "eCJDMyoMz8gT"
      },
      "source": [
        "#노쓸모 드랍\n",
        "\n",
        "feat_drop=['영업상태코드','년도','자치구명','cluster_id','역이름','폐업월','행정동명','폐업일자','인허가일자','영업기간','영업상태명','Y','X','SX','SY','규모분기','영업기간','총층수1','d_code','호선','sub_1_9']\n",
        "data=data.drop(feat_drop, axis=1)"
      ],
      "execution_count": null,
      "outputs": []
    },
    {
      "cell_type": "code",
      "metadata": {
        "colab": {
          "base_uri": "https://localhost:8080/"
        },
        "id": "IoxSGXkzJNZC",
        "outputId": "949ec370-9d6e-4873-f7c1-a97554aee117"
      },
      "source": [
        "data.info()"
      ],
      "execution_count": null,
      "outputs": [
        {
          "output_type": "stream",
          "text": [
            "<class 'pandas.core.frame.DataFrame'>\n",
            "Int64Index: 30079 entries, 0 to 33820\n",
            "Data columns (total 9 columns):\n",
            " #   Column      Non-Null Count  Dtype   \n",
            "---  ------      --------------  -----   \n",
            " 0   사업장명        30079 non-null  object  \n",
            " 1   시설총규모       30079 non-null  float64 \n",
            " 2   업소위치분기      30079 non-null  int64   \n",
            " 3   distance    30079 non-null  float64 \n",
            " 4   성공여부        30079 non-null  category\n",
            " 5   창업월         30079 non-null  int64   \n",
            " 6   구_1_25      30079 non-null  int64   \n",
            " 7   프랜차이즈여부_02  30079 non-null  int64   \n",
            " 8   sub_19      30079 non-null  int64   \n",
            "dtypes: category(1), float64(2), int64(5), object(1)\n",
            "memory usage: 3.3+ MB\n"
          ],
          "name": "stdout"
        }
      ]
    },
    {
      "cell_type": "code",
      "metadata": {
        "colab": {
          "base_uri": "https://localhost:8080/",
          "height": 204
        },
        "id": "41n984BYfD6F",
        "outputId": "48c4881e-80c1-444b-8fbb-1a256e480639"
      },
      "source": [
        "data.head()"
      ],
      "execution_count": null,
      "outputs": [
        {
          "output_type": "execute_result",
          "data": {
            "text/html": [
              "<div>\n",
              "<style scoped>\n",
              "    .dataframe tbody tr th:only-of-type {\n",
              "        vertical-align: middle;\n",
              "    }\n",
              "\n",
              "    .dataframe tbody tr th {\n",
              "        vertical-align: top;\n",
              "    }\n",
              "\n",
              "    .dataframe thead th {\n",
              "        text-align: right;\n",
              "    }\n",
              "</style>\n",
              "<table border=\"1\" class=\"dataframe\">\n",
              "  <thead>\n",
              "    <tr style=\"text-align: right;\">\n",
              "      <th></th>\n",
              "      <th>사업장명</th>\n",
              "      <th>시설총규모</th>\n",
              "      <th>업소위치분기</th>\n",
              "      <th>distance</th>\n",
              "      <th>성공여부</th>\n",
              "      <th>창업월</th>\n",
              "      <th>구_1_25</th>\n",
              "      <th>프랜차이즈여부_02</th>\n",
              "      <th>sub_19</th>\n",
              "    </tr>\n",
              "  </thead>\n",
              "  <tbody>\n",
              "    <tr>\n",
              "      <th>0</th>\n",
              "      <td>삼광다방</td>\n",
              "      <td>74.47</td>\n",
              "      <td>1</td>\n",
              "      <td>0.26746</td>\n",
              "      <td>1</td>\n",
              "      <td>9</td>\n",
              "      <td>5</td>\n",
              "      <td>0</td>\n",
              "      <td>3</td>\n",
              "    </tr>\n",
              "    <tr>\n",
              "      <th>1</th>\n",
              "      <td>대경</td>\n",
              "      <td>99.21</td>\n",
              "      <td>1</td>\n",
              "      <td>0.29035</td>\n",
              "      <td>1</td>\n",
              "      <td>9</td>\n",
              "      <td>5</td>\n",
              "      <td>0</td>\n",
              "      <td>3</td>\n",
              "    </tr>\n",
              "    <tr>\n",
              "      <th>2</th>\n",
              "      <td>국빈다방</td>\n",
              "      <td>32.00</td>\n",
              "      <td>1</td>\n",
              "      <td>0.33209</td>\n",
              "      <td>1</td>\n",
              "      <td>8</td>\n",
              "      <td>5</td>\n",
              "      <td>0</td>\n",
              "      <td>4</td>\n",
              "    </tr>\n",
              "    <tr>\n",
              "      <th>3</th>\n",
              "      <td>나드리커피숍</td>\n",
              "      <td>139.00</td>\n",
              "      <td>1</td>\n",
              "      <td>0.23171</td>\n",
              "      <td>1</td>\n",
              "      <td>12</td>\n",
              "      <td>5</td>\n",
              "      <td>0</td>\n",
              "      <td>5</td>\n",
              "    </tr>\n",
              "    <tr>\n",
              "      <th>4</th>\n",
              "      <td>석다방</td>\n",
              "      <td>115.84</td>\n",
              "      <td>1</td>\n",
              "      <td>0.05603</td>\n",
              "      <td>1</td>\n",
              "      <td>7</td>\n",
              "      <td>5</td>\n",
              "      <td>0</td>\n",
              "      <td>5</td>\n",
              "    </tr>\n",
              "  </tbody>\n",
              "</table>\n",
              "</div>"
            ],
            "text/plain": [
              "     사업장명   시설총규모  업소위치분기  distance 성공여부  창업월  구_1_25  프랜차이즈여부_02  sub_19\n",
              "0    삼광다방   74.47       1   0.26746    1    9       5           0       3\n",
              "1      대경   99.21       1   0.29035    1    9       5           0       3\n",
              "2    국빈다방   32.00       1   0.33209    1    8       5           0       4\n",
              "3  나드리커피숍  139.00       1   0.23171    1   12       5           0       5\n",
              "4     석다방  115.84       1   0.05603    1    7       5           0       5"
            ]
          },
          "metadata": {
            "tags": []
          },
          "execution_count": 351
        }
      ]
    },
    {
      "cell_type": "code",
      "metadata": {
        "id": "XVKcA4ZDYEaH"
      },
      "source": [
        "#비복원추출\n",
        "test=data.sample(frac=0.3,replace=False,random_state=1)\n",
        "train=data.sample(frac=0.7,replace=False,random_state=7)\n",
        "'''\n",
        "test=data[23300:]#3:7\n",
        "train=data[:23300]\n",
        "'''\n",
        "train=train.drop(['사업장명'], axis=1)"
      ],
      "execution_count": null,
      "outputs": []
    },
    {
      "cell_type": "code",
      "metadata": {
        "colab": {
          "base_uri": "https://localhost:8080/"
        },
        "id": "x0Ait1zJ2DiF",
        "outputId": "440f47d9-ccdc-481d-f08e-176fcd07d27f"
      },
      "source": [
        "train_data=train.drop('성공여부',axis=1)\n",
        "train_data.shape\n"
      ],
      "execution_count": null,
      "outputs": [
        {
          "output_type": "execute_result",
          "data": {
            "text/plain": [
              "(21055, 7)"
            ]
          },
          "metadata": {
            "tags": []
          },
          "execution_count": 353
        }
      ]
    },
    {
      "cell_type": "code",
      "metadata": {
        "colab": {
          "base_uri": "https://localhost:8080/"
        },
        "id": "5OabtiaNnojr",
        "outputId": "10654ea4-67ea-487f-899c-cf0aa0e96157"
      },
      "source": [
        "test.shape"
      ],
      "execution_count": null,
      "outputs": [
        {
          "output_type": "execute_result",
          "data": {
            "text/plain": [
              "(9024, 9)"
            ]
          },
          "metadata": {
            "tags": []
          },
          "execution_count": 354
        }
      ]
    },
    {
      "cell_type": "code",
      "metadata": {
        "colab": {
          "base_uri": "https://localhost:8080/",
          "height": 204
        },
        "id": "Hw_Dundr2SCy",
        "outputId": "f97c5bd4-7d16-4cdb-fe69-af71d0cf662b"
      },
      "source": [
        "train_data.head()"
      ],
      "execution_count": null,
      "outputs": [
        {
          "output_type": "execute_result",
          "data": {
            "text/html": [
              "<div>\n",
              "<style scoped>\n",
              "    .dataframe tbody tr th:only-of-type {\n",
              "        vertical-align: middle;\n",
              "    }\n",
              "\n",
              "    .dataframe tbody tr th {\n",
              "        vertical-align: top;\n",
              "    }\n",
              "\n",
              "    .dataframe thead th {\n",
              "        text-align: right;\n",
              "    }\n",
              "</style>\n",
              "<table border=\"1\" class=\"dataframe\">\n",
              "  <thead>\n",
              "    <tr style=\"text-align: right;\">\n",
              "      <th></th>\n",
              "      <th>시설총규모</th>\n",
              "      <th>업소위치분기</th>\n",
              "      <th>distance</th>\n",
              "      <th>창업월</th>\n",
              "      <th>구_1_25</th>\n",
              "      <th>프랜차이즈여부_02</th>\n",
              "      <th>sub_19</th>\n",
              "    </tr>\n",
              "  </thead>\n",
              "  <tbody>\n",
              "    <tr>\n",
              "      <th>32243</th>\n",
              "      <td>451.18</td>\n",
              "      <td>1</td>\n",
              "      <td>1.10014</td>\n",
              "      <td>12</td>\n",
              "      <td>8</td>\n",
              "      <td>2</td>\n",
              "      <td>8</td>\n",
              "    </tr>\n",
              "    <tr>\n",
              "      <th>11737</th>\n",
              "      <td>60.55</td>\n",
              "      <td>1</td>\n",
              "      <td>1.62516</td>\n",
              "      <td>5</td>\n",
              "      <td>20</td>\n",
              "      <td>0</td>\n",
              "      <td>5</td>\n",
              "    </tr>\n",
              "    <tr>\n",
              "      <th>27874</th>\n",
              "      <td>54.09</td>\n",
              "      <td>0</td>\n",
              "      <td>0.40774</td>\n",
              "      <td>7</td>\n",
              "      <td>1</td>\n",
              "      <td>1</td>\n",
              "      <td>1</td>\n",
              "    </tr>\n",
              "    <tr>\n",
              "      <th>19133</th>\n",
              "      <td>55.50</td>\n",
              "      <td>1</td>\n",
              "      <td>2.78004</td>\n",
              "      <td>2</td>\n",
              "      <td>23</td>\n",
              "      <td>0</td>\n",
              "      <td>4</td>\n",
              "    </tr>\n",
              "    <tr>\n",
              "      <th>29605</th>\n",
              "      <td>82.50</td>\n",
              "      <td>1</td>\n",
              "      <td>0.34979</td>\n",
              "      <td>7</td>\n",
              "      <td>1</td>\n",
              "      <td>0</td>\n",
              "      <td>6</td>\n",
              "    </tr>\n",
              "  </tbody>\n",
              "</table>\n",
              "</div>"
            ],
            "text/plain": [
              "        시설총규모  업소위치분기  distance  창업월  구_1_25  프랜차이즈여부_02  sub_19\n",
              "32243  451.18       1   1.10014   12       8           2       8\n",
              "11737   60.55       1   1.62516    5      20           0       5\n",
              "27874   54.09       0   0.40774    7       1           1       1\n",
              "19133   55.50       1   2.78004    2      23           0       4\n",
              "29605   82.50       1   0.34979    7       1           0       6"
            ]
          },
          "metadata": {
            "tags": []
          },
          "execution_count": 355
        }
      ]
    },
    {
      "cell_type": "code",
      "metadata": {
        "colab": {
          "base_uri": "https://localhost:8080/",
          "height": 204
        },
        "id": "9Jpix1yx2Wt2",
        "outputId": "f2caa3ed-ea29-41c0-a3b7-278a947fc689"
      },
      "source": [
        "test.head()"
      ],
      "execution_count": null,
      "outputs": [
        {
          "output_type": "execute_result",
          "data": {
            "text/html": [
              "<div>\n",
              "<style scoped>\n",
              "    .dataframe tbody tr th:only-of-type {\n",
              "        vertical-align: middle;\n",
              "    }\n",
              "\n",
              "    .dataframe tbody tr th {\n",
              "        vertical-align: top;\n",
              "    }\n",
              "\n",
              "    .dataframe thead th {\n",
              "        text-align: right;\n",
              "    }\n",
              "</style>\n",
              "<table border=\"1\" class=\"dataframe\">\n",
              "  <thead>\n",
              "    <tr style=\"text-align: right;\">\n",
              "      <th></th>\n",
              "      <th>사업장명</th>\n",
              "      <th>시설총규모</th>\n",
              "      <th>업소위치분기</th>\n",
              "      <th>distance</th>\n",
              "      <th>성공여부</th>\n",
              "      <th>창업월</th>\n",
              "      <th>구_1_25</th>\n",
              "      <th>프랜차이즈여부_02</th>\n",
              "      <th>sub_19</th>\n",
              "    </tr>\n",
              "  </thead>\n",
              "  <tbody>\n",
              "    <tr>\n",
              "      <th>5888</th>\n",
              "      <td>갈채다방</td>\n",
              "      <td>72.47</td>\n",
              "      <td>1</td>\n",
              "      <td>0.55981</td>\n",
              "      <td>1</td>\n",
              "      <td>7</td>\n",
              "      <td>18</td>\n",
              "      <td>0</td>\n",
              "      <td>1</td>\n",
              "    </tr>\n",
              "    <tr>\n",
              "      <th>3643</th>\n",
              "      <td>텀브커피 무교동점</td>\n",
              "      <td>26.44</td>\n",
              "      <td>0</td>\n",
              "      <td>0.20197</td>\n",
              "      <td>0</td>\n",
              "      <td>3</td>\n",
              "      <td>4</td>\n",
              "      <td>0</td>\n",
              "      <td>1</td>\n",
              "    </tr>\n",
              "    <tr>\n",
              "      <th>21085</th>\n",
              "      <td>더카페엔여의도백화점점</td>\n",
              "      <td>11.50</td>\n",
              "      <td>1</td>\n",
              "      <td>0.06886</td>\n",
              "      <td>1</td>\n",
              "      <td>9</td>\n",
              "      <td>6</td>\n",
              "      <td>1</td>\n",
              "      <td>2</td>\n",
              "    </tr>\n",
              "    <tr>\n",
              "      <th>18707</th>\n",
              "      <td>바이올렛에스프레소</td>\n",
              "      <td>28.16</td>\n",
              "      <td>1</td>\n",
              "      <td>0.42604</td>\n",
              "      <td>1</td>\n",
              "      <td>4</td>\n",
              "      <td>14</td>\n",
              "      <td>0</td>\n",
              "      <td>6</td>\n",
              "    </tr>\n",
              "    <tr>\n",
              "      <th>1422</th>\n",
              "      <td>카슈카슈</td>\n",
              "      <td>33.60</td>\n",
              "      <td>1</td>\n",
              "      <td>0.30925</td>\n",
              "      <td>1</td>\n",
              "      <td>3</td>\n",
              "      <td>5</td>\n",
              "      <td>0</td>\n",
              "      <td>2</td>\n",
              "    </tr>\n",
              "  </tbody>\n",
              "</table>\n",
              "</div>"
            ],
            "text/plain": [
              "              사업장명  시설총규모  업소위치분기  distance  ... 창업월  구_1_25  프랜차이즈여부_02  sub_19\n",
              "5888          갈채다방  72.47       1   0.55981  ...   7      18           0       1\n",
              "3643     텀브커피 무교동점  26.44       0   0.20197  ...   3       4           0       1\n",
              "21085  더카페엔여의도백화점점  11.50       1   0.06886  ...   9       6           1       2\n",
              "18707    바이올렛에스프레소  28.16       1   0.42604  ...   4      14           0       6\n",
              "1422          카슈카슈  33.60       1   0.30925  ...   3       5           0       2\n",
              "\n",
              "[5 rows x 9 columns]"
            ]
          },
          "metadata": {
            "tags": []
          },
          "execution_count": 356
        }
      ]
    },
    {
      "cell_type": "code",
      "metadata": {
        "id": "nke21ucc3_bX"
      },
      "source": [
        "data_income.to_csv(\"/content/drive/My Drive/Colab Notebooks/data_2020cafe/data_income_inheo.csv\")"
      ],
      "execution_count": null,
      "outputs": []
    },
    {
      "cell_type": "code",
      "metadata": {
        "id": "hFmZ5DVqTbkj"
      },
      "source": [
        "data.to_csv(\"/content/drive/My Drive/Colab Notebooks/data_2020cafe/data_inheo.csv\")"
      ],
      "execution_count": null,
      "outputs": []
    },
    {
      "cell_type": "code",
      "metadata": {
        "id": "HvEzonNR0Wno"
      },
      "source": [
        "train.to_csv(\"/content/drive/My Drive/Colab Notebooks/data_2020cafe/train_inheo.csv\")\n",
        "train_data.to_csv(\"/content/drive/My Drive/Colab Notebooks/data_2020cafe/train_data_inheo.csv\")\n",
        "test.to_csv(\"/content/drive/My Drive/Colab Notebooks/data_2020cafe/test_inheo.csv\")"
      ],
      "execution_count": null,
      "outputs": []
    },
    {
      "cell_type": "code",
      "metadata": {
        "id": "M4MhoqKKkvZP"
      },
      "source": [
        ""
      ],
      "execution_count": null,
      "outputs": []
    }
  ]
}