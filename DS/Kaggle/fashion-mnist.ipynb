{
 "cells": [
  {
   "cell_type": "code",
   "execution_count": 3,
   "metadata": {},
   "outputs": [],
   "source": [
    "import os\n",
    "root_logdir = os.path.join(os.curdir, \"my_logs\")\n",
    "def get_run_logdir():\n",
    "    import time\n",
    "    run_id = time.strftime(\"run_%Y_%m_%d-%H_%M_%S\")\n",
    "    return os.path.join(root_logdir, run_id)\n",
    "run_logdir = get_run_logdir()"
   ]
  },
  {
   "cell_type": "code",
   "execution_count": 11,
   "metadata": {},
   "outputs": [],
   "source": [
    "from tensorflow import keras\n",
    "from tensorflow.keras.preprocessing.image import ImageDataGenerator\n",
    "from keras.optimizers import Adam\n",
    "from sklearn.model_selection import train_test_split\n",
    "\n",
    "import numpy as np\n",
    "import matplotlib.pyplot as plt\n",
    "import tensorflow as tf\n",
    "\n",
    "fashion_mnist=keras.datasets.fashion_mnist\n",
    "(X_train_full, y_train_full),(X_test, y_test)=fashion_mnist.load_data()\n",
    "\n",
    "X_valid,X_train, y_valid, y_train = train_test_split(X_train_full, y_train_full, shuffle=True, test_size=0.1)\n",
    "\n",
    "\n",
    "X_valid, X_train=X_valid/255.0, X_train/255.0\n",
    "X_test=X_test/255.0\n",
    "\n",
    "X_train=X_train[...,np.newaxis]\n",
    "X_valid=X_valid[...,np.newaxis]\n",
    "X_test=X_test[...,np.newaxis]\n",
    "\n"
   ]
  },
  {
   "cell_type": "code",
   "execution_count": 4,
   "metadata": {},
   "outputs": [],
   "source": [
    "class_names=['T-shirt/top','Trouser','Pullover','Dress','Coat','Sandal','Shirt','Sneaker','Bag','Ankle boot']\n"
   ]
  },
  {
   "cell_type": "code",
   "execution_count": 13,
   "metadata": {},
   "outputs": [
    {
     "name": "stdout",
     "output_type": "stream",
     "text": [
      "Epoch 1/10\n",
      "204/204 [==============================] - 87s 425ms/step - loss: 1.9406 - accuracy: 0.2649 - val_loss: 0.8371 - val_accuracy: 0.7392\n",
      "Epoch 2/10\n",
      "204/204 [==============================] - 82s 403ms/step - loss: 1.0100 - accuracy: 0.6370 - val_loss: 0.6483 - val_accuracy: 0.7578\n",
      "Epoch 3/10\n",
      "204/204 [==============================] - 81s 397ms/step - loss: 0.7765 - accuracy: 0.7212 - val_loss: 0.5347 - val_accuracy: 0.7930\n",
      "Epoch 4/10\n",
      "204/204 [==============================] - 91s 449ms/step - loss: 0.6543 - accuracy: 0.7713 - val_loss: 0.4881 - val_accuracy: 0.8142\n",
      "Epoch 5/10\n",
      "204/204 [==============================] - 90s 444ms/step - loss: 0.5996 - accuracy: 0.7953 - val_loss: 0.4536 - val_accuracy: 0.8250\n",
      "Epoch 6/10\n",
      "204/204 [==============================] - 79s 391ms/step - loss: 0.5522 - accuracy: 0.8081 - val_loss: 0.4876 - val_accuracy: 0.8116\n",
      "Epoch 7/10\n",
      "204/204 [==============================] - 78s 385ms/step - loss: 0.4933 - accuracy: 0.8183 - val_loss: 0.4283 - val_accuracy: 0.8446\n",
      "Epoch 8/10\n",
      "204/204 [==============================] - 79s 389ms/step - loss: 0.4774 - accuracy: 0.8344 - val_loss: 0.4041 - val_accuracy: 0.8526\n",
      "Epoch 9/10\n",
      "204/204 [==============================] - 80s 394ms/step - loss: 0.4273 - accuracy: 0.8470 - val_loss: 0.4041 - val_accuracy: 0.8599\n",
      "Epoch 10/10\n",
      "204/204 [==============================] - 78s 383ms/step - loss: 0.3798 - accuracy: 0.8655 - val_loss: 0.4018 - val_accuracy: 0.8577\n",
      "313/313 [==============================] - 11s 35ms/step - loss: 0.4179 - accuracy: 0.8519\n",
      "Test accuracy:  0.8518999814987183\n"
     ]
    }
   ],
   "source": [
    "# 1. 강의 자료\n",
    "tensorboard_cb=keras.callbacks.TensorBoard(run_logdir)\n",
    "\n",
    "model=keras.models.Sequential([keras.layers.Conv2D(64,7,activation='relu',padding='same',input_shape=[28,28,1]),\n",
    "                              keras.layers.MaxPooling2D(2),\n",
    "                               keras.layers.Conv2D(128,3,activation='relu', padding='same'),\n",
    "                               keras.layers.Conv2D(128,3,activation='relu', padding='same'),\n",
    "                               keras.layers.MaxPooling2D(2),\n",
    "                               keras.layers.Conv2D(128,3,activation='relu', padding='same'),\n",
    "                               keras.layers.Conv2D(128,3,activation='relu', padding='same'),\n",
    "                               keras.layers.MaxPooling2D(2),\n",
    "                               keras.layers.Flatten(),#일자로\n",
    "                               keras.layers.Dense(129,activation='relu'),#완전연결층\n",
    "                               keras.layers.Dropout(0.5),\n",
    "                               keras.layers.Dense(64, activation='relu'),\n",
    "                               keras.layers.Dropout(0.5),\n",
    "                               keras.layers.Dense(10,activation='softmax')])#10개 중 누가 제일 높은가?\n",
    "\n",
    "model.compile(loss='sparse_categorical_crossentropy', optimizer=\"adam\",metrics=['accuracy'])\n",
    "\n",
    "history=model.fit(X_train, y_train, epochs=10, validation_data=(X_valid, y_valid), callbacks=[tensorboard_cb])\n",
    "\n",
    "results = model.evaluate(X_test, y_test)\n",
    "print('Test accuracy: ', results[1])"
   ]
  },
  {
   "cell_type": "markdown",
   "metadata": {},
   "source": [
    "원본 파일을 돌려본 결과 정확도가 0.8519으로 나왔다.\n",
    "\n",
    "강의 자료 그대로 순서를 섞지 않고 모델을 돌리면 0.89정도가 나옵니다. 그러나, 실제 모델을 돌릴 입장에서 shuffle을 True로 하는 것이 적합하다고 판단되어 train_test_split 라이브러리를 이용하여 랜덤으로 돌렸습니다."
   ]
  },
  {
   "cell_type": "code",
   "execution_count": 6,
   "metadata": {},
   "outputs": [
    {
     "name": "stdout",
     "output_type": "stream",
     "text": [
      "[[0.   0.   0.   0.   0.   0.   0.   0.   0.   1.  ]\n",
      " [0.   0.   1.   0.   0.   0.   0.   0.   0.   0.  ]\n",
      " [0.   1.   0.   0.   0.   0.   0.   0.   0.   0.  ]\n",
      " [0.   1.   0.   0.   0.   0.   0.   0.   0.   0.  ]\n",
      " [0.03 0.   0.   0.   0.   0.   0.97 0.   0.   0.  ]\n",
      " [0.   1.   0.   0.   0.   0.   0.   0.   0.   0.  ]\n",
      " [0.   0.   0.02 0.   0.98 0.   0.   0.   0.   0.  ]\n",
      " [0.   0.   0.   0.   0.   0.   1.   0.   0.   0.  ]\n",
      " [0.   0.   0.   0.   0.   1.   0.   0.   0.   0.  ]\n",
      " [0.   0.   0.   0.   0.   0.   0.   1.   0.   0.  ]]\n"
     ]
    },
    {
     "data": {
      "image/png": "[encoded data removed]",
      "text/plain": [
       "<Figure size 720x720 with 10 Axes>"
      ]
     },
     "metadata": {
      "needs_background": "light"
     },
     "output_type": "display_data"
    }
   ],
   "source": [
    "## 이미지 확인\n",
    "X_new=X_test[:10]\n",
    "y_prob=model.predict(X_new)\n",
    "print(y_prob.round(2))\n",
    "y_pred=np.argmax(model.predict(X_new), axis=-1)\n",
    "np.array(class_names)[y_pred]\n",
    "\n",
    "plt.figure(figsize=(10,10))\n",
    "for img in range(10):\n",
    "    plt.subplot(1,10,img+1)\n",
    "    plt.grid(False)\n",
    "    plt.imshow(X_new[img,:,:,0])\n",
    "    plt.xlabel(class_names[y_pred[img]])"
   ]
  },
  {
   "cell_type": "code",
   "execution_count": 7,
   "metadata": {},
   "outputs": [
    {
     "name": "stdout",
     "output_type": "stream",
     "text": [
      "Saved model to disk\n"
     ]
    }
   ],
   "source": [
    "model.save(\"original_model.h5\")\n",
    "print(\"Saved model to disk\")"
   ]
  },
  {
   "cell_type": "code",
   "execution_count": 17,
   "metadata": {},
   "outputs": [
    {
     "name": "stdout",
     "output_type": "stream",
     "text": [
      "Epoch 1/10\n",
      "207/207 [==============================] - 101s 486ms/step - loss: 1.7210 - accuracy: 0.3772 - val_loss: 0.7237 - val_accuracy: 0.7434\n",
      "Epoch 2/10\n",
      "207/207 [==============================] - 92s 445ms/step - loss: 0.8948 - accuracy: 0.6781 - val_loss: 0.5573 - val_accuracy: 0.7909\n",
      "Epoch 3/10\n",
      "207/207 [==============================] - 93s 452ms/step - loss: 0.6943 - accuracy: 0.7501 - val_loss: 0.4953 - val_accuracy: 0.8116\n",
      "Epoch 4/10\n",
      "207/207 [==============================] - 96s 463ms/step - loss: 0.5988 - accuracy: 0.7879 - val_loss: 0.4724 - val_accuracy: 0.8162\n",
      "Epoch 5/10\n",
      "207/207 [==============================] - 97s 470ms/step - loss: 0.5366 - accuracy: 0.8069 - val_loss: 0.4158 - val_accuracy: 0.8444\n",
      "Epoch 6/10\n",
      "207/207 [==============================] - 94s 455ms/step - loss: 0.4931 - accuracy: 0.8178 - val_loss: 0.4341 - val_accuracy: 0.8431\n",
      "Epoch 7/10\n",
      "207/207 [==============================] - 99s 478ms/step - loss: 0.4369 - accuracy: 0.8383 - val_loss: 0.4536 - val_accuracy: 0.8334\n",
      "Epoch 8/10\n",
      "207/207 [==============================] - 93s 451ms/step - loss: 0.4248 - accuracy: 0.8528 - val_loss: 0.3934 - val_accuracy: 0.8555\n",
      "Epoch 9/10\n",
      "207/207 [==============================] - 94s 457ms/step - loss: 0.3937 - accuracy: 0.8653 - val_loss: 0.4063 - val_accuracy: 0.8569\n",
      "Epoch 10/10\n",
      "207/207 [==============================] - 96s 467ms/step - loss: 0.3523 - accuracy: 0.8734 - val_loss: 0.3853 - val_accuracy: 0.8621\n",
      "313/313 [==============================] - 12s 40ms/step - loss: 0.4069 - accuracy: 0.8573\n",
      "Test accuracy:  0.8572999835014343\n"
     ]
    }
   ],
   "source": [
    "# 2.1. 활성화 함수 : swish\n",
    "tensorboard_cb=keras.callbacks.TensorBoard(run_logdir)\n",
    "\n",
    "model=keras.models.Sequential([keras.layers.Conv2D(64,7,activation='swish',padding='same',input_shape=[28,28,1]),\n",
    "                              keras.layers.AveragePooling2D(2),\n",
    "                               keras.layers.Conv2D(128,3,activation='swish', padding='same'),\n",
    "                               keras.layers.Conv2D(128,3,activation='swish', padding='same'),\n",
    "                               keras.layers.AveragePooling2D(2),\n",
    "                               keras.layers.Conv2D(128,3,activation='swish', padding='same'),\n",
    "                               keras.layers.Conv2D(128,3,activation='swish', padding='same'),\n",
    "                               keras.layers.AveragePooling2D(2),\n",
    "                               keras.layers.Flatten(),#일자로\n",
    "                               keras.layers.Dense(129,activation='swish'),#완전연결층\n",
    "                               keras.layers.Dropout(0.5),\n",
    "                               keras.layers.Dense(64, activation='swish'),\n",
    "                               keras.layers.Dropout(0.5),\n",
    "                               keras.layers.Dense(10,activation='softmax')])#10개 중 누가 제일 높은가?\n",
    "\n",
    "\n",
    "model.compile(loss='sparse_categorical_crossentropy', optimizer=\"adam\",metrics=['accuracy'])\n",
    "\n",
    "history=model.fit(X_train, y_train, epochs=10, validation_data=(X_valid, y_valid), callbacks=[tensorboard_cb])\n",
    "\n",
    "results = model.evaluate(X_test, y_test)\n",
    "print('Test accuracy: ', results[1])"
   ]
  },
  {
   "cell_type": "markdown",
   "metadata": {},
   "source": [
    "기존의 활성화함수가 relu이므로, 비전에서 많이 사용된다고 하는 swish로 활성화 함수를 바꿔보았다. \n",
    "그 결과, 정확도는 0.8573이다."
   ]
  },
  {
   "cell_type": "code",
   "execution_count": 18,
   "metadata": {},
   "outputs": [
    {
     "name": "stdout",
     "output_type": "stream",
     "text": [
      "Saved model to disk\n"
     ]
    }
   ],
   "source": [
    "model.save(\"swish_model.h5\")\n",
    "print(\"Saved model to disk\")"
   ]
  },
  {
   "cell_type": "code",
   "execution_count": 19,
   "metadata": {
    "scrolled": true
   },
   "outputs": [
    {
     "name": "stdout",
     "output_type": "stream",
     "text": [
      "Epoch 1/10\n",
      "207/207 [==============================] - 89s 426ms/step - loss: 1.5214 - accuracy: 0.4533 - val_loss: 0.6874 - val_accuracy: 0.7408\n",
      "Epoch 2/10\n",
      "207/207 [==============================] - 87s 421ms/step - loss: 0.9353 - accuracy: 0.6609 - val_loss: 0.6159 - val_accuracy: 0.7635\n",
      "Epoch 3/10\n",
      "207/207 [==============================] - 90s 435ms/step - loss: 0.7840 - accuracy: 0.7242 - val_loss: 0.5764 - val_accuracy: 0.7870\n",
      "Epoch 4/10\n",
      "207/207 [==============================] - 87s 421ms/step - loss: 0.7390 - accuracy: 0.7320 - val_loss: 0.4973 - val_accuracy: 0.8151\n",
      "Epoch 5/10\n",
      "207/207 [==============================] - 91s 443ms/step - loss: 0.6284 - accuracy: 0.7743 - val_loss: 0.5067 - val_accuracy: 0.8143\n",
      "Epoch 6/10\n",
      "207/207 [==============================] - 108s 524ms/step - loss: 0.6046 - accuracy: 0.7831 - val_loss: 0.4477 - val_accuracy: 0.8356\n",
      "Epoch 7/10\n",
      "207/207 [==============================] - 87s 420ms/step - loss: 0.5421 - accuracy: 0.8101 - val_loss: 0.4867 - val_accuracy: 0.8225\n",
      "Epoch 8/10\n",
      "207/207 [==============================] - 90s 436ms/step - loss: 0.5773 - accuracy: 0.7936 - val_loss: 0.4249 - val_accuracy: 0.8491\n",
      "Epoch 9/10\n",
      "207/207 [==============================] - 86s 419ms/step - loss: 0.4920 - accuracy: 0.8173 - val_loss: 0.4349 - val_accuracy: 0.8412\n",
      "Epoch 10/10\n",
      "207/207 [==============================] - 94s 455ms/step - loss: 0.4656 - accuracy: 0.8316 - val_loss: 0.4112 - val_accuracy: 0.8551\n",
      "313/313 [==============================] - 12s 39ms/step - loss: 0.4339 - accuracy: 0.8472\n",
      "Test accuracy:  0.8471999764442444\n"
     ]
    }
   ],
   "source": [
    "# 2.2. 활성화 함수 : elu\n",
    "tensorboard_cb=keras.callbacks.TensorBoard(run_logdir)\n",
    "\n",
    "model=keras.models.Sequential([keras.layers.Conv2D(64,7,activation='elu',padding='same',input_shape=[28,28,1]),\n",
    "                              keras.layers.AveragePooling2D(2),\n",
    "                               keras.layers.Conv2D(128,3,activation='elu', padding='same'),\n",
    "                               keras.layers.Conv2D(128,3,activation='elu', padding='same'),\n",
    "                               keras.layers.AveragePooling2D(2),\n",
    "                               keras.layers.Conv2D(128,3,activation='elu', padding='same'),\n",
    "                               keras.layers.Conv2D(128,3,activation='elu', padding='same'),\n",
    "                               keras.layers.AveragePooling2D(2),\n",
    "                               keras.layers.Flatten(),#일자로\n",
    "                               keras.layers.Dense(129,activation='elu'),#완전연결층\n",
    "                               keras.layers.Dropout(0.5),\n",
    "                               keras.layers.Dense(64, activation='elu'),\n",
    "                               keras.layers.Dropout(0.5),\n",
    "                               keras.layers.Dense(10,activation='softmax')])#10개 중 누가 제일 높은가?\n",
    "\n",
    "\n",
    "model.compile(loss='sparse_categorical_crossentropy', optimizer=\"adam\",metrics=['accuracy'])\n",
    "\n",
    "history=model.fit(X_train, y_train, epochs=10, validation_data=(X_valid, y_valid), callbacks=[tensorboard_cb])\n",
    "\n",
    "results = model.evaluate(X_test, y_test)\n",
    "print('Test accuracy: ', results[1])"
   ]
  },
  {
   "cell_type": "markdown",
   "metadata": {},
   "source": [
    "elu로도 활성화 함수를 바꿔보았다. \n",
    "그 결과, 정확도는 0.8472로 이전보다 떨어진 것을 볼 수 있다."
   ]
  },
  {
   "cell_type": "code",
   "execution_count": 20,
   "metadata": {},
   "outputs": [
    {
     "name": "stdout",
     "output_type": "stream",
     "text": [
      "Saved model to disk\n"
     ]
    }
   ],
   "source": [
    "model.save(\"elu_model.h5\")\n",
    "print(\"Saved model to disk\")"
   ]
  },
  {
   "cell_type": "code",
   "execution_count": 24,
   "metadata": {},
   "outputs": [
    {
     "name": "stdout",
     "output_type": "stream",
     "text": [
      "Epoch 1/10\n",
      "222/222 [==============================] - 128s 575ms/step - loss: 1.5560 - accuracy: 0.4215 - val_loss: 0.6541 - val_accuracy: 0.7408\n",
      "Epoch 2/10\n",
      "222/222 [==============================] - 130s 585ms/step - loss: 0.6717 - accuracy: 0.7380 - val_loss: 0.4661 - val_accuracy: 0.8275\n",
      "Epoch 3/10\n",
      "222/222 [==============================] - 131s 592ms/step - loss: 0.5514 - accuracy: 0.8006 - val_loss: 0.4808 - val_accuracy: 0.8247\n",
      "Epoch 4/10\n",
      "222/222 [==============================] - 129s 584ms/step - loss: 0.4660 - accuracy: 0.8345 - val_loss: 0.4464 - val_accuracy: 0.8296\n",
      "Epoch 5/10\n",
      "222/222 [==============================] - 128s 580ms/step - loss: 0.4032 - accuracy: 0.8541 - val_loss: 0.3823 - val_accuracy: 0.8595\n",
      "Epoch 6/10\n",
      "222/222 [==============================] - 131s 590ms/step - loss: 0.3494 - accuracy: 0.8709 - val_loss: 0.3786 - val_accuracy: 0.8646\n",
      "Epoch 7/10\n",
      "222/222 [==============================] - 123s 556ms/step - loss: 0.3328 - accuracy: 0.8812 - val_loss: 0.3961 - val_accuracy: 0.8643\n",
      "Epoch 8/10\n",
      "222/222 [==============================] - 128s 579ms/step - loss: 0.2762 - accuracy: 0.9007 - val_loss: 0.3711 - val_accuracy: 0.8681\n",
      "Epoch 9/10\n",
      "222/222 [==============================] - 128s 576ms/step - loss: 0.2742 - accuracy: 0.8961 - val_loss: 0.3833 - val_accuracy: 0.8665\n",
      "Epoch 10/10\n",
      "222/222 [==============================] - 125s 563ms/step - loss: 0.2684 - accuracy: 0.9030 - val_loss: 0.3975 - val_accuracy: 0.8758\n",
      "313/313 [==============================] - 15s 49ms/step - loss: 0.4265 - accuracy: 0.8689\n",
      "Test accuracy:  0.8689000010490417\n"
     ]
    }
   ],
   "source": [
    "# 3. 필터 늘림\n",
    "tensorboard_cb=keras.callbacks.TensorBoard(run_logdir)\n",
    "\n",
    "model=keras.models.Sequential([keras.layers.Conv2D(64,7,activation='relu',padding='same',input_shape=[28,28,1]),\n",
    "                              keras.layers.MaxPooling2D(2),\n",
    "                                keras.layers.Conv2D(256,3,activation='relu', padding='same'),\n",
    "                               keras.layers.MaxPooling2D(2),\n",
    "                               keras.layers.Conv2D(256,3,activation='relu', padding='same'),\n",
    "                               keras.layers.Conv2D(256,3,activation='relu', padding='same'),\n",
    "                               keras.layers.MaxPooling2D(2),\n",
    "                               keras.layers.Flatten(),#일자로\n",
    "                               keras.layers.Dense(512,activation='relu'),#완전연결층\n",
    "                               keras.layers.Dropout(0.5),\n",
    "                               keras.layers.Dense(256, activation='relu'),\n",
    "                               keras.layers.Dropout(0.5),\n",
    "                               keras.layers.Dense(10,activation='softmax')])#10개 중 누가 제일 높은가?\n",
    "model.compile(loss='sparse_categorical_crossentropy', optimizer=\"adam\",metrics=['accuracy'])\n",
    "\n",
    "history=model.fit(X_train, y_train, epochs=10, validation_data=(X_valid, y_valid), callbacks=[tensorboard_cb])\n",
    "\n",
    "results = model.evaluate(X_test, y_test)\n",
    "print('Test accuracy: ', results[1])"
   ]
  },
  {
   "cell_type": "markdown",
   "metadata": {},
   "source": [
    "필터의 개수를 레이어 별로 두배 정도 늘려보았다. \n",
    "정확도는 0.8689으로 처음보다 높게 나왔다."
   ]
  },
  {
   "cell_type": "code",
   "execution_count": 25,
   "metadata": {},
   "outputs": [
    {
     "name": "stdout",
     "output_type": "stream",
     "text": [
      "Saved model to disk\n"
     ]
    }
   ],
   "source": [
    "model.save(\"more_filter_model.h5\")\n",
    "print(\"Saved model to disk\")"
   ]
  },
  {
   "cell_type": "code",
   "execution_count": 14,
   "metadata": {},
   "outputs": [
    {
     "name": "stdout",
     "output_type": "stream",
     "text": [
      "Epoch 1/10\n",
      "207/207 [==============================] - 174s 840ms/step - loss: 1.7485 - accuracy: 0.3328 - val_loss: 0.6578 - val_accuracy: 0.7582\n",
      "Epoch 2/10\n",
      "207/207 [==============================] - 163s 791ms/step - loss: 0.7276 - accuracy: 0.7333 - val_loss: 0.5375 - val_accuracy: 0.8076\n",
      "Epoch 3/10\n",
      "207/207 [==============================] - 171s 827ms/step - loss: 0.5741 - accuracy: 0.7892 - val_loss: 0.4456 - val_accuracy: 0.8363\n",
      "Epoch 4/10\n",
      "207/207 [==============================] - 173s 839ms/step - loss: 0.4991 - accuracy: 0.8224 - val_loss: 0.4361 - val_accuracy: 0.8396\n",
      "Epoch 5/10\n",
      "207/207 [==============================] - 192s 932ms/step - loss: 0.4345 - accuracy: 0.8402 - val_loss: 0.4415 - val_accuracy: 0.8456\n",
      "Epoch 6/10\n",
      "207/207 [==============================] - 192s 931ms/step - loss: 0.3994 - accuracy: 0.8507 - val_loss: 0.4329 - val_accuracy: 0.8480\n",
      "Epoch 7/10\n",
      "207/207 [==============================] - 189s 914ms/step - loss: 0.3591 - accuracy: 0.8709 - val_loss: 0.4498 - val_accuracy: 0.8405\n",
      "Epoch 8/10\n",
      "207/207 [==============================] - 183s 887ms/step - loss: 0.3570 - accuracy: 0.8692 - val_loss: 0.3756 - val_accuracy: 0.8664\n",
      "Epoch 9/10\n",
      "207/207 [==============================] - 181s 877ms/step - loss: 0.2963 - accuracy: 0.8885 - val_loss: 0.3615 - val_accuracy: 0.8715\n",
      "Epoch 10/10\n",
      "207/207 [==============================] - 170s 824ms/step - loss: 0.2924 - accuracy: 0.8950 - val_loss: 0.4329 - val_accuracy: 0.8700\n",
      "313/313 [==============================] - 22s 71ms/step - loss: 0.4757 - accuracy: 0.8612\n",
      "Test accuracy:  0.8611999750137329\n"
     ]
    }
   ],
   "source": [
    "# 4. 이미지 늘림\n",
    "\n",
    "image_generator = ImageDataGenerator(\n",
    "    rotation_range=20, \n",
    "    zoom_range=0.1, \n",
    "    shear_range=0.5, \n",
    "    width_shift_range=0.1, \n",
    "    height_shift_range=0.1, \n",
    "    horizontal_flip=True,\n",
    "    vertical_flip=False)\n",
    "\n",
    "augment_size = 100\n",
    "\n",
    "randidx = np.random.randint(X_train.shape[0], size=augment_size)\n",
    "x_augmented = X_train[randidx].copy()\n",
    "y_augmented = y_train[randidx].copy()\n",
    "x_augmented = image_generator.flow(x_augmented, np.zeros(augment_size), batch_size=augment_size, shuffle=False).next()[0]\n",
    "\n",
    "# 원래 데이터인 x_train에 이미지 보강된 x_augmented를 추가합니다. \n",
    "X_train = np.concatenate((X_train, x_augmented))\n",
    "y_train = np.concatenate((y_train, y_augmented))\n",
    "\n",
    "\n",
    "\n",
    "tensorboard_cb=keras.callbacks.TensorBoard(run_logdir)\n",
    "\n",
    "model=keras.models.Sequential([keras.layers.Conv2D(64,7,activation='relu',padding='same',input_shape=[28,28,1]),\n",
    "                              keras.layers.MaxPooling2D(2),\n",
    "                               keras.layers.Conv2D(128,3,activation='relu', padding='same'),\n",
    "                               keras.layers.Conv2D(256,3,activation='relu', padding='same'),\n",
    "                               keras.layers.MaxPooling2D(2),\n",
    "                               keras.layers.Conv2D(256,3,activation='relu', padding='same'),\n",
    "                               keras.layers.Conv2D(256,3,activation='relu', padding='same'),\n",
    "                               keras.layers.MaxPooling2D(2),\n",
    "                               keras.layers.Flatten(),#일자로\n",
    "                               keras.layers.Dense(512,activation='relu'),#완전연결층\n",
    "                               keras.layers.Dropout(0.5),\n",
    "                               keras.layers.Dense(256, activation='relu'),\n",
    "                               keras.layers.Dropout(0.5),\n",
    "                               keras.layers.Dense(10,activation='softmax')])#10개 중 누가 제일 높은가?\n",
    "model.compile(loss='sparse_categorical_crossentropy', optimizer=\"adam\",metrics=['accuracy'])\n",
    "\n",
    "history=model.fit(X_train, y_train, epochs=10, validation_data=(X_valid, y_valid), callbacks=[tensorboard_cb])\n",
    "\n",
    "results = model.evaluate(X_test, y_test)\n",
    "print('Test accuracy: ', results[1])\n",
    "\n",
    "\n"
   ]
  },
  {
   "cell_type": "markdown",
   "metadata": {},
   "source": [
    "성능을 높이기 위해 앞에서 늘린 필터의 개수와 함께 이미지의 개수를 늘려보았다.\n",
    "ImageDataGenerator를 사용하여 기울기, 확대, 각도, 좌우 이동 등의 변수를 설정해주었다.\n",
    "이미지를 추가한 결과 성능은 0.8612으로 나왔다."
   ]
  },
  {
   "cell_type": "code",
   "execution_count": 15,
   "metadata": {},
   "outputs": [
    {
     "name": "stdout",
     "output_type": "stream",
     "text": [
      "Saved model to disk\n"
     ]
    }
   ],
   "source": [
    "model.save(\"more_image_model.h5\")\n",
    "print(\"Saved model to disk\")"
   ]
  },
  {
   "cell_type": "code",
   "execution_count": 17,
   "metadata": {},
   "outputs": [
    {
     "name": "stdout",
     "output_type": "stream",
     "text": [
      "[[0.   0.   0.   0.   0.   0.   0.   0.   0.   1.  ]\n",
      " [0.   0.   1.   0.   0.   0.   0.   0.   0.   0.  ]\n",
      " [0.   1.   0.   0.   0.   0.   0.   0.   0.   0.  ]\n",
      " [0.   1.   0.   0.   0.   0.   0.   0.   0.   0.  ]\n",
      " [0.32 0.   0.03 0.   0.   0.   0.65 0.   0.   0.  ]\n",
      " [0.   1.   0.   0.   0.   0.   0.   0.   0.   0.  ]\n",
      " [0.   0.   0.13 0.   0.87 0.   0.   0.   0.   0.  ]\n",
      " [0.   0.   0.   0.   0.   0.   1.   0.   0.   0.  ]\n",
      " [0.   0.   0.   0.   0.   1.   0.   0.   0.   0.  ]\n",
      " [0.   0.   0.   0.   0.   0.   0.   1.   0.   0.  ]]\n"
     ]
    },
    {
     "data": {
      "image/png": "[encoded data removed]",
      "text/plain": [
       "<Figure size 720x720 with 10 Axes>"
      ]
     },
     "metadata": {
      "needs_background": "light"
     },
     "output_type": "display_data"
    }
   ],
   "source": [
    "## 이미지 확인\n",
    "X_new=X_test[:10]\n",
    "y_prob=model.predict(X_new)\n",
    "print(y_prob.round(2))\n",
    "y_pred=np.argmax(model.predict(X_new), axis=-1)\n",
    "np.array(class_names)[y_pred]\n",
    "\n",
    "plt.figure(figsize=(10,10))\n",
    "for img in range(10):\n",
    "    plt.subplot(1,10,img+1)\n",
    "    plt.grid(False)\n",
    "    plt.imshow(X_new[img,:,:,0])\n",
    "    plt.xlabel(class_names[y_pred[img]])"
   ]
  },
  {
   "cell_type": "code",
   "execution_count": null,
   "metadata": {},
   "outputs": [],
   "source": [
    "# 5. 에포크 더 늘림\n",
    "\n",
    "image_generator = ImageDataGenerator(\n",
    "    rotation_range=10, \n",
    "    zoom_range=0.10, \n",
    "    shear_range=0.5, \n",
    "    width_shift_range=0.10, \n",
    "    height_shift_range=0.10, \n",
    "    horizontal_flip=True,\n",
    "    vertical_flip=False)\n",
    "\n",
    "augment_size = 100\n",
    "\n",
    "randidx = np.random.randint(X_train.shape[0], size=augment_size)\n",
    "x_augmented = X_train[randidx].copy()\n",
    "y_augmented = y_train[randidx].copy()\n",
    "x_augmented = image_generator.flow(x_augmented, np.zeros(augment_size), batch_size=augment_size, shuffle=False).next()[0]\n",
    "\n",
    "# 원래 데이터인 x_train에 이미지 보강된 x_augmented를 추가합니다. \n",
    "X_train = np.concatenate((X_train, x_augmented))\n",
    "y_train = np.concatenate((y_train, y_augmented))\n",
    "\n",
    "\n",
    "\n",
    "tensorboard_cb=keras.callbacks.TensorBoard(run_logdir)\n",
    "\n",
    "model=keras.models.Sequential([keras.layers.Conv2D(64,7,activation='relu',padding='same',input_shape=[28,28,1]),\n",
    "                              keras.layers.MaxPooling2D(2),\n",
    "                               keras.layers.Conv2D(128,3,activation='relu', padding='same'),\n",
    "                               keras.layers.Conv2D(256,3,activation='relu', padding='same'),\n",
    "                               keras.layers.MaxPooling2D(2),\n",
    "                               keras.layers.Conv2D(256,3,activation='relu', padding='same'),\n",
    "                               keras.layers.Conv2D(256,3,activation='relu', padding='same'),\n",
    "                               keras.layers.MaxPooling2D(2),\n",
    "                               keras.layers.Flatten(),#일자로\n",
    "                               keras.layers.Dense(512,activation='relu'),#완전연결층\n",
    "                               keras.layers.Dropout(0.5),\n",
    "                               keras.layers.Dense(256, activation='relu'),\n",
    "                               keras.layers.Dropout(0.5),\n",
    "                               keras.layers.Dense(10,activation='softmax')])#10개 중 누가 제일 높은가?\n",
    "model.compile(loss='sparse_categorical_crossentropy', optimizer=\"adam\",metrics=['accuracy'])\n",
    "\n",
    "history=model.fit(X_train, y_train, epochs=15, validation_data=(X_valid, y_valid), callbacks=[tensorboard_cb])\n",
    "\n",
    "results = model.evaluate(X_test, y_test)\n",
    "print('Test accuracy: ', results[1])"
   ]
  },
  {
   "cell_type": "markdown",
   "metadata": {},
   "source": [
    "이미지 및 필터를 추가한채로 에포크의 개수를 늘려보았다. \n",
    "dead kernel이 떠서 Google Colab에서 돌려본 결과 성능은 0.8653으로 나왔다."
   ]
  },
  {
   "cell_type": "code",
   "execution_count": null,
   "metadata": {},
   "outputs": [],
   "source": [
    "model.save(\"more_epoche_model.h5\")\n",
    "print(\"Saved model to disk\")"
   ]
  },
  {
   "cell_type": "code",
   "execution_count": 8,
   "metadata": {},
   "outputs": [
    {
     "name": "stdout",
     "output_type": "stream",
     "text": [
      "Epoch 1/10\n",
      "241/241 [==============================] - 175s 726ms/step - loss: 1.6725 - accuracy: 0.3675 - val_loss: 0.6355 - val_accuracy: 0.7616\n",
      "Epoch 2/10\n",
      "241/241 [==============================] - 176s 731ms/step - loss: 0.7232 - accuracy: 0.7264 - val_loss: 0.4868 - val_accuracy: 0.8092\n",
      "Epoch 3/10\n",
      "241/241 [==============================] - 177s 736ms/step - loss: 0.5833 - accuracy: 0.7910 - val_loss: 0.4185 - val_accuracy: 0.8435\n",
      "Epoch 4/10\n",
      "241/241 [==============================] - 178s 739ms/step - loss: 0.4786 - accuracy: 0.8257 - val_loss: 0.4046 - val_accuracy: 0.8483\n",
      "Epoch 5/10\n",
      "241/241 [==============================] - 176s 730ms/step - loss: 0.4233 - accuracy: 0.8424 - val_loss: 0.4007 - val_accuracy: 0.8491\n",
      "Epoch 6/10\n",
      "241/241 [==============================] - 179s 746ms/step - loss: 0.3887 - accuracy: 0.8521 - val_loss: 0.4262 - val_accuracy: 0.8514\n",
      "Epoch 7/10\n",
      "241/241 [==============================] - 173s 721ms/step - loss: 0.3598 - accuracy: 0.8716 - val_loss: 0.3774 - val_accuracy: 0.8668\n",
      "Epoch 8/10\n",
      "241/241 [==============================] - 175s 729ms/step - loss: 0.3096 - accuracy: 0.8826 - val_loss: 0.3399 - val_accuracy: 0.8784\n",
      "Epoch 9/10\n",
      "241/241 [==============================] - 188s 780ms/step - loss: 0.3101 - accuracy: 0.8816 - val_loss: 0.4039 - val_accuracy: 0.8681\n",
      "Epoch 10/10\n",
      "241/241 [==============================] - 183s 760ms/step - loss: 0.3003 - accuracy: 0.8923 - val_loss: 0.3772 - val_accuracy: 0.8729\n",
      "313/313 [==============================] - 21s 67ms/step - loss: 0.4050 - accuracy: 0.8683\n",
      "Test accuracy:  0.8683000206947327\n"
     ]
    }
   ],
   "source": [
    "# 6. 이미지 더 늘림\n",
    "\n",
    "image_generator = ImageDataGenerator(\n",
    "    rotation_range=10, \n",
    "    zoom_range=0.10, \n",
    "    shear_range=0.5, \n",
    "    width_shift_range=0.10, \n",
    "    height_shift_range=0.10, \n",
    "    horizontal_flip=True,\n",
    "    vertical_flip=False)\n",
    "\n",
    "augment_size = 1000\n",
    "\n",
    "randidx = np.random.randint(X_train.shape[0], size=augment_size)\n",
    "x_augmented = X_train[randidx].copy()\n",
    "y_augmented = y_train[randidx].copy()\n",
    "x_augmented = image_generator.flow(x_augmented, np.zeros(augment_size), batch_size=augment_size, shuffle=False).next()[0]\n",
    "\n",
    "# 원래 데이터인 x_train에 이미지 보강된 x_augmented를 추가합니다. \n",
    "X_train = np.concatenate((X_train, x_augmented))\n",
    "y_train = np.concatenate((y_train, y_augmented))\n",
    "\n",
    "\n",
    "\n",
    "tensorboard_cb=keras.callbacks.TensorBoard(run_logdir)\n",
    "\n",
    "model=keras.models.Sequential([keras.layers.Conv2D(64,7,activation='relu',padding='same',input_shape=[28,28,1]),\n",
    "                              keras.layers.MaxPooling2D(2),\n",
    "                                keras.layers.Conv2D(256,3,activation='relu', padding='same'),\n",
    "                               keras.layers.MaxPooling2D(2),\n",
    "                               keras.layers.Conv2D(256,3,activation='relu', padding='same'),\n",
    "                               keras.layers.Conv2D(256,3,activation='relu', padding='same'),\n",
    "                               keras.layers.MaxPooling2D(2),\n",
    "                               keras.layers.Flatten(),\n",
    "                               keras.layers.Dense(512,activation='relu'),\n",
    "                               keras.layers.Dropout(0.5),\n",
    "                               keras.layers.Dense(256, activation='relu'),\n",
    "                               keras.layers.Dropout(0.5),\n",
    "                               keras.layers.Dense(10,activation='softmax')])\n",
    "\n",
    "model.compile(loss='sparse_categorical_crossentropy', optimizer=\"adam\",metrics=['accuracy'])\n",
    "\n",
    "history=model.fit(X_train, y_train, epochs=10, validation_data=(X_valid, y_valid), callbacks=[tensorboard_cb])\n",
    "\n",
    "results = model.evaluate(X_test, y_test)\n",
    "print('Test accuracy: ', results[1])"
   ]
  },
  {
   "cell_type": "markdown",
   "metadata": {},
   "source": [
    "이미지의 추가 개수를 100개에서 1000개로 늘려보았다.\n",
    "그 결과 성능은 0.8683으로 나왔다."
   ]
  },
  {
   "cell_type": "code",
   "execution_count": 9,
   "metadata": {},
   "outputs": [
    {
     "name": "stdout",
     "output_type": "stream",
     "text": [
      "Saved model to disk\n"
     ]
    }
   ],
   "source": [
    "model.save(\"morenmore_image_model.h5\")\n",
    "print(\"Saved model to disk\")"
   ]
  },
  {
   "cell_type": "code",
   "execution_count": 22,
   "metadata": {},
   "outputs": [
    {
     "name": "stdout",
     "output_type": "stream",
     "text": [
      "Epoch 1/10\n",
      "222/222 [==============================] - 12s 52ms/step - loss: 1.3381 - accuracy: 0.4966 - val_loss: 0.6282 - val_accuracy: 0.7608\n",
      "Epoch 2/10\n",
      "222/222 [==============================] - 10s 45ms/step - loss: 0.6227 - accuracy: 0.7589 - val_loss: 0.4874 - val_accuracy: 0.8185\n",
      "Epoch 3/10\n",
      "222/222 [==============================] - 10s 45ms/step - loss: 0.5430 - accuracy: 0.7977 - val_loss: 0.4730 - val_accuracy: 0.8245\n",
      "Epoch 4/10\n",
      "222/222 [==============================] - 10s 46ms/step - loss: 0.4515 - accuracy: 0.8306 - val_loss: 0.4582 - val_accuracy: 0.8366\n",
      "Epoch 5/10\n",
      "222/222 [==============================] - 10s 47ms/step - loss: 0.3999 - accuracy: 0.8536 - val_loss: 0.3862 - val_accuracy: 0.8629\n",
      "Epoch 6/10\n",
      "222/222 [==============================] - 11s 47ms/step - loss: 0.3717 - accuracy: 0.8631 - val_loss: 0.4190 - val_accuracy: 0.8538\n",
      "Epoch 7/10\n",
      "222/222 [==============================] - 10s 46ms/step - loss: 0.3001 - accuracy: 0.8823 - val_loss: 0.3978 - val_accuracy: 0.8594\n",
      "Epoch 8/10\n",
      "222/222 [==============================] - 11s 50ms/step - loss: 0.2530 - accuracy: 0.9071 - val_loss: 0.4594 - val_accuracy: 0.8456\n",
      "Epoch 9/10\n",
      "222/222 [==============================] - 10s 46ms/step - loss: 0.2729 - accuracy: 0.8982 - val_loss: 0.4717 - val_accuracy: 0.8530\n",
      "Epoch 10/10\n",
      "222/222 [==============================] - 10s 46ms/step - loss: 0.1951 - accuracy: 0.9319 - val_loss: 0.4641 - val_accuracy: 0.8560\n",
      "313/313 [==============================] - 1s 5ms/step - loss: 0.4889 - accuracy: 0.8512\n",
      "Test accuracy:  0.8511999845504761\n"
     ]
    }
   ],
   "source": [
    "# 7. 커널 사이즈를 이차원으로!, strides=(2,2) 추가\n",
    "\n",
    "\n",
    "image_generator = ImageDataGenerator(\n",
    "    rotation_range=10, \n",
    "    zoom_range=0.10, \n",
    "    shear_range=0.5, \n",
    "    width_shift_range=0.10, \n",
    "    height_shift_range=0.10, \n",
    "    horizontal_flip=True,\n",
    "    vertical_flip=False)\n",
    "\n",
    "augment_size = 500\n",
    "\n",
    "randidx = np.random.randint(X_train.shape[0], size=augment_size)\n",
    "x_augmented = X_train[randidx].copy()\n",
    "y_augmented = y_train[randidx].copy()\n",
    "x_augmented = image_generator.flow(x_augmented, np.zeros(augment_size), batch_size=augment_size, shuffle=False).next()[0]\n",
    "\n",
    "# 원래 데이터인 x_train에 이미지 보강된 x_augmented를 추가합니다. \n",
    "X_train = np.concatenate((X_train, x_augmented))\n",
    "y_train = np.concatenate((y_train, y_augmented))\n",
    "\n",
    "\n",
    "\n",
    "tensorboard_cb=keras.callbacks.TensorBoard(run_logdir)\n",
    "\n",
    "model=keras.models.Sequential([keras.layers.Conv2D(64,(3,3),activation='relu',strides = (2,2),padding='same',input_shape=[28,28,1]),\n",
    "                              keras.layers.MaxPooling2D(2),\n",
    "                               keras.layers.Conv2D(128,(3,3),activation='relu', strides = (2,2),padding='same'),\n",
    "                               keras.layers.Conv2D(256,(3,3),activation='relu', strides = (2,2),padding='same'),\n",
    "                               keras.layers.MaxPooling2D(2),\n",
    "                               keras.layers.Flatten(),#일자로\n",
    "                               keras.layers.Dense(512,activation='relu'),\n",
    "                               keras.layers.Dropout(0.2),\n",
    "                               keras.layers.Dense(256, activation='relu'),\n",
    "                               keras.layers.Dropout(0.2),\n",
    "                               keras.layers.Dense(10,activation='softmax')])\n",
    "model.compile(loss='sparse_categorical_crossentropy', optimizer=\"adam\",metrics=['accuracy'])\n",
    "\n",
    "\n",
    "history=model.fit(X_train, y_train, epochs=10, validation_data=(X_valid, y_valid), callbacks=[tensorboard_cb])\n",
    "\n",
    "results = model.evaluate(X_test, y_test)\n",
    "print('Test accuracy: ', results[1])"
   ]
  },
  {
   "cell_type": "markdown",
   "metadata": {},
   "source": [
    "커널의 사이즈를 이차원으로(3->(3,3)) 늘리고, strides를 추가해주었다. Stride는 필터를 순회하는 간격이다.\n",
    "\n",
    "그 결과 성능은 0.8511으로 나왔다."
   ]
  },
  {
   "cell_type": "code",
   "execution_count": 23,
   "metadata": {},
   "outputs": [
    {
     "name": "stdout",
     "output_type": "stream",
     "text": [
      "Saved model to disk\n"
     ]
    }
   ],
   "source": [
    "model.save(\"kernelnstride_model.h5\")\n",
    "print(\"Saved model to disk\")"
   ]
  },
  {
   "cell_type": "code",
   "execution_count": 28,
   "metadata": {},
   "outputs": [
    {
     "name": "stdout",
     "output_type": "stream",
     "text": [
      "Epoch 1/10\n",
      "210/210 [==============================] - 154s 731ms/step - loss: 1.6384 - accuracy: 0.3801 - val_loss: 0.6449 - val_accuracy: 0.7679\n",
      "Epoch 2/10\n",
      "210/210 [==============================] - 161s 771ms/step - loss: 0.7007 - accuracy: 0.7430 - val_loss: 0.4936 - val_accuracy: 0.8228\n",
      "Epoch 3/10\n",
      "210/210 [==============================] - 166s 795ms/step - loss: 0.5104 - accuracy: 0.8202 - val_loss: 0.4307 - val_accuracy: 0.8462\n",
      "Epoch 4/10\n",
      "210/210 [==============================] - 166s 794ms/step - loss: 0.4556 - accuracy: 0.8380 - val_loss: 0.3745 - val_accuracy: 0.8636\n",
      "Epoch 5/10\n",
      "210/210 [==============================] - 169s 806ms/step - loss: 0.4128 - accuracy: 0.8554 - val_loss: 0.3681 - val_accuracy: 0.8676\n",
      "Epoch 6/10\n",
      "210/210 [==============================] - 183s 874ms/step - loss: 0.3550 - accuracy: 0.8739 - val_loss: 0.3378 - val_accuracy: 0.8751\n",
      "Epoch 7/10\n",
      "210/210 [==============================] - 182s 868ms/step - loss: 0.3002 - accuracy: 0.8869 - val_loss: 0.3427 - val_accuracy: 0.8748\n",
      "Epoch 8/10\n",
      "210/210 [==============================] - 177s 846ms/step - loss: 0.2935 - accuracy: 0.8901 - val_loss: 0.3289 - val_accuracy: 0.8865\n",
      "Epoch 9/10\n",
      "210/210 [==============================] - 181s 866ms/step - loss: 0.2355 - accuracy: 0.9181 - val_loss: 0.3601 - val_accuracy: 0.8785\n",
      "Epoch 10/10\n",
      "210/210 [==============================] - 179s 853ms/step - loss: 0.2375 - accuracy: 0.9128 - val_loss: 0.4338 - val_accuracy: 0.8780\n",
      "313/313 [==============================] - 24s 77ms/step - loss: 0.4742 - accuracy: 0.8678\n",
      "Test accuracy:  0.8677999973297119\n"
     ]
    }
   ],
   "source": [
    "# 8.  레이어 추가\n",
    "\n",
    "image_generator = ImageDataGenerator(\n",
    "    rotation_range=10, \n",
    "    zoom_range=0.10, \n",
    "    shear_range=0.5, \n",
    "    width_shift_range=0.10, \n",
    "    height_shift_range=0.10, \n",
    "    horizontal_flip=True,\n",
    "    vertical_flip=False)\n",
    "\n",
    "augment_size = 500\n",
    "\n",
    "randidx = np.random.randint(X_train.shape[0], size=augment_size)\n",
    "x_augmented = X_train[randidx].copy()\n",
    "y_augmented = y_train[randidx].copy()\n",
    "x_augmented = image_generator.flow(x_augmented, np.zeros(augment_size), batch_size=augment_size, shuffle=False).next()[0]\n",
    "\n",
    "# 원래 데이터인 x_train에 이미지 보강된 x_augmented를 추가합니다. \n",
    "X_train = np.concatenate((X_train, x_augmented))\n",
    "y_train = np.concatenate((y_train, y_augmented))\n",
    "\n",
    "\n",
    "\n",
    "tensorboard_cb=keras.callbacks.TensorBoard(run_logdir)\n",
    "\n",
    "model=keras.models.Sequential([keras.layers.Conv2D(64,(3,3),activation='relu',padding='same',input_shape=[28,28,1]),\n",
    "                              keras.layers.MaxPooling2D(2),\n",
    "                               keras.layers.Conv2D(128,(3,3),activation='relu', padding='same'),\n",
    "                               keras.layers.Conv2D(256,(3,3),activation='relu', padding='same'),\n",
    "                               keras.layers.MaxPooling2D(2),\n",
    "                               keras.layers.Conv2D(256,(3,3),activation='relu', padding='same'),\n",
    "                               keras.layers.Conv2D(256,(3,3),activation='relu', padding='same'),\n",
    "                               keras.layers.MaxPooling2D(2),\n",
    "                               keras.layers.Flatten(),#일자로\n",
    "                               keras.layers.Dense(512,activation='relu'),#완전연결층\n",
    "                               keras.layers.Dropout(0.5),\n",
    "                               keras.layers.Dense(256, activation='relu'),\n",
    "                               keras.layers.Dropout(0.5),\n",
    "                               keras.layers.Dense(10,activation='softmax')])#10개 중 누가 제일 높은가?\n",
    "model.compile(loss='sparse_categorical_crossentropy', optimizer=\"adam\",metrics=['accuracy'])\n",
    "\n",
    "history=model.fit(X_train, y_train, epochs=10, validation_data=(X_valid, y_valid), callbacks=[tensorboard_cb])\n",
    "\n",
    "results = model.evaluate(X_test, y_test)\n",
    "print('Test accuracy: ', results[1])"
   ]
  },
  {
   "cell_type": "markdown",
   "metadata": {},
   "source": [
    "이미지와 필터의 개수가 보강된 상태로 레이어를 늘려보았다.\n",
    "그 결과 성능은 0.8678으로 나왔다."
   ]
  },
  {
   "cell_type": "code",
   "execution_count": 29,
   "metadata": {},
   "outputs": [
    {
     "name": "stdout",
     "output_type": "stream",
     "text": [
      "Saved model to disk\n"
     ]
    }
   ],
   "source": [
    "model.save(\"more_layer_model.h5\")\n",
    "print(\"Saved model to disk\")"
   ]
  },
  {
   "cell_type": "code",
   "execution_count": null,
   "metadata": {},
   "outputs": [],
   "source": [
    "# 9. 오버피팅 방지를 위하여 중간 중간에 dropout 추가\n",
    "image_generator = ImageDataGenerator(\n",
    "    rotation_range=10, \n",
    "    zoom_range=0.10, \n",
    "    shear_range=0.5, \n",
    "    width_shift_range=0.10, \n",
    "    height_shift_range=0.10, \n",
    "    horizontal_flip=True,\n",
    "    vertical_flip=False)\n",
    "\n",
    "augment_size = 500\n",
    "\n",
    "randidx = np.random.randint(X_train.shape[0], size=augment_size)\n",
    "x_augmented = X_train[randidx].copy()\n",
    "y_augmented = y_train[randidx].copy()\n",
    "x_augmented = image_generator.flow(x_augmented, np.zeros(augment_size), batch_size=augment_size, shuffle=False).next()[0]\n",
    "\n",
    "# 원래 데이터인 x_train에 이미지 보강된 x_augmented를 추가합니다. \n",
    "X_train = np.concatenate((X_train, x_augmented))\n",
    "y_train = np.concatenate((y_train, y_augmented))\n",
    "\n",
    "\n",
    "\n",
    "tensorboard_cb=keras.callbacks.TensorBoard(run_logdir)\n",
    "\n",
    "\n",
    "model=keras.models.Sequential([keras.layers.Conv2D(64,(3,3),activation='relu',padding='same',input_shape=[28,28,1]),\n",
    "                              keras.layers.BatchNormalization(),\n",
    "                               keras.layers.Conv2D(128,(3,3),activation='relu', padding='same'),\n",
    "                               keras.layers.Conv2D(256,(3,3),activation='relu',padding='same'),\n",
    "                               keras.layers.BatchNormalization(),\n",
    "                               keras.layers.Dropout(0.25),\n",
    "                               keras.layers.Conv2D(256,(3,3),activation='relu', padding='same'),\n",
    "                               keras.layers.Conv2D(256,(3,3),activation='relu',padding='same'),\n",
    "                               keras.layers.MaxPooling2D(2),\n",
    "                               keras.layers.Dropout(0.25),\n",
    "                               keras.layers.Flatten(),#일자로\n",
    "                               keras.layers.Dense(512,activation='relu'),\n",
    "                               keras.layers.Dropout(0.25),\n",
    "                               keras.layers.Dense(256, activation='relu'),\n",
    "                               keras.layers.Dropout(0.25),\n",
    "                               keras.layers.Dense(10,activation='softmax')])\n",
    "\n",
    "\n",
    "optimizer = Adam(lr=0.001, beta_1=0.9, beta_2=0.999 )\n",
    "model.compile(loss='sparse_categorical_crossentropy', optimizer=optimizer,metrics=['accuracy'])\n",
    "\n",
    "history=model.fit(X_train, y_train, epochs=10, validation_data=(X_valid, y_valid), callbacks=[tensorboard_cb])\n",
    "\n",
    "results = model.evaluate(X_test, y_test)\n",
    "print('Test accuracy: ', results[1])"
   ]
  },
  {
   "cell_type": "markdown",
   "metadata": {},
   "source": [
    "레이어가 추가되었으므로 오버피팅을 방지하고자 일정 부분(0.25) DropOut을 추가하였다.\n",
    "이 또한 dead kernel이 떠서 Google Colab으로 돌려본 결과 성능은 0.8564으로 나왔다."
   ]
  },
  {
   "cell_type": "code",
   "execution_count": null,
   "metadata": {},
   "outputs": [],
   "source": [
    "model.save(\"dropout_model.h5\")\n",
    "print(\"Saved model to disk\")"
   ]
  },
  {
   "cell_type": "markdown",
   "metadata": {},
   "source": [
    "## 이 중 기존 모델의 성능인 0.8519에 비하여 가장 성능이 높게 나온 0.8683의  more_filter_model.h5의 이름을 model.h5로 바꾸어 제출한다."
   ]
  },
  {
   "cell_type": "code",
   "execution_count": null,
   "metadata": {},
   "outputs": [],
   "source": []
  }
 ],
 "metadata": {
  "kernelspec": {
   "display_name": "Python 3",
   "language": "python",
   "name": "python3"
  },
  "language_info": {
   "codemirror_mode": {
    "name": "ipython",
    "version": 3
   },
   "file_extension": ".py",
   "mimetype": "text/x-python",
   "name": "python",
   "nbconvert_exporter": "python",
   "pygments_lexer": "ipython3",
   "version": "3.8.5"
  }
 },
 "nbformat": 4,
 "nbformat_minor": 4
}
