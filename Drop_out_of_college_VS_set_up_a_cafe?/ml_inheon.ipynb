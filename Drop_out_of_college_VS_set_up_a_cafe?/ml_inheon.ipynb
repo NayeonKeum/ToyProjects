{
  "nbformat": 4,
  "nbformat_minor": 0,
  "metadata": {
    "colab": {
      "name": "ml_inheon.ipynb",
      "provenance": [],
      "collapsed_sections": [],
      "mount_file_id": "1pCBXf7XmJTHEBxj00nVzzJC3bz225YBm",
      "authorship_tag": "ABX9TyOWEiCIio++FxOTxnjsSLxj",
      "include_colab_link": true
    },
    "kernelspec": {
      "name": "python3",
      "display_name": "Python 3"
    }
  },
  "cells": [
    {
      "cell_type": "markdown",
      "metadata": {
        "id": "view-in-github",
        "colab_type": "text"
      },
      "source": [
        "<a href=\"https://colab.research.google.com/github/NayeonKeum/ToyProjects/blob/master/Drop_out_of_college_VS_set_up_a_cafe%3F/ml_inheon.ipynb\" target=\"_parent\"><img src=\"https://colab.research.google.com/assets/colab-badge.svg\" alt=\"Open In Colab\"/></a>"
      ]
    },
    {
      "cell_type": "code",
      "metadata": {
        "colab": {
          "base_uri": "https://localhost:8080/"
        },
        "id": "oemTb9Ur4X-_",
        "outputId": "381b78da-ce64-420c-f8e0-2f694bbe0ade"
      },
      "source": [
        "import pandas as pd\n",
        "import numpy as np\n",
        "import re\n",
        "\n",
        "# 그래프에서 한글표현을 위해 폰트를 설치합니다.\n",
        "%config InlineBackend.figure_format = 'retina'\n",
        "\n",
        "!apt -qq -y install fonts-nanum > /dev/null\n",
        "import matplotlib.font_manager as fm\n",
        "fontpath = '/usr/share/fonts/truetype/nanum/NanumBarunGothic.ttf'\n",
        "font = fm.FontProperties(fname=fontpath, size=9)\n",
        "\n",
        "from plotnine import *\n",
        "import plotnine\n",
        "\n",
        "# 기본 글꼴 변경\n",
        "import matplotlib as mpl\n",
        "mpl.font_manager._rebuild()\n",
        "mpl.pyplot.rc('font', family='NanumBarunGothic')"
      ],
      "execution_count": 24,
      "outputs": [
        {
          "output_type": "stream",
          "text": [
            "\n",
            "WARNING: apt does not have a stable CLI interface. Use with caution in scripts.\n",
            "\n"
          ],
          "name": "stdout"
        }
      ]
    },
    {
      "cell_type": "code",
      "metadata": {
        "id": "gWMhVBwa4btj"
      },
      "source": [
        "from sklearn.neighbors import KNeighborsClassifier\n",
        "from sklearn.tree import DecisionTreeClassifier\n",
        "from sklearn.ensemble import RandomForestClassifier\n",
        "from sklearn.naive_bayes import GaussianNB\n",
        "from sklearn.svm import SVC\n",
        "\n",
        "import numpy as np"
      ],
      "execution_count": 16,
      "outputs": []
    },
    {
      "cell_type": "code",
      "metadata": {
        "id": "gwz8xKbI5LZd"
      },
      "source": [
        "import pandas as pd\n"
      ],
      "execution_count": 17,
      "outputs": []
    },
    {
      "cell_type": "code",
      "metadata": {
        "id": "w5PGxmjl4xF6"
      },
      "source": [
        "test=pd.read_csv(\"/content/drive/My Drive/Colab Notebooks/data/test_inheo.csv\")\n",
        "train_data=pd.read_csv(\"/content/drive/My Drive/Colab Notebooks/data/train_data_inheo.csv\")\n",
        "train=pd.read_csv(\"/content/drive/My Drive/Colab Notebooks/data/train_inheo.csv\")"
      ],
      "execution_count": 152,
      "outputs": []
    },
    {
      "cell_type": "code",
      "metadata": {
        "id": "ZsaLqc5n_Cim"
      },
      "source": [
        "train=train.dropna(axis=0)\n",
        "test=test.dropna(axis=0)\n",
        "train_data=train_data.dropna(axis=0)\n",
        "#아님 train_data=train_data.drop(['사업장명'], axis=1)"
      ],
      "execution_count": 153,
      "outputs": []
    },
    {
      "cell_type": "code",
      "metadata": {
        "id": "o1AVcxeAEjUA"
      },
      "source": [
        "#일단....ㅜㅜㅜ\n",
        "train_data=train_data.drop(['인허가분기'], axis=1)"
      ],
      "execution_count": 154,
      "outputs": []
    },
    {
      "cell_type": "code",
      "metadata": {
        "id": "SryFRSts6Fyq"
      },
      "source": [
        "target=train['영업상태코드']"
      ],
      "execution_count": 155,
      "outputs": []
    },
    {
      "cell_type": "code",
      "metadata": {
        "colab": {
          "base_uri": "https://localhost:8080/"
        },
        "id": "wq-hIapL5Fub",
        "outputId": "37f02a55-f0f2-4932-f41c-5325a7b79571"
      },
      "source": [
        "train.info()"
      ],
      "execution_count": 81,
      "outputs": [
        {
          "output_type": "stream",
          "text": [
            "<class 'pandas.core.frame.DataFrame'>\n",
            "Int64Index: 29161 entries, 0 to 33442\n",
            "Data columns (total 10 columns):\n",
            " #   Column      Non-Null Count  Dtype  \n",
            "---  ------      --------------  -----  \n",
            " 0   Unnamed: 0  29161 non-null  int64  \n",
            " 1   년도          29161 non-null  float64\n",
            " 2   영업상태코드      29161 non-null  int64  \n",
            " 3   규모분기        29161 non-null  int64  \n",
            " 4   인허가분기       29161 non-null  object \n",
            " 5   폐업분기        29161 non-null  int64  \n",
            " 6   총층수         29161 non-null  int64  \n",
            " 7   영업기간분기      29161 non-null  float64\n",
            " 8   층_01        29161 non-null  int64  \n",
            " 9   구_1_25      29161 non-null  float64\n",
            "dtypes: float64(3), int64(6), object(1)\n",
            "memory usage: 2.4+ MB\n"
          ],
          "name": "stdout"
        }
      ]
    },
    {
      "cell_type": "code",
      "metadata": {
        "colab": {
          "base_uri": "https://localhost:8080/"
        },
        "id": "fjUxoFLPA5ds",
        "outputId": "4b6d04ce-0d0d-4e48-b0f9-12761500d335"
      },
      "source": [
        "train_data.info()"
      ],
      "execution_count": 82,
      "outputs": [
        {
          "output_type": "stream",
          "text": [
            "<class 'pandas.core.frame.DataFrame'>\n",
            "Int64Index: 29161 entries, 0 to 33442\n",
            "Data columns (total 8 columns):\n",
            " #   Column      Non-Null Count  Dtype  \n",
            "---  ------      --------------  -----  \n",
            " 0   Unnamed: 0  29161 non-null  int64  \n",
            " 1   년도          29161 non-null  float64\n",
            " 2   규모분기        29161 non-null  int64  \n",
            " 3   폐업분기        29161 non-null  int64  \n",
            " 4   총층수         29161 non-null  int64  \n",
            " 5   영업기간분기      29161 non-null  float64\n",
            " 6   층_01        29161 non-null  int64  \n",
            " 7   구_1_25      29161 non-null  float64\n",
            "dtypes: float64(3), int64(5)\n",
            "memory usage: 2.0 MB\n"
          ],
          "name": "stdout"
        }
      ]
    },
    {
      "cell_type": "code",
      "metadata": {
        "colab": {
          "base_uri": "https://localhost:8080/"
        },
        "id": "RY4nQ9N3A8ct",
        "outputId": "90d6990d-d991-40b1-c0ef-91a6662381c2"
      },
      "source": [
        "test.info()"
      ],
      "execution_count": 58,
      "outputs": [
        {
          "output_type": "stream",
          "text": [
            "<class 'pandas.core.frame.DataFrame'>\n",
            "Int64Index: 10764 entries, 0 to 14330\n",
            "Data columns (total 11 columns):\n",
            " #   Column      Non-Null Count  Dtype  \n",
            "---  ------      --------------  -----  \n",
            " 0   Unnamed: 0  10764 non-null  int64  \n",
            " 1   년도          10764 non-null  float64\n",
            " 2   영업상태코드      10764 non-null  int64  \n",
            " 3   사업장명        10764 non-null  object \n",
            " 4   규모분기        10764 non-null  int64  \n",
            " 5   인허가분기       10764 non-null  int64  \n",
            " 6   폐업분기        10764 non-null  int64  \n",
            " 7   총층수         10764 non-null  int64  \n",
            " 8   영업기간분기      10764 non-null  float64\n",
            " 9   층_01        10764 non-null  int64  \n",
            " 10  구_1_25      10764 non-null  float64\n",
            "dtypes: float64(3), int64(7), object(1)\n",
            "memory usage: 1009.1+ KB\n"
          ],
          "name": "stdout"
        }
      ]
    },
    {
      "cell_type": "code",
      "metadata": {
        "colab": {
          "base_uri": "https://localhost:8080/"
        },
        "id": "5156v9yBIYwU",
        "outputId": "f83d8e00-6596-41d7-953d-f07bb832ccc5"
      },
      "source": [
        "test.info()"
      ],
      "execution_count": 100,
      "outputs": [
        {
          "output_type": "stream",
          "text": [
            "<class 'pandas.core.frame.DataFrame'>\n",
            "Int64Index: 10764 entries, 0 to 14330\n",
            "Data columns (total 10 columns):\n",
            " #   Column      Non-Null Count  Dtype  \n",
            "---  ------      --------------  -----  \n",
            " 0   Unnamed: 0  10764 non-null  int64  \n",
            " 1   년도          10764 non-null  float64\n",
            " 2   영업상태코드      10764 non-null  int64  \n",
            " 3   규모분기        10764 non-null  int64  \n",
            " 4   인허가분기       10764 non-null  int64  \n",
            " 5   폐업분기        10764 non-null  int64  \n",
            " 6   총층수         10764 non-null  int64  \n",
            " 7   영업기간분기      10764 non-null  float64\n",
            " 8   층_01        10764 non-null  int64  \n",
            " 9   구_1_25      10764 non-null  float64\n",
            "dtypes: float64(3), int64(7)\n",
            "memory usage: 925.0 KB\n"
          ],
          "name": "stdout"
        }
      ]
    },
    {
      "cell_type": "code",
      "metadata": {
        "id": "bH1zOUv45YCr"
      },
      "source": [
        "from sklearn.model_selection import KFold\n",
        "from sklearn.model_selection import cross_val_score\n",
        "k_fold=KFold(n_splits=10, shuffle=True, random_state=0)"
      ],
      "execution_count": 59,
      "outputs": []
    },
    {
      "cell_type": "code",
      "metadata": {
        "colab": {
          "base_uri": "https://localhost:8080/"
        },
        "id": "_fDXZHPx5rPi",
        "outputId": "75e09874-4b44-4bb2-9b9f-93a2a3dc6684"
      },
      "source": [
        "#kNN\n",
        "clf=KNeighborsClassifier(n_neighbors=5)#13하니까 평균 79.73,\n",
        "scoring='accuracy'\n",
        "score=cross_val_score(clf, train_data, target, cv=k_fold, n_jobs=1, scoring=scoring)\n",
        "print(score)"
      ],
      "execution_count": 91,
      "outputs": [
        {
          "output_type": "stream",
          "text": [
            "[0.82996229 0.83641975 0.82647462 0.83847737 0.83367627 0.82921811\n",
            " 0.83607682 0.84053498 0.83676269 0.83641975]\n"
          ],
          "name": "stdout"
        }
      ]
    },
    {
      "cell_type": "code",
      "metadata": {
        "colab": {
          "base_uri": "https://localhost:8080/"
        },
        "id": "ukmgX6mO58jO",
        "outputId": "2b34ce63-8490-471d-e895-b2e6afa95f34"
      },
      "source": [
        "round(np.mean(score)*100,2)"
      ],
      "execution_count": 92,
      "outputs": [
        {
          "output_type": "execute_result",
          "data": {
            "text/plain": [
              "83.44"
            ]
          },
          "metadata": {
            "tags": []
          },
          "execution_count": 92
        }
      ]
    },
    {
      "cell_type": "code",
      "metadata": {
        "colab": {
          "base_uri": "https://localhost:8080/"
        },
        "id": "WWEJkRcwFnB9",
        "outputId": "2cfcb90a-4efc-4689-cd8c-c5a9639cdb74"
      },
      "source": [
        "#decision tree\n",
        "clf=DecisionTreeClassifier()\n",
        "scoring='accuracy'\n",
        "score=cross_val_score(clf, train_data, target, cv=k_fold, n_jobs=1, scoring=scoring)\n",
        "print(score)"
      ],
      "execution_count": 86,
      "outputs": [
        {
          "output_type": "stream",
          "text": [
            "[0.95097703 0.95336077 0.95919067 0.95507545 0.95061728 0.94718793\n",
            " 0.95507545 0.95987654 0.96296296 0.95541838]\n"
          ],
          "name": "stdout"
        }
      ]
    },
    {
      "cell_type": "code",
      "metadata": {
        "colab": {
          "base_uri": "https://localhost:8080/"
        },
        "id": "py2jl7suF2Ru",
        "outputId": "766064a1-6112-4a3b-84e1-10fcd3db960a"
      },
      "source": [
        "round(np.mean(score)*100,2)"
      ],
      "execution_count": 87,
      "outputs": [
        {
          "output_type": "execute_result",
          "data": {
            "text/plain": [
              "95.5"
            ]
          },
          "metadata": {
            "tags": []
          },
          "execution_count": 87
        }
      ]
    },
    {
      "cell_type": "code",
      "metadata": {
        "colab": {
          "base_uri": "https://localhost:8080/"
        },
        "id": "0sMKeYE4F4VL",
        "outputId": "c6080685-01da-45ba-f2fb-a88ee19c1e9b"
      },
      "source": [
        "#random forest\n",
        "clf=RandomForestClassifier(n_estimators=13)\n",
        "scoring='accuracy'\n",
        "score=cross_val_score(clf, train_data, target, cv=k_fold, n_jobs=1, scoring=scoring)\n",
        "print(score)"
      ],
      "execution_count": 89,
      "outputs": [
        {
          "output_type": "stream",
          "text": [
            "[0.95817621 0.96090535 0.96193416 0.96124829 0.95473251 0.95576132\n",
            " 0.96021948 0.968107   0.96467764 0.96056241]\n"
          ],
          "name": "stdout"
        }
      ]
    },
    {
      "cell_type": "code",
      "metadata": {
        "colab": {
          "base_uri": "https://localhost:8080/"
        },
        "id": "qD-syGD6GEOW",
        "outputId": "d26a781a-3588-4e8f-d3b0-6d06310b6f98"
      },
      "source": [
        "round(np.mean(score)*100,2)"
      ],
      "execution_count": 90,
      "outputs": [
        {
          "output_type": "execute_result",
          "data": {
            "text/plain": [
              "96.06"
            ]
          },
          "metadata": {
            "tags": []
          },
          "execution_count": 90
        }
      ]
    },
    {
      "cell_type": "code",
      "metadata": {
        "colab": {
          "base_uri": "https://localhost:8080/"
        },
        "id": "OWY6FoJEGIw5",
        "outputId": "0de4210f-012f-47e9-ea83-39254883d93d"
      },
      "source": [
        "#naive bayes\n",
        "clf=GaussianNB()\n",
        "scoring='accuracy'\n",
        "score=cross_val_score(clf, train_data, target, cv=k_fold, n_jobs=1, scoring=scoring)\n",
        "print(score)"
      ],
      "execution_count": 95,
      "outputs": [
        {
          "output_type": "stream",
          "text": [
            "[0.8892698  0.89300412 0.8861454  0.89677641 0.8899177  0.88203018\n",
            " 0.88957476 0.90432099 0.90466392 0.89300412]\n"
          ],
          "name": "stdout"
        }
      ]
    },
    {
      "cell_type": "code",
      "metadata": {
        "colab": {
          "base_uri": "https://localhost:8080/"
        },
        "id": "i3HCsZGyGeCj",
        "outputId": "ad0d2111-dfc7-4786-c4f5-992d74ff99c8"
      },
      "source": [
        "round(np.mean(score)*100,2)"
      ],
      "execution_count": 96,
      "outputs": [
        {
          "output_type": "execute_result",
          "data": {
            "text/plain": [
              "89.29"
            ]
          },
          "metadata": {
            "tags": []
          },
          "execution_count": 96
        }
      ]
    },
    {
      "cell_type": "code",
      "metadata": {
        "colab": {
          "base_uri": "https://localhost:8080/"
        },
        "id": "oLpocIxKGuih",
        "outputId": "0f2b0b55-9229-42a2-a8d1-0726ec907757"
      },
      "source": [
        "#svm\n",
        "clf=SVC()\n",
        "scoring='accuracy'\n",
        "score=cross_val_score(clf, train_data, target, cv=k_fold, n_jobs=1, scoring=scoring)\n",
        "print(score)"
      ],
      "execution_count": 97,
      "outputs": [
        {
          "output_type": "stream",
          "text": [
            "[0.61535824 0.62654321 0.61796982 0.62722908 0.61042524 0.60082305\n",
            " 0.61625514 0.59739369 0.62139918 0.61899863]\n"
          ],
          "name": "stdout"
        }
      ]
    },
    {
      "cell_type": "code",
      "metadata": {
        "colab": {
          "base_uri": "https://localhost:8080/"
        },
        "id": "jNKYn5vYG2C0",
        "outputId": "644c2335-471b-4dea-838d-7eb23dfd3819"
      },
      "source": [
        "round(np.mean(score)*100,2)"
      ],
      "execution_count": 98,
      "outputs": [
        {
          "output_type": "execute_result",
          "data": {
            "text/plain": [
              "61.52"
            ]
          },
          "metadata": {
            "tags": []
          },
          "execution_count": 98
        }
      ]
    },
    {
      "cell_type": "code",
      "metadata": {
        "id": "LQKokWhOHzx8"
      },
      "source": [
        "#test!!-random forest\n",
        "clf=RandomForestClassifier(n_estimators=13)\n",
        "clf.fit(train_data,target)\n",
        "test_data=test.drop(['사업장명','인허가분기','영업상태코드'], axis=1).copy()\n",
        "prediction=clf.predict(test_data)"
      ],
      "execution_count": 158,
      "outputs": []
    },
    {
      "cell_type": "code",
      "metadata": {
        "id": "9zJCuiIXJj8t"
      },
      "source": [
        "submission=pd.DataFrame({'사업장명':test['사업장명'],\"Survived\":prediction})\n",
        "submission.to_csv('/content/drive/My Drive/Colab Notebooks/data/submission_inheo.csv',index=False)\n",
        "\n"
      ],
      "execution_count": 159,
      "outputs": []
    },
    {
      "cell_type": "code",
      "metadata": {
        "colab": {
          "base_uri": "https://localhost:8080/",
          "height": 204
        },
        "id": "wZVtQEBXJqY6",
        "outputId": "7de9d17b-b758-48a5-ca43-45b0516afb89"
      },
      "source": [
        "submission=pd.read_csv('/content/drive/My Drive/Colab Notebooks/data/submission_inheo.csv')\n",
        "submission.head()"
      ],
      "execution_count": 160,
      "outputs": [
        {
          "output_type": "execute_result",
          "data": {
            "text/html": [
              "<div>\n",
              "<style scoped>\n",
              "    .dataframe tbody tr th:only-of-type {\n",
              "        vertical-align: middle;\n",
              "    }\n",
              "\n",
              "    .dataframe tbody tr th {\n",
              "        vertical-align: top;\n",
              "    }\n",
              "\n",
              "    .dataframe thead th {\n",
              "        text-align: right;\n",
              "    }\n",
              "</style>\n",
              "<table border=\"1\" class=\"dataframe\">\n",
              "  <thead>\n",
              "    <tr style=\"text-align: right;\">\n",
              "      <th></th>\n",
              "      <th>사업장명</th>\n",
              "      <th>Survived</th>\n",
              "    </tr>\n",
              "  </thead>\n",
              "  <tbody>\n",
              "    <tr>\n",
              "      <th>0</th>\n",
              "      <td>옥</td>\n",
              "      <td>2</td>\n",
              "    </tr>\n",
              "    <tr>\n",
              "      <th>1</th>\n",
              "      <td>미성</td>\n",
              "      <td>2</td>\n",
              "    </tr>\n",
              "    <tr>\n",
              "      <th>2</th>\n",
              "      <td>타임</td>\n",
              "      <td>2</td>\n",
              "    </tr>\n",
              "    <tr>\n",
              "      <th>3</th>\n",
              "      <td>옥수</td>\n",
              "      <td>2</td>\n",
              "    </tr>\n",
              "    <tr>\n",
              "      <th>4</th>\n",
              "      <td>한성</td>\n",
              "      <td>2</td>\n",
              "    </tr>\n",
              "  </tbody>\n",
              "</table>\n",
              "</div>"
            ],
            "text/plain": [
              "  사업장명  Survived\n",
              "0    옥         2\n",
              "1   미성         2\n",
              "2   타임         2\n",
              "3   옥수         2\n",
              "4   한성         2"
            ]
          },
          "metadata": {
            "tags": []
          },
          "execution_count": 160
        }
      ]
    },
    {
      "cell_type": "code",
      "metadata": {
        "colab": {
          "base_uri": "https://localhost:8080/"
        },
        "id": "EpgoGdADKmPh",
        "outputId": "9dd2d1c3-7ab9-451b-8a17-10caf2201e9b"
      },
      "source": [
        "submission.info()"
      ],
      "execution_count": 161,
      "outputs": [
        {
          "output_type": "stream",
          "text": [
            "<class 'pandas.core.frame.DataFrame'>\n",
            "RangeIndex: 10764 entries, 0 to 10763\n",
            "Data columns (total 2 columns):\n",
            " #   Column    Non-Null Count  Dtype \n",
            "---  ------    --------------  ----- \n",
            " 0   사업장명      10764 non-null  object\n",
            " 1   Survived  10764 non-null  int64 \n",
            "dtypes: int64(1), object(1)\n",
            "memory usage: 168.3+ KB\n"
          ],
          "name": "stdout"
        }
      ]
    },
    {
      "cell_type": "code",
      "metadata": {
        "colab": {
          "base_uri": "https://localhost:8080/"
        },
        "id": "KxHzuszoLFkx",
        "outputId": "4362968b-2d97-4e1e-920b-6dcadbe5aa7a"
      },
      "source": [
        "test.info()"
      ],
      "execution_count": 162,
      "outputs": [
        {
          "output_type": "stream",
          "text": [
            "<class 'pandas.core.frame.DataFrame'>\n",
            "Int64Index: 10764 entries, 0 to 14330\n",
            "Data columns (total 11 columns):\n",
            " #   Column      Non-Null Count  Dtype  \n",
            "---  ------      --------------  -----  \n",
            " 0   Unnamed: 0  10764 non-null  int64  \n",
            " 1   년도          10764 non-null  float64\n",
            " 2   영업상태코드      10764 non-null  int64  \n",
            " 3   사업장명        10764 non-null  object \n",
            " 4   규모분기        10764 non-null  int64  \n",
            " 5   인허가분기       10764 non-null  int64  \n",
            " 6   폐업분기        10764 non-null  int64  \n",
            " 7   총층수         10764 non-null  int64  \n",
            " 8   영업기간분기      10764 non-null  float64\n",
            " 9   층_01        10764 non-null  int64  \n",
            " 10  구_1_25      10764 non-null  float64\n",
            "dtypes: float64(3), int64(7), object(1)\n",
            "memory usage: 1009.1+ KB\n"
          ],
          "name": "stdout"
        }
      ]
    },
    {
      "cell_type": "code",
      "metadata": {
        "id": "5yuLwjpzLHFy"
      },
      "source": [
        "sub=pd.DataFrame(submission['Survived'])\n",
        "testy=pd.DataFrame(test['영업상태코드'])"
      ],
      "execution_count": 170,
      "outputs": []
    },
    {
      "cell_type": "code",
      "metadata": {
        "colab": {
          "base_uri": "https://localhost:8080/",
          "height": 567
        },
        "id": "YbwHXSkUL8eJ",
        "outputId": "597ad854-3229-45cc-ca43-090bff0f9b60"
      },
      "source": [
        "'''\n",
        "wrong=0\n",
        "right=0\n",
        "for i in range(1,10764):\n",
        "  if sub[i]==testy[i]:\n",
        "    right=right+1\n",
        "  else:\n",
        "    wrong=wrong+1\n",
        "print(\"Your score is : \",right/(right+wrong))\n",
        "'''\n",
        "sub.info()\n",
        "sub"
      ],
      "execution_count": 171,
      "outputs": [
        {
          "output_type": "stream",
          "text": [
            "<class 'pandas.core.frame.DataFrame'>\n",
            "RangeIndex: 10764 entries, 0 to 10763\n",
            "Data columns (total 1 columns):\n",
            " #   Column    Non-Null Count  Dtype\n",
            "---  ------    --------------  -----\n",
            " 0   Survived  10764 non-null  int64\n",
            "dtypes: int64(1)\n",
            "memory usage: 84.2 KB\n"
          ],
          "name": "stdout"
        },
        {
          "output_type": "execute_result",
          "data": {
            "text/html": [
              "<div>\n",
              "<style scoped>\n",
              "    .dataframe tbody tr th:only-of-type {\n",
              "        vertical-align: middle;\n",
              "    }\n",
              "\n",
              "    .dataframe tbody tr th {\n",
              "        vertical-align: top;\n",
              "    }\n",
              "\n",
              "    .dataframe thead th {\n",
              "        text-align: right;\n",
              "    }\n",
              "</style>\n",
              "<table border=\"1\" class=\"dataframe\">\n",
              "  <thead>\n",
              "    <tr style=\"text-align: right;\">\n",
              "      <th></th>\n",
              "      <th>Survived</th>\n",
              "    </tr>\n",
              "  </thead>\n",
              "  <tbody>\n",
              "    <tr>\n",
              "      <th>0</th>\n",
              "      <td>2</td>\n",
              "    </tr>\n",
              "    <tr>\n",
              "      <th>1</th>\n",
              "      <td>2</td>\n",
              "    </tr>\n",
              "    <tr>\n",
              "      <th>2</th>\n",
              "      <td>2</td>\n",
              "    </tr>\n",
              "    <tr>\n",
              "      <th>3</th>\n",
              "      <td>2</td>\n",
              "    </tr>\n",
              "    <tr>\n",
              "      <th>4</th>\n",
              "      <td>2</td>\n",
              "    </tr>\n",
              "    <tr>\n",
              "      <th>...</th>\n",
              "      <td>...</td>\n",
              "    </tr>\n",
              "    <tr>\n",
              "      <th>10759</th>\n",
              "      <td>1</td>\n",
              "    </tr>\n",
              "    <tr>\n",
              "      <th>10760</th>\n",
              "      <td>1</td>\n",
              "    </tr>\n",
              "    <tr>\n",
              "      <th>10761</th>\n",
              "      <td>1</td>\n",
              "    </tr>\n",
              "    <tr>\n",
              "      <th>10762</th>\n",
              "      <td>1</td>\n",
              "    </tr>\n",
              "    <tr>\n",
              "      <th>10763</th>\n",
              "      <td>1</td>\n",
              "    </tr>\n",
              "  </tbody>\n",
              "</table>\n",
              "<p>10764 rows × 1 columns</p>\n",
              "</div>"
            ],
            "text/plain": [
              "       Survived\n",
              "0             2\n",
              "1             2\n",
              "2             2\n",
              "3             2\n",
              "4             2\n",
              "...         ...\n",
              "10759         1\n",
              "10760         1\n",
              "10761         1\n",
              "10762         1\n",
              "10763         1\n",
              "\n",
              "[10764 rows x 1 columns]"
            ]
          },
          "metadata": {
            "tags": []
          },
          "execution_count": 171
        }
      ]
    },
    {
      "cell_type": "code",
      "metadata": {
        "colab": {
          "base_uri": "https://localhost:8080/",
          "height": 420
        },
        "id": "_xKDA-2hO77V",
        "outputId": "1d4b8a9d-bc2f-4426-b9de-a9ef8cc2075f"
      },
      "source": [
        "testy=testy[:10764]\n",
        "testy=testy.reset_index(drop=True)\n",
        "testy"
      ],
      "execution_count": 172,
      "outputs": [
        {
          "output_type": "execute_result",
          "data": {
            "text/html": [
              "<div>\n",
              "<style scoped>\n",
              "    .dataframe tbody tr th:only-of-type {\n",
              "        vertical-align: middle;\n",
              "    }\n",
              "\n",
              "    .dataframe tbody tr th {\n",
              "        vertical-align: top;\n",
              "    }\n",
              "\n",
              "    .dataframe thead th {\n",
              "        text-align: right;\n",
              "    }\n",
              "</style>\n",
              "<table border=\"1\" class=\"dataframe\">\n",
              "  <thead>\n",
              "    <tr style=\"text-align: right;\">\n",
              "      <th></th>\n",
              "      <th>영업상태코드</th>\n",
              "    </tr>\n",
              "  </thead>\n",
              "  <tbody>\n",
              "    <tr>\n",
              "      <th>0</th>\n",
              "      <td>2</td>\n",
              "    </tr>\n",
              "    <tr>\n",
              "      <th>1</th>\n",
              "      <td>2</td>\n",
              "    </tr>\n",
              "    <tr>\n",
              "      <th>2</th>\n",
              "      <td>2</td>\n",
              "    </tr>\n",
              "    <tr>\n",
              "      <th>3</th>\n",
              "      <td>2</td>\n",
              "    </tr>\n",
              "    <tr>\n",
              "      <th>4</th>\n",
              "      <td>2</td>\n",
              "    </tr>\n",
              "    <tr>\n",
              "      <th>...</th>\n",
              "      <td>...</td>\n",
              "    </tr>\n",
              "    <tr>\n",
              "      <th>10759</th>\n",
              "      <td>1</td>\n",
              "    </tr>\n",
              "    <tr>\n",
              "      <th>10760</th>\n",
              "      <td>1</td>\n",
              "    </tr>\n",
              "    <tr>\n",
              "      <th>10761</th>\n",
              "      <td>2</td>\n",
              "    </tr>\n",
              "    <tr>\n",
              "      <th>10762</th>\n",
              "      <td>1</td>\n",
              "    </tr>\n",
              "    <tr>\n",
              "      <th>10763</th>\n",
              "      <td>1</td>\n",
              "    </tr>\n",
              "  </tbody>\n",
              "</table>\n",
              "<p>10764 rows × 1 columns</p>\n",
              "</div>"
            ],
            "text/plain": [
              "       영업상태코드\n",
              "0           2\n",
              "1           2\n",
              "2           2\n",
              "3           2\n",
              "4           2\n",
              "...       ...\n",
              "10759       1\n",
              "10760       1\n",
              "10761       2\n",
              "10762       1\n",
              "10763       1\n",
              "\n",
              "[10764 rows x 1 columns]"
            ]
          },
          "metadata": {
            "tags": []
          },
          "execution_count": 172
        }
      ]
    },
    {
      "cell_type": "code",
      "metadata": {
        "colab": {
          "base_uri": "https://localhost:8080/",
          "height": 420
        },
        "id": "vKC71EQINYUB",
        "outputId": "8b54deae-2752-459f-b0f1-9c411fc770c1"
      },
      "source": [
        "df=pd.concat([sub, testy],axis=1)\n",
        "df"
      ],
      "execution_count": 185,
      "outputs": [
        {
          "output_type": "execute_result",
          "data": {
            "text/html": [
              "<div>\n",
              "<style scoped>\n",
              "    .dataframe tbody tr th:only-of-type {\n",
              "        vertical-align: middle;\n",
              "    }\n",
              "\n",
              "    .dataframe tbody tr th {\n",
              "        vertical-align: top;\n",
              "    }\n",
              "\n",
              "    .dataframe thead th {\n",
              "        text-align: right;\n",
              "    }\n",
              "</style>\n",
              "<table border=\"1\" class=\"dataframe\">\n",
              "  <thead>\n",
              "    <tr style=\"text-align: right;\">\n",
              "      <th></th>\n",
              "      <th>Survived</th>\n",
              "      <th>영업상태코드</th>\n",
              "    </tr>\n",
              "  </thead>\n",
              "  <tbody>\n",
              "    <tr>\n",
              "      <th>0</th>\n",
              "      <td>2</td>\n",
              "      <td>2</td>\n",
              "    </tr>\n",
              "    <tr>\n",
              "      <th>1</th>\n",
              "      <td>2</td>\n",
              "      <td>2</td>\n",
              "    </tr>\n",
              "    <tr>\n",
              "      <th>2</th>\n",
              "      <td>2</td>\n",
              "      <td>2</td>\n",
              "    </tr>\n",
              "    <tr>\n",
              "      <th>3</th>\n",
              "      <td>2</td>\n",
              "      <td>2</td>\n",
              "    </tr>\n",
              "    <tr>\n",
              "      <th>4</th>\n",
              "      <td>2</td>\n",
              "      <td>2</td>\n",
              "    </tr>\n",
              "    <tr>\n",
              "      <th>...</th>\n",
              "      <td>...</td>\n",
              "      <td>...</td>\n",
              "    </tr>\n",
              "    <tr>\n",
              "      <th>10759</th>\n",
              "      <td>1</td>\n",
              "      <td>1</td>\n",
              "    </tr>\n",
              "    <tr>\n",
              "      <th>10760</th>\n",
              "      <td>1</td>\n",
              "      <td>1</td>\n",
              "    </tr>\n",
              "    <tr>\n",
              "      <th>10761</th>\n",
              "      <td>1</td>\n",
              "      <td>2</td>\n",
              "    </tr>\n",
              "    <tr>\n",
              "      <th>10762</th>\n",
              "      <td>1</td>\n",
              "      <td>1</td>\n",
              "    </tr>\n",
              "    <tr>\n",
              "      <th>10763</th>\n",
              "      <td>1</td>\n",
              "      <td>1</td>\n",
              "    </tr>\n",
              "  </tbody>\n",
              "</table>\n",
              "<p>10764 rows × 2 columns</p>\n",
              "</div>"
            ],
            "text/plain": [
              "       Survived  영업상태코드\n",
              "0             2       2\n",
              "1             2       2\n",
              "2             2       2\n",
              "3             2       2\n",
              "4             2       2\n",
              "...         ...     ...\n",
              "10759         1       1\n",
              "10760         1       1\n",
              "10761         1       2\n",
              "10762         1       1\n",
              "10763         1       1\n",
              "\n",
              "[10764 rows x 2 columns]"
            ]
          },
          "metadata": {
            "tags": []
          },
          "execution_count": 185
        }
      ]
    },
    {
      "cell_type": "code",
      "metadata": {
        "id": "tiVpDej1Onn7"
      },
      "source": [
        "df['scorey']=df['Survived']==df['영업상태코드']"
      ],
      "execution_count": 186,
      "outputs": []
    },
    {
      "cell_type": "code",
      "metadata": {
        "colab": {
          "base_uri": "https://localhost:8080/"
        },
        "id": "k8e0Mr9MRIMK",
        "outputId": "4763f144-d79f-445a-a6dd-4a1e8db3e30a"
      },
      "source": [
        "df['scorey'].value_counts()"
      ],
      "execution_count": 190,
      "outputs": [
        {
          "output_type": "execute_result",
          "data": {
            "text/plain": [
              "True     10303\n",
              "False      461\n",
              "Name: scorey, dtype: int64"
            ]
          },
          "metadata": {
            "tags": []
          },
          "execution_count": 190
        }
      ]
    },
    {
      "cell_type": "code",
      "metadata": {
        "colab": {
          "base_uri": "https://localhost:8080/"
        },
        "id": "sxGGkR_wRMql",
        "outputId": "78b23bf1-4b4b-4bae-f8ba-b05e07abd836"
      },
      "source": [
        "print(\"제 점수는 : \",10303/10763*100)"
      ],
      "execution_count": 191,
      "outputs": [
        {
          "output_type": "stream",
          "text": [
            "제 점수는 :  95.72609867137415\n"
          ],
          "name": "stdout"
        }
      ]
    },
    {
      "cell_type": "code",
      "metadata": {
        "id": "HZABUHK6R0QJ"
      },
      "source": [
        ""
      ],
      "execution_count": null,
      "outputs": []
    }
  ]
}